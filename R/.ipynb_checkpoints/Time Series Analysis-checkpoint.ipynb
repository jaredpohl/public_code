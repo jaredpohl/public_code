{
 "cells": [
  {
   "cell_type": "code",
   "execution_count": 1,
   "metadata": {
    "collapsed": true
   },
   "outputs": [
    {
     "name": "stderr",
     "output_type": "stream",
     "text": [
      "Loading required package: xts\n",
      "Loading required package: zoo\n",
      "\n",
      "Attaching package: 'zoo'\n",
      "\n",
      "The following objects are masked from 'package:base':\n",
      "\n",
      "    as.Date, as.Date.numeric\n",
      "\n",
      "IBrokers version 0.9-10.  Implementing API Version 9.64\n",
      "\n",
      "IBrokers comes with NO WARRANTY.  Not intended for production use!\n",
      "\n",
      "\n",
      "See ?IBrokers for details.\n",
      "\n",
      "Attaching package: 'lubridate'\n",
      "\n",
      "The following object is masked from 'package:base':\n",
      "\n",
      "    date\n",
      "\n",
      "\n",
      "Attaching package: 'plyr'\n",
      "\n",
      "The following object is masked from 'package:lubridate':\n",
      "\n",
      "    here\n",
      "\n"
     ]
    },
    {
     "data": {
      "text/html": [
       "<dl class=dl-horizontal>\n",
       "\t<dt>a</dt>\n",
       "\t\t<dd>1</dd>\n",
       "\t<dt>b</dt>\n",
       "\t\t<dd>2</dd>\n",
       "\t<dt>c</dt>\n",
       "\t\t<dd>3</dd>\n",
       "\t<dt>d</dt>\n",
       "\t\t<dd>4</dd>\n",
       "\t<dt>e</dt>\n",
       "\t\t<dd>5</dd>\n",
       "</dl>\n"
      ],
      "text/latex": [
       "\\begin{description*}\n",
       "\\item[a] 1\n",
       "\\item[b] 2\n",
       "\\item[c] 3\n",
       "\\item[d] 4\n",
       "\\item[e] 5\n",
       "\\end{description*}\n"
      ],
      "text/markdown": [
       "a\n",
       ":   1b\n",
       ":   2c\n",
       ":   3d\n",
       ":   4e\n",
       ":   5\n",
       "\n"
      ],
      "text/plain": [
       "a b c d e \n",
       "1 2 3 4 5 "
      ]
     },
     "metadata": {},
     "output_type": "display_data"
    },
    {
     "data": {
      "text/html": [
       "<strong>c:</strong> 3"
      ],
      "text/latex": [
       "\\textbf{c:} 3"
      ],
      "text/markdown": [
       "**c:** 3"
      ],
      "text/plain": [
       "c \n",
       "3 "
      ]
     },
     "metadata": {},
     "output_type": "display_data"
    },
    {
     "data": {
      "text/html": [
       "<strong>NA:</strong> &lt;NA&gt;"
      ],
      "text/latex": [
       "\\textbf{NA:} <NA>"
      ],
      "text/markdown": [
       "**NA:** &lt;NA&gt;"
      ],
      "text/plain": [
       "<NA> \n",
       "  NA "
      ]
     },
     "metadata": {},
     "output_type": "display_data"
    }
   ],
   "source": [
    "# ------> make sure you have installed the package before loading it <------- #\n",
    "# e.g. if you want to install package xyz, then run install.packages(\"xyz\") \n",
    "library(IBrokers)\n",
    "library(xts) # installed by IBrokers\n",
    "library(lubridate)\n",
    "library(plyr)\n",
    "library(forecast)\n",
    "library(tseries) # installed by forecast\n",
    "library(ggplot2) # installed by forecast\n",
    "\n",
    "#########################################################################################\n",
    "############################## BASICS IN R ###############################################\n",
    "##########################################################################################\n",
    "\n",
    "# begin with a fresh start\n",
    "rm(list = ls())\n",
    "\n",
    "x <- 1:5\n",
    "names(x) <- letters[1:5] # assign names to x\n",
    "x\n",
    "x[\"c\"] # pull any name\n",
    "x[\"z\"] # unavailable"
   ]
  },
  {
   "cell_type": "markdown",
   "metadata": {},
   "source": [
    "## XTS Package\n",
    "Used for time series manipulation"
   ]
  },
  {
   "cell_type": "code",
   "execution_count": 10,
   "metadata": {},
   "outputs": [
    {
     "data": {
      "text/plain": [
       "                [,1]\n",
       "2017-08-10 0.5543269"
      ]
     },
     "metadata": {},
     "output_type": "display_data"
    },
    {
     "data": {
      "text/plain": [
       "                  [,1]\n",
       "2017-05-03  0.85663511\n",
       "2017-05-04  0.06722356\n",
       "2017-05-05  0.21383426\n",
       "2017-05-06 -1.22542595\n",
       "2017-05-07 -0.25557803\n",
       "2017-05-08 -1.41613295\n",
       "2017-05-09 -1.36430159\n",
       "2017-05-10 -1.21377810\n",
       "2017-05-11 -0.56550536\n",
       "2017-05-12  0.37989570\n",
       "2017-05-13  1.00406897\n",
       "2017-05-14  1.60212039\n",
       "2017-05-15 -1.08276971\n",
       "2017-05-16  0.39251449\n",
       "2017-05-17 -0.08248357\n",
       "2017-05-18  1.38851305\n",
       "2017-05-19 -1.99687548\n",
       "2017-05-20 -1.19435471\n",
       "2017-05-21  0.29751322\n",
       "2017-05-22 -0.07606216\n",
       "2017-05-23  0.45027946\n",
       "2017-05-24  0.44243942\n",
       "2017-05-25 -0.39869853\n",
       "2017-05-26  1.74542691\n",
       "2017-05-27 -1.17737519\n",
       "2017-05-28  0.10715648\n",
       "2017-05-29 -1.90767369\n",
       "2017-05-30 -0.51669734\n",
       "2017-05-31 -0.06144699\n",
       "2017-06-01 -1.08680215\n",
       "2017-06-02 -0.23944276\n",
       "2017-06-03  1.14382456\n",
       "2017-06-04  1.15036548\n",
       "2017-06-05 -0.57389450\n",
       "2017-06-06 -0.92052508\n",
       "2017-06-07  1.01306586\n",
       "2017-06-08 -0.88892233\n",
       "2017-06-09 -0.14780711\n",
       "2017-06-10  0.29827174\n",
       "2017-06-11 -1.26157415\n",
       "2017-06-12  0.69967564\n",
       "2017-06-13  1.48369123\n",
       "2017-06-14  0.82651036\n",
       "2017-06-15 -0.84047613\n",
       "2017-06-16 -0.29782822\n",
       "2017-06-17  0.23436199\n",
       "2017-06-18 -0.54619076\n",
       "2017-06-19 -0.34901841\n",
       "2017-06-20  0.75552507\n",
       "2017-06-21  0.27312919\n",
       "2017-06-22  1.40835367\n",
       "2017-06-23  0.27714729\n",
       "2017-06-24 -1.93781553\n",
       "2017-06-25 -1.02333900\n",
       "2017-06-26 -0.72610140\n",
       "2017-06-27 -0.46865016\n",
       "2017-06-28  1.61447949\n",
       "2017-06-29  0.56649488\n",
       "2017-06-30  1.59003353\n",
       "2017-07-01  0.10034035\n",
       "2017-07-02 -0.84697075\n",
       "2017-07-03 -0.86277540\n",
       "2017-07-04 -0.24153755\n",
       "2017-07-05 -0.33286731\n",
       "2017-07-06 -0.60574161\n",
       "2017-07-07 -0.27322596\n",
       "2017-07-08 -0.52651151\n",
       "2017-07-09 -0.38349150\n",
       "2017-07-10  0.84779738\n",
       "2017-07-11 -0.00821067\n",
       "2017-07-12 -0.72814372\n",
       "2017-07-13 -1.05695776\n",
       "2017-07-14 -2.02704380\n",
       "2017-07-15 -1.45931685\n",
       "2017-07-16  0.14935453\n",
       "2017-07-17  0.62018413\n",
       "2017-07-18 -1.04541013\n",
       "2017-07-19  0.35740242\n",
       "2017-07-20  1.83616330\n",
       "2017-07-21  0.26254267\n",
       "2017-07-22  0.70222523\n",
       "2017-07-23 -0.11443881\n",
       "2017-07-24  0.10066325\n",
       "2017-07-25  1.39643151\n",
       "2017-07-26 -0.19394690\n",
       "2017-07-27 -0.43985541\n",
       "2017-07-28 -1.85602715\n",
       "2017-07-29 -1.36098453\n",
       "2017-07-30  0.46187091\n",
       "2017-07-31 -1.09359397\n",
       "2017-08-01  1.10514427\n",
       "2017-08-02 -0.36538277\n",
       "2017-08-03  0.23667967\n",
       "2017-08-04  1.22950656\n",
       "2017-08-05  0.41552613\n",
       "2017-08-06  1.14252615\n",
       "2017-08-07  0.18732012\n",
       "2017-08-08  1.77516337\n",
       "2017-08-09 -0.28027194\n",
       "2017-08-10  0.55432694"
      ]
     },
     "metadata": {},
     "output_type": "display_data"
    },
    {
     "data": {},
     "metadata": {},
     "output_type": "display_data"
    },
    {
     "data": {
      "image/png": "[encoded data removed]",
      "text/plain": [
       "plot without title"
      ]
     },
     "metadata": {},
     "output_type": "display_data"
    }
   ],
   "source": [
    "n <- 100\n",
    "set.seed(13)\n",
    "x <- rnorm(n) ##generate values\n",
    "date_labels <- date(today()) - 0:(n-1)  ##generate dates\n",
    "names(x) <- as.character(date(today()) - 0:(n-1))\n",
    "x <- as.xts(x)\n",
    "x[today(),]\n",
    "x\n",
    "plot(x)"
   ]
  },
  {
   "cell_type": "code",
   "execution_count": 13,
   "metadata": {},
   "outputs": [
    {
     "data": {
      "text/html": [
       "<time datetime=\"2017-08-09\">2017-08-09</time>"
      ],
      "text/latex": [
       "2017-08-09"
      ],
      "text/markdown": [
       "2017-08-09"
      ],
      "text/plain": [
       "[1] \"2017-08-09\""
      ]
     },
     "metadata": {},
     "output_type": "display_data"
    },
    {
     "data": {
      "text/plain": [
       "               [,1]\n",
       "2017-05-31 1.745427\n",
       "2017-06-30 1.614479\n",
       "2017-07-31 1.836163\n",
       "2017-08-10 1.775163"
      ]
     },
     "metadata": {},
     "output_type": "display_data"
    },
    {
     "data": {
      "text/plain": [
       "               [,1]\n",
       "2017-06-30 1.745427\n",
       "2017-08-10 1.836163"
      ]
     },
     "metadata": {},
     "output_type": "display_data"
    },
    {
     "data": {
      "text/plain": [
       "                  [,1]\n",
       "2017-06-30 -0.06136022\n",
       "2017-08-10 -0.06998489"
      ]
     },
     "metadata": {},
     "output_type": "display_data"
    }
   ],
   "source": [
    "# note date that\n",
    "today() - 1 # returns yesterday's date\n",
    "\n",
    "# there is special apply functions for xts items\n",
    "apply.monthly(x,max) # returns the max value of the month\n",
    "apply.quarterly(x,max) #  returns the max value of the quarter\n",
    "\n",
    "# as before we can use generalized functions\n",
    "apply.quarterly(x, function(y)  mean(y)/sd(y)  )"
   ]
  },
  {
   "cell_type": "markdown",
   "metadata": {},
   "source": [
    "## Time Series in Data.Frame"
   ]
  },
  {
   "cell_type": "code",
   "execution_count": 15,
   "metadata": {},
   "outputs": [
    {
     "ename": "ERROR",
     "evalue": "Error in as.POSIXlt.default(x, tz = tz(x)): do not know how to convert 'x' to class \"POSIXlt\"\n",
     "output_type": "error",
     "traceback": [
      "Error in as.POSIXlt.default(x, tz = tz(x)): do not know how to convert 'x' to class \"POSIXlt\"\nTraceback:\n",
      "1. data.frame(Date = date(x), x = x[, 1])",
      "2. date(x)",
      "3. date.default(x)",
      "4. as.POSIXlt(x, tz = tz(x))",
      "5. as.POSIXlt.default(x, tz = tz(x))",
      "6. stop(gettextf(\"do not know how to convert '%s' to class %s\", \n .     deparse(substitute(x)), dQuote(\"POSIXlt\")), domain = NA)"
     ]
    }
   ],
   "source": [
    "x <- data.frame(Date = date(x), x = x[,1])\n",
    "rownames(x) <- NULL\n",
    "summary(x)\n",
    "# add year and month variables\n",
    "x$Y <- year(x$Date); x$M <- month(x$Date);\n",
    "\n",
    "# max value over month\n",
    "max_month_x <- ddply(x,c(\"Y\",\"M\"), function(z) data.frame( max_x = max(z$x) ) )\n",
    "names(max_month_x)\n",
    "\n",
    "# we can merge it back to the original data\n",
    "x <- merge(x,max_month_x,c(\"Y\",\"M\"))\n",
    "head(x)\n",
    "\n",
    "# look at difference from max\n",
    "x$x_max_diff <- x$max_x - x$x\n",
    "\n",
    "# plot x versus such difference\n",
    "plot(x ~ Date, data = x, type = \"l\", ylim = range(c(x,max_x,x_max_diff)))\n",
    "lines(x_max_diff ~ Date, data = x, col = 2)\n",
    "lines(max_x ~ Date, data = x, lty = 2)\n"
   ]
  },
  {
   "cell_type": "code",
   "execution_count": 31,
   "metadata": {},
   "outputs": [
    {
     "data": {
      "text/html": [
       "TRUE"
      ],
      "text/latex": [
       "TRUE"
      ],
      "text/markdown": [
       "TRUE"
      ],
      "text/plain": [
       "[1] TRUE"
      ]
     },
     "metadata": {},
     "output_type": "display_data"
    },
    {
     "name": "stdout",
     "output_type": "stream",
     "text": [
      "TWS Message: 2 -1 2100 API client has been unsubscribed from account data. \n",
      "waiting for TWS reply on AAPL .... done.\n"
     ]
    },
    {
     "name": "stderr",
     "output_type": "stream",
     "text": [
      "Warning message in is.na(strptime(xx, f <- \"%Y-%m-%d %H:%M:%OS\", tz = tz)):\n",
      "\"closing unused connection 5 (->localhost:7496)\"Warning message in is.na(strptime(xx, f <- \"%Y-%m-%d %H:%M:%OS\", tz = tz)):\n",
      "\"closing unused connection 4 (->localhost:7496)\""
     ]
    },
    {
     "data": {
      "text/plain": [
       "                    AAPL.Open AAPL.High AAPL.Low AAPL.Close AAPL.Volume\n",
       "2016-08-11 06:30:00    108.55    108.79   108.51     108.62       14954\n",
       "2016-08-11 06:35:00    108.62    108.93   108.62     108.86        9103\n",
       "2016-08-11 06:40:00    108.86    108.93   108.80     108.85        5944\n",
       "2016-08-11 06:45:00    108.85    108.93   108.75     108.77        3496\n",
       "2016-08-11 06:50:00    108.78    108.86   108.69     108.77        4271\n",
       "2016-08-11 06:55:00    108.77    108.78   108.54     108.56        3452\n",
       "                    AAPL.WAP AAPL.hasGaps AAPL.Count\n",
       "2016-08-11 06:30:00  108.598            0       3915\n",
       "2016-08-11 06:35:00  108.804            0       4073\n",
       "2016-08-11 06:40:00  108.873            0       3281\n",
       "2016-08-11 06:45:00  108.826            0       1937\n",
       "2016-08-11 06:50:00  108.769            0       2386\n",
       "2016-08-11 06:55:00  108.680            0       2089"
      ]
     },
     "metadata": {},
     "output_type": "display_data"
    }
   ],
   "source": [
    "#########################################################################################\n",
    "############################## USING THE IB API ###############################################\n",
    "##########################################################################################\n",
    "# fresh start again\n",
    "rm(list = ls())\n",
    "\n",
    "# make sure you are connected to the IB API\n",
    "tws <- twsConnect()\n",
    "isConnected(tws) # should be true\n",
    "ac <- reqAccountUpdates(tws) # requests account details\n",
    "security <- twsSTK(\"AAPL\") # choose security of interest\n",
    "#is.twsContract(security) # make sure it is identified\n",
    "P <- reqHistoricalData(tws,security, barSize = '5 mins',duration = \"1 Y\")\n",
    "head(P)\n",
    "# look at the last data from today\n",
    "tail(P[date(P) == today(),])"
   ]
  },
  {
   "cell_type": "code",
   "execution_count": null,
   "metadata": {
    "collapsed": true
   },
   "outputs": [],
   "source": [
    "## "
   ]
  },
  {
   "cell_type": "code",
   "execution_count": 40,
   "metadata": {},
   "outputs": [
    {
     "data": {
      "text/html": [
       "TRUE"
      ],
      "text/latex": [
       "TRUE"
      ],
      "text/markdown": [
       "TRUE"
      ],
      "text/plain": [
       "[1] TRUE"
      ]
     },
     "metadata": {},
     "output_type": "display_data"
    },
    {
     "data": {
      "text/html": [
       "<ol class=list-inline>\n",
       "\t<li>TRUE</li>\n",
       "\t<li>TRUE</li>\n",
       "\t<li>TRUE</li>\n",
       "</ol>\n"
      ],
      "text/latex": [
       "\\begin{enumerate*}\n",
       "\\item TRUE\n",
       "\\item TRUE\n",
       "\\item TRUE\n",
       "\\end{enumerate*}\n"
      ],
      "text/markdown": [
       "1. TRUE\n",
       "2. TRUE\n",
       "3. TRUE\n",
       "\n",
       "\n"
      ],
      "text/plain": [
       "[1] TRUE TRUE TRUE"
      ]
     },
     "metadata": {},
     "output_type": "display_data"
    },
    {
     "name": "stdout",
     "output_type": "stream",
     "text": [
      "TWS Message: 2 -1 2104 Market data farm connection is OK:usfuture \n",
      "TWS Message: 2 -1 2104 Market data farm connection is OK:usfarm.us \n",
      "TWS Message: 2 -1 2104 Market data farm connection is OK:usfarm \n",
      "TWS Message: 2 -1 2106 HMDS data farm connection is OK:ilhmds \n",
      "TWS Message: 2 -1 2106 HMDS data farm connection is OK:euhmds \n",
      "TWS Message: 2 -1 2106 HMDS data farm connection is OK:fundfarm \n",
      "TWS Message: 2 -1 2106 HMDS data farm connection is OK:ushmds \n",
      "waiting for TWS reply on AAPL .... done.\n",
      "waiting for TWS reply on TSLA .... done.\n",
      "waiting for TWS reply on GOOG .... done.\n"
     ]
    },
    {
     "data": {
      "text/html": [
       "FALSE"
      ],
      "text/latex": [
       "FALSE"
      ],
      "text/markdown": [
       "FALSE"
      ],
      "text/plain": [
       "[1] FALSE"
      ]
     },
     "metadata": {},
     "output_type": "display_data"
    },
    {
     "data": {
      "text/html": [
       "3"
      ],
      "text/latex": [
       "3"
      ],
      "text/markdown": [
       "3"
      ],
      "text/plain": [
       "[1] 3"
      ]
     },
     "metadata": {},
     "output_type": "display_data"
    },
    {
     "data": {
      "text/plain": [
       "                    AAPL.Open AAPL.High AAPL.Low AAPL.Close AAPL.Volume\n",
       "2016-08-12 06:30:00    107.78    108.24   107.77     108.20       12920\n",
       "2016-08-12 06:35:00    108.20    108.34   108.15     108.26        6727\n",
       "2016-08-12 06:40:00    108.25    108.40   108.24     108.32        4437\n",
       "2016-08-12 06:45:00    108.33    108.35   108.08     108.23        4091\n",
       "2016-08-12 06:50:00    108.23    108.29   108.17     108.20        3784\n",
       "2016-08-12 06:55:00    108.19    108.28   108.18     108.23        2643\n",
       "                    AAPL.WAP AAPL.hasGaps AAPL.Count\n",
       "2016-08-12 06:30:00  107.935            0       3503\n",
       "2016-08-12 06:35:00  108.240            0       3391\n",
       "2016-08-12 06:40:00  108.334            0       2357\n",
       "2016-08-12 06:45:00  108.214            0       2122\n",
       "2016-08-12 06:50:00  108.230            0       1958\n",
       "2016-08-12 06:55:00  108.219            0       1419"
      ]
     },
     "metadata": {},
     "output_type": "display_data"
    },
    {
     "data": {
      "text/plain": [
       "$AAPL\n",
       "     Index                          AAPL.Open       AAPL.High    \n",
       " Min.   :2016-08-12 06:30:00.00   Min.   :102.7   Min.   :103.3  \n",
       " 1st Qu.:2016-11-09 11:28:45.00   1st Qu.:113.9   1st Qu.:114.0  \n",
       " Median :2017-02-11 21:42:30.00   Median :133.0   Median :133.2  \n",
       " Mean   :2017-02-11 04:00:59.55   Mean   :130.3   Mean   :130.4  \n",
       " 3rd Qu.:2017-05-12 11:26:15.00   3rd Qu.:145.1   3rd Qu.:145.2  \n",
       " Max.   :2017-08-11 12:55:00.00   Max.   :161.7   Max.   :161.8  \n",
       "    AAPL.Low       AAPL.Close     AAPL.Volume        AAPL.WAP      AAPL.hasGaps\n",
       " Min.   :102.5   Min.   :103.1   Min.   :   339   Min.   :103.1   Min.   :0    \n",
       " 1st Qu.:113.8   1st Qu.:113.9   1st Qu.:  1406   1st Qu.:113.9   1st Qu.:0    \n",
       " Median :132.7   Median :133.1   Median :  2101   Median :133.0   Median :0    \n",
       " Mean   :130.3   Mean   :130.3   Mean   :  3052   Mean   :130.3   Mean   :0    \n",
       " 3rd Qu.:144.9   3rd Qu.:145.1   3rd Qu.:  3449   3rd Qu.:145.1   3rd Qu.:0    \n",
       " Max.   :161.5   Max.   :161.7   Max.   :106867   Max.   :161.7   Max.   :0    \n",
       "   AAPL.Count     \n",
       " Min.   :  219.0  \n",
       " 1st Qu.:  788.8  \n",
       " Median : 1151.0  \n",
       " Mean   : 1538.1  \n",
       " 3rd Qu.: 1814.0  \n",
       " Max.   :33320.0  \n",
       "\n",
       "$TSLA\n",
       "     Index                          TSLA.Open       TSLA.High    \n",
       " Min.   :2016-08-12 06:30:00.00   Min.   :178.6   Min.   :179.3  \n",
       " 1st Qu.:2016-11-09 11:07:30.00   1st Qu.:204.0   1st Qu.:204.2  \n",
       " Median :2017-02-13 07:10:00.00   Median :251.3   Median :251.6  \n",
       " Mean   :2017-02-11 04:47:07.11   Mean   :262.0   Mean   :262.3  \n",
       " 3rd Qu.:2017-05-12 11:47:30.00   3rd Qu.:312.7   3rd Qu.:313.2  \n",
       " Max.   :2017-08-11 12:55:00.00   Max.   :386.5   Max.   :387.0  \n",
       "    TSLA.Low       TSLA.Close     TSLA.Volume         TSLA.WAP    \n",
       " Min.   :178.2   Min.   :178.6   Min.   :    8.0   Min.   :178.7  \n",
       " 1st Qu.:203.7   1st Qu.:204.0   1st Qu.:  217.0   1st Qu.:204.0  \n",
       " Median :251.0   Median :251.3   Median :  380.0   Median :251.3  \n",
       " Mean   :261.6   Mean   :262.0   Mean   :  585.5   Mean   :262.0  \n",
       " 3rd Qu.:312.2   3rd Qu.:312.8   3rd Qu.:  697.5   3rd Qu.:312.7  \n",
       " Max.   :386.0   Max.   :386.5   Max.   :13172.0   Max.   :386.6  \n",
       "  TSLA.hasGaps   TSLA.Count    \n",
       " Min.   :0     Min.   :   3.0  \n",
       " 1st Qu.:0     1st Qu.: 129.0  \n",
       " Median :0     Median : 218.0  \n",
       " Mean   :0     Mean   : 324.7  \n",
       " 3rd Qu.:0     3rd Qu.: 385.0  \n",
       " Max.   :0     Max.   :6651.0  \n",
       "\n",
       "$GOOG\n",
       "     Index                          GOOG.Open       GOOG.High    \n",
       " Min.   :2016-08-12 06:30:00.00   Min.   :728.0   Min.   :729.4  \n",
       " 1st Qu.:2016-11-09 11:28:45.00   1st Qu.:781.7   1st Qu.:782.1  \n",
       " Median :2017-02-11 21:42:30.00   Median :819.5   Median :819.8  \n",
       " Mean   :2017-02-11 04:00:59.55   Mean   :840.8   Mean   :841.3  \n",
       " 3rd Qu.:2017-05-12 11:26:15.00   3rd Qu.:920.6   3rd Qu.:921.3  \n",
       " Max.   :2017-08-11 12:55:00.00   Max.   :987.6   Max.   :988.2  \n",
       "    GOOG.Low       GOOG.Close     GOOG.Volume        GOOG.WAP      GOOG.hasGaps\n",
       " Min.   :727.5   Min.   :728.0   Min.   :   2.0   Min.   :728.5   Min.   :0    \n",
       " 1st Qu.:781.1   1st Qu.:781.7   1st Qu.:  46.0   1st Qu.:781.7   1st Qu.:0    \n",
       " Median :819.1   Median :819.5   Median :  78.0   Median :819.4   Median :0    \n",
       " Mean   :840.2   Mean   :840.8   Mean   : 119.5   Mean   :840.8   Mean   :0    \n",
       " 3rd Qu.:919.7   3rd Qu.:920.5   3rd Qu.: 137.0   3rd Qu.:920.6   3rd Qu.:0    \n",
       " Max.   :987.1   Max.   :987.5   Max.   :5199.0   Max.   :987.7   Max.   :0    \n",
       "   GOOG.Count     \n",
       " Min.   :   2.00  \n",
       " 1st Qu.:  38.00  \n",
       " Median :  62.00  \n",
       " Mean   :  88.68  \n",
       " 3rd Qu.: 104.00  \n",
       " Max.   :1773.00  \n"
      ]
     },
     "metadata": {},
     "output_type": "display_data"
    },
    {
     "data": {
      "text/html": [
       "<dl class=dl-horizontal>\n",
       "\t<dt>AAPL</dt>\n",
       "\t\t<dd>19584</dd>\n",
       "\t<dt>TSLA</dt>\n",
       "\t\t<dd>19567</dd>\n",
       "\t<dt>GOOG</dt>\n",
       "\t\t<dd>19584</dd>\n",
       "</dl>\n"
      ],
      "text/latex": [
       "\\begin{description*}\n",
       "\\item[AAPL] 19584\n",
       "\\item[TSLA] 19567\n",
       "\\item[GOOG] 19584\n",
       "\\end{description*}\n"
      ],
      "text/markdown": [
       "AAPL\n",
       ":   19584TSLA\n",
       ":   19567GOOG\n",
       ":   19584\n",
       "\n"
      ],
      "text/plain": [
       " AAPL  TSLA  GOOG \n",
       "19584 19567 19584 "
      ]
     },
     "metadata": {},
     "output_type": "display_data"
    },
    {
     "data": {
      "text/html": [
       "1"
      ],
      "text/latex": [
       "1"
      ],
      "text/markdown": [
       "1"
      ],
      "text/plain": [
       "[1] 1"
      ]
     },
     "metadata": {},
     "output_type": "display_data"
    },
    {
     "data": {
      "text/html": [
       "2"
      ],
      "text/latex": [
       "2"
      ],
      "text/markdown": [
       "2"
      ],
      "text/plain": [
       "[1] 2"
      ]
     },
     "metadata": {},
     "output_type": "display_data"
    },
    {
     "data": {
      "text/html": [
       "<dl class=dl-horizontal>\n",
       "\t<dt>AAPL</dt>\n",
       "\t\t<dd>1</dd>\n",
       "\t<dt>TSLA</dt>\n",
       "\t\t<dd>1</dd>\n",
       "\t<dt>GOOG</dt>\n",
       "\t\t<dd>1</dd>\n",
       "</dl>\n"
      ],
      "text/latex": [
       "\\begin{description*}\n",
       "\\item[AAPL] 1\n",
       "\\item[TSLA] 1\n",
       "\\item[GOOG] 1\n",
       "\\end{description*}\n"
      ],
      "text/markdown": [
       "AAPL\n",
       ":   1TSLA\n",
       ":   1GOOG\n",
       ":   1\n",
       "\n"
      ],
      "text/plain": [
       "AAPL TSLA GOOG \n",
       "   1    1    1 "
      ]
     },
     "metadata": {},
     "output_type": "display_data"
    }
   ],
   "source": [
    "# make sure you are connected to the IB API\n",
    "tws <- twsConnect()\n",
    "isConnected(tws)\n",
    "# if we wish to download multiple securities\n",
    "v.list <- c(\"AAPL\",\"TSLA\",\"GOOG\")\n",
    "security.list <- lapply(v.list,twsSTK)\n",
    "sapply(security.list,is.twsContract) # check if true\n",
    "P.list <- lapply(security.list, function(security)  reqHistoricalData(tws,security, barSize = '5 mins',duration = \"1 Y\") )\n",
    "\n",
    "# Finally, we can disconnect, as data will be stored in the system's memory\n",
    "twsDisconnect(tws)\n",
    "isConnected(tws)\n",
    "\n",
    "# Let's look at the data list we just downloaded\n",
    "length(P.list); \n",
    "names(P.list) <- v.list\n",
    "head(P.list[[\"AAPL\"]])\n",
    "                 \n",
    "# any analysis applied to a security can applied to multiple one using the list of prices\n",
    "lapply(P.list,summary)\n",
    "sapply(P.list,nrow) # number of data points for each security\n",
    "\n",
    "# pull the desired info\n",
    "var_name <- \"Close\"\n",
    "P2.list <- lapply(P.list,function(x) x[,grep(var_name,names(x))]  )\n",
    "\n",
    "# --> grep is a useful function to identify characters in a string, e.g.\n",
    "grep(\"In\",c(\"Interactive\", \"Brokers\") )\n",
    "grep(\"ok\",c(\"Interactive\", \"Brokers\") )\n",
    "\n",
    "# note that the new list has one variable for each ticker\n",
    "sapply(P2.list,ncol) \n",
    "\n",
    "# finally, we merge altogether\n",
    "P_all <- Reduce(function(...) merge(..., all = T),P2.list)\n",
    "# --> Reduce allows user to execute functions on list simultaneously\n",
    "# --> This is helpful when merging data is needed\n",
    "\n",
    "# To save the data, you can use write.zoo or write.csv if the time series is given as a data.frame\n",
    "write.zoo(P_all,\"IB_data.csv\",sep = \",\")\n",
    "\n",
    "# To load it, R will read it as a data frame\n",
    "P2 <- read.csv(\"IB_data.csv\") \n",
    "# it needs some adjustment to read it as an xts object\n",
    "rownames(P2) <- P2[,1] \n",
    "P2 <- as.xts(P2[,-1]) # drop the date and save as an xts object"
   ]
  },
  {
   "cell_type": "code",
   "execution_count": null,
   "metadata": {
    "collapsed": true
   },
   "outputs": [],
   "source": [
    "#########################################################################################\n",
    "############################## BASICS IN R ###############################################\n",
    "##########################################################################################\n",
    "\n",
    "# begin with a fresh start\n",
    "rm(list = ls())\n",
    "\n",
    "x <- 1:5\n",
    "names(x) <- letters[1:5] # assign names to x\n",
    "x\n",
    "x[\"c\"] # pull any name\n",
    "x[\"z\"] # unavailable\n",
    "\n",
    "# R has built-in objects such as letters/LETTERS\n",
    "letters; LETTERS;\n",
    "\n",
    "# we will use both loops and lapply/sapply functions\n",
    "\n",
    "# loops\n",
    "w <- integer()\n",
    "for(i in 1:5) {\n",
    "  w <- c(w,i)\n",
    "  names(w)[i] <- letters[i]\n",
    "}\n",
    "w\n",
    "identical(x,w)\n",
    "\n",
    "# use sapply function\n",
    "z <- sapply(1:5, function(i)  { result <- i; names(result) <- letters[i]; result }  )\n",
    "z\n",
    "identical(x,z)\n",
    "\n",
    "rm(x);rm(w);rm(z)\n",
    "\n",
    "\n",
    "#######################\n",
    "## MATRICES ###########\n",
    "#######################\n",
    "\n",
    "X <- matrix(rnorm(50),10,5)\n",
    "dim(X) # dimension\n",
    "apply(X,2,mean) # average across columns: 2 for second dimension\n",
    "apply(X,1,mean) # average across rows: 1 for first dimension\n",
    "\n",
    "# we could define any function as follows\n",
    "A1 <- apply(X,2, function(x)  x[1]*x[length(x)] )\n",
    "A2 <- X[1,]*X[nrow(X),]\n",
    "identical(A1,A2) # yields the same\n",
    "\n",
    "rownames(X) <- 1:nrow(X)\n",
    "colnames(X) <- letters[1:ncol(X)]\n",
    "X\n",
    "X[\"10\",\"c\"] # you can pull any element using the corresponding key/name\n",
    "\n",
    "# summary is a general function\n",
    "summary(X)\n",
    "\n",
    "# we can also look at X as a data frame\n",
    "X2 <- data.frame(X)\n",
    "class(X2)\n",
    "\n",
    "\n",
    "####################\n",
    "### PLOTTING #######\n",
    "####################\n",
    "\n",
    "x <- rnorm(100)\n",
    "y <- 1 + 5*x +rnorm(100)\n",
    "plot(y~x)\n",
    "lm_yx <- lm(y~x)\n",
    "lines(fitted(lm_yx) ~ x, col = 2, lty = 2) # add a fitted line\n",
    "\n",
    "###############################\n",
    "########## xts package ########\n",
    "###############################\n",
    "\n",
    "n <- 100\n",
    "set.seed(13)\n",
    "x <- rnorm(n)\n",
    "date_labels <- date(today()) - 0:(n-1) \n",
    "names(x) <- as.character(date(today()) - 0:(n-1))\n",
    "x <- as.xts(x)\n",
    "x[today(),]\n",
    "plot(x)\n",
    "\n",
    "# note date that\n",
    "today() - 1 # returns yesterday's date\n",
    "\n",
    "# there is special apply functions for xts items\n",
    "apply.monthly(x,max) # returns the max value of the month\n",
    "apply.quarterly(x,max) #  returns the max value of the quarter\n",
    "\n",
    "# as before we can use generalized functions\n",
    "apply.quarterly(x, function(y)  mean(y)/sd(y)  )\n",
    "\n",
    "####################################\n",
    "## time series as a data.frame #####\n",
    "####################################\n",
    "\n",
    "# look at x as a data.frame instead\n",
    "x <- data.frame(Date = date(x), x = x[,1])\n",
    "rownames(x) <- NULL\n",
    "summary(x)\n",
    "# add year and month variables\n",
    "x$Y <- year(x$Date); x$M <- month(x$Date);\n",
    "\n",
    "# max value over month\n",
    "max_month_x <- ddply(x,c(\"Y\",\"M\"), function(z) data.frame( max_x = max(z$x) ) )\n",
    "names(max_month_x)\n",
    "\n",
    "# we can merge it back to the original data\n",
    "x <- merge(x,max_month_x,c(\"Y\",\"M\"))\n",
    "head(x)\n",
    "\n",
    "# look at difference from max\n",
    "x$x_max_diff <- x$max_x - x$x\n",
    "\n",
    "# plot x versus such difference\n",
    "plot(x ~ Date, data = x, type = \"l\", ylim = range(c(x,max_x,x_max_diff)))\n",
    "lines(x_max_diff ~ Date, data = x, col = 2)\n",
    "lines(max_x ~ Date, data = x, lty = 2)\n",
    "\n",
    "#########################################################################################\n",
    "############################## USING THE IB API ###############################################\n",
    "##########################################################################################\n",
    "# fresh start again\n",
    "rm(list = ls())\n",
    "\n",
    "# make sure you are connected to the IB API\n",
    "tws <- twsConnect()\n",
    "isConnected(tws) # should be true\n",
    "ac <- reqAccountUpdates(tws) # requests account details\n",
    "security <- twsSTK(\"SPY\") # choose security of interest\n",
    "is.twsContract(security) # make sure it is identified\n",
    "P <- reqHistoricalData(tws,security, barSize = '5 mins',duration = \"1 Y\")\n",
    "head(P)\n",
    "\n",
    "# look at the last data from today\n",
    "tail(P[date(P) == today(),])\n",
    "\n",
    "# if we wish to download multiple securities\n",
    "v.list <- c(\"SPY\",\"XLF\",\"XLU\")\n",
    "security.list <- lapply(v.list,twsSTK)\n",
    "sapply(security.list,is.twsContract) # check if true\n",
    "P.list <- lapply(security.list, function(security)  reqHistoricalData(tws,security, barSize = '5 mins',duration = \"1 Y\") )\n",
    "\n",
    "# Finally, we can disconnect, as data will be stored in the system's memory\n",
    "twsDisconnect(tws)\n",
    "isConnected(tws)\n",
    "\n",
    "# Let's look at the data list we just downloaded\n",
    "length(P.list); \n",
    "names(P.list) <- v.list\n",
    "head(P.list[[\"XLF\"]])\n",
    "\n",
    "# any analysis applied to a security can applied to multiple one using the list of prices\n",
    "lapply(P.list,summary)\n",
    "sapply(P.list,nrow) # number of data points for each security\n",
    "\n",
    "# pull the desired info\n",
    "var_name <- \"Close\"\n",
    "P2.list <- lapply(P.list,function(x) x[,grep(var_name,names(x))]  )\n",
    "\n",
    "# --> grep is a useful function to identify characters in a string, e.g.\n",
    "grep(\"In\",c(\"Interactive\", \"Brokers\") )\n",
    "grep(\"ok\",c(\"Interactive\", \"Brokers\") )\n",
    "\n",
    "# note that the new list has one variable for each ticker\n",
    "sapply(P2.list,ncol) \n",
    "\n",
    "# finally, we merge altogether\n",
    "P_all <- Reduce(function(...) merge(..., all = T),P2.list)\n",
    "# --> Reduce allows user to execute functions on list simultaneously\n",
    "# --> This is helpful when merging data is needed\n",
    "\n",
    "# To save the data, you can use write.zoo or write.csv if the time series is given as a data.frame\n",
    "write.zoo(P_all,\"IB_data.csv\",sep = \",\")\n",
    "\n",
    "# To load it, R will read it as a data frame\n",
    "P2 <- read.csv(\"IB_data.csv\") \n",
    "# it needs some adjustment to read it as an xts object\n",
    "rownames(P2) <- P2[,1] \n",
    "P2 <- as.xts(P2[,-1]) # drop the date and save as an xts object\n",
    "\n",
    "#####################################################\n",
    "################ EXAMPLE I ##########################\n",
    "#####################################################\n",
    "# let us look at the closing price of each time increment\n",
    "price <- \"Close\" \n",
    "find.close <- grep(\"Close\",names(P))\n",
    "# pull the close price\n",
    "P_daily <- apply.daily(P,function(x) x[nrow(x),find.close])\n",
    "dim(P_daily)\n",
    "\n",
    "# load the time series as a data.frame\n",
    "P_ds <- data.frame(Date = date(P_daily),Price = as.numeric(P_daily) )\n",
    "head(P_ds)\n",
    "\n",
    "# helpful function to compute retuns\n",
    "ret.f <- function(x) c(NA,x[2:length(x)]/x[1:(length(x)-1)] - 1)\n",
    "ret_daily <- na.omit(data.frame(Date = P_ds$Date, Ret = ret.f(P_ds$Price)))\n",
    "head(ret_daily)\n",
    "\n",
    "# function to plot the data \n",
    "plot.time.series <- function(ds,eps) {\n",
    "  mid.point <- floor(nrow(ds)/2)\n",
    "  seq1 <- 1:mid.point\n",
    "  seq2 <- (mid.point+1):nrow(ds)\n",
    "  mu1 <- mean(ds[seq1,2])\n",
    "  mu2 <- mean(ds[seq2,2])\n",
    "  \n",
    "  plot(ds[,2]~ ds[,1], type = \"l\", xlab = \"Date\", ylab = \"\", lwd = 0.5, col = 2)\n",
    "  grid(10,10)\n",
    "  segments(ds[1,1],mu1, ds[mid.point,1],mu1, lty  =2)\n",
    "  segments(ds[mid.point+1,1],mu2, ds[nrow(ds),1],mu2, lty  =2)\n",
    "  val1 <- format(mu1,digits = 5)\n",
    "  val2 <- format(mu2,digits = 5)\n",
    "  eq1 <- bquote(bold(mu[1] == .(val1) ))\n",
    "  eq2 <- bquote(bold(mu[2] == .(val2) ))\n",
    "  \n",
    "  text(ds[floor(median(seq1)),1],mu1+eps,eq1  )\n",
    "  text(ds[floor(median(seq2)),1],mu2+eps,eq2  )\n",
    "}\n",
    "\n",
    "# Figure 1\n",
    "plot.time.series(P_ds,5) # eps = 5 to indicate where the mean be put\n",
    "# Figure 2\n",
    "plot.time.series(ret_daily,0.01) \n",
    "\n",
    "\n",
    "# plot the strict stationairty condition\n",
    "plot.time.series2 <- function(ds) {\n",
    "  mid.point <- floor(nrow(ds)/2)\n",
    "  seq1 <- 1:mid.point\n",
    "  seq2 <- (mid.point+1):nrow(ds)\n",
    "  \n",
    "  ds$Period <- \"Period 1\"\n",
    "  ds$Period[1:nrow(ds) %in% seq2] <- \"Period 2\"\n",
    "  ds$Period <- as.factor(ds$Period)\n",
    "  \n",
    "  ggplot(ds, aes(ds[,2], fill = Period)) + geom_density(alpha = 0.5) + xlab(\"\")\n",
    "}\n",
    "\n",
    "# Figure 3\n",
    "plot.time.series2(P_ds)\n",
    "# Figure 3\n",
    "plot.time.series2(ret_daily)\n",
    "\n",
    "##############################\n",
    "### Serial Correlation #######\n",
    "##############################\n",
    "\n",
    "cor(P_daily[-1],lag(P_daily)[-1])\n",
    "\n",
    "R_daily <- P_daily[-1]/lag(P_daily)[-1] - 1\n",
    "cor(R_daily[-1],lag(R_daily)[-1])\n",
    "\n",
    "# another way would be to merge all time series together\n",
    "P2_daily <- merge(P_daily,lag(P_daily))\n",
    "head(P2_daily)\n",
    "cor(P2_daily, use = \"pairwise\")\n",
    "\n",
    "\n",
    "R2_daily <- merge(R_daily,lag(R_daily))\n",
    "head(R2_daily)\n",
    "cor(R2_daily,use = \"pairwise\")\n",
    "\n",
    "\n",
    "###############################\n",
    "#### TEST FOR UNIT ROOT #######\n",
    "###############################\n",
    "adf.test(P_daily);adf.test(R_daily)\n",
    "\n",
    "\n",
    "#########################################################################################################\n",
    "###################################  ARIMA MODELS ######################################################################\n",
    "#########################################################################################################\n",
    "\n",
    "# let's simulate a couple of arima process\n",
    "# we use the arima.sim function\n",
    "N <- 10^3\n",
    "MA2 <- arima.sim(N,model = list(order = c(0,0,2), ma = c(0.5,0.3))) + 200\n",
    "Acf(MA2) # starts with lag 0\n",
    "AR2 <- arima.sim(N,model = list(order = c(2,0,0), ar = c(0.5,0.3))) + 200\n",
    "Pacf(AR2) # starts with lag 1\n",
    "\n",
    "#####################################################\n",
    "################ EXAMPLE I ##########################\n",
    "#####################################################\n",
    "# Simulate an ARIMA(3,1,2) process\n",
    "set.seed(13)\n",
    "y <- arima.sim(N,model = list(order = c(3,1,2), ar = c(0.8, -0.5,0.4),\n",
    "                              ma = c(0.5,-0.3))) + 200\n",
    "\n",
    "# transfer it to an xts object\n",
    "y <- as.numeric(y)\n",
    "names(y) <- as.character( today() - (N:0) )\n",
    "y <- as.xts(y)\n",
    "\n",
    "#################################\n",
    "## STEP 1: TEST FOR UNIT ROOT ###\n",
    "\n",
    "plot(y);\n",
    "ADF <- adf.test(y); \n",
    "ADF$p.value\n",
    "\n",
    "# IF FALSE, TAKE FIRST DIFFERENCE\n",
    "delta_y <- na.omit(y - lag(y))\n",
    "plot(delta_y);\n",
    "ADF2 <- adf.test(delta_y); \n",
    "ADF2$p.value\n",
    "\n",
    "################################################\n",
    "## STEP 2: IDENTIFY THE AR(p) MA(q) PROCESSES ##\n",
    "\n",
    "# it is not as straightforward to tell from these plots\n",
    "Acf(delta_y, main = \"\")\n",
    "Pacf(delta_y, main = \"\")\n",
    "\n",
    "p.seq <- 0:4\n",
    "q.seq <- 0:4\n",
    "pq.seq <- expand.grid(p.seq,q.seq)\n",
    "AIC.list <- lapply(1:nrow(pq.seq),function(i)   \n",
    "AIC(arima(y,c(pq.seq[i,1],1,pq.seq[i,2]))))\n",
    "AIC.matrix <- matrix(unlist(AIC.list),length(p.seq))\n",
    "rownames(AIC.matrix) <- p.seq\n",
    "colnames(AIC.matrix) <- q.seq\n",
    "AIC.matrix\n",
    "\n",
    "identify.arima <- auto.arima(y)\n",
    "identify.arima\n",
    "\n",
    "###########################\n",
    "## STEP 3: Double Check  ##\n",
    "\n",
    "# look at the residuals and see whether they resemble a white noise process\n",
    "Acf(residuals(identify.arima),main = \"\")\n",
    "# use a test to find a statistical evidence for such\n",
    "Box.test(residuals(identify.arima),type = \"Ljung-Box\")\n",
    "\n",
    "## consider a number of cases in which the model is underidentified\n",
    "arima1 <- arima(y,c(1,1,0))\n",
    "Acf(residuals(arima1),main = \"\")\n",
    "arima2 <- arima(y,c(1,1,1))\n",
    "Acf(residuals(arima2),main = \"\")\n",
    "arima3 <- arima(y,c(2,1,1))\n",
    "Acf(residuals(arima3),main = \"\")\n",
    "arima4 <- arima(y,c(2,1,2))\n",
    "Acf(residuals(arima4),main = \"\")\n",
    "# and finally\n",
    "arima5 <- arima(y,c(3,1,2))\n",
    "Acf(residuals(arima5),main = \"\")\n",
    "\n",
    "#########################################################################################################\n",
    "###################################  FORECASTING ######################################################################\n",
    "#########################################################################################################\n",
    "T. <- 150\n",
    "arma.list <- numeric()\n",
    "ar1.list <- numeric()\n",
    "ma.list <- numeric()\n",
    "i <- T.\n",
    "for(i in T.:(length(R_daily)-1) ) {\n",
    "  arma.list[i] <- list(auto.arima(R_daily[(i-T.+1):i])) # ARMA\n",
    "  ar1.list[i] <- list(arima(R_daily[(i-T.+1):i],c(1,0,0))) # AR(1)\n",
    "  ma.list[i] <- list(mean(R_daily[(i-T.+1):i])) # Momentum\n",
    "  }\n",
    "\n",
    "y <- R_daily[(T.+1):length(R_daily)]\n",
    "y_hat <- sapply(arma.list[T.:length(arma.list)],\n",
    "                function(x) forecast(x,1)[[4]] )\n",
    "y_hat2 <- sapply(ar1.list[T.:length(ar1.list)],\n",
    "                 function(x) forecast(x,1)[[4]] )\n",
    "y_hat3 <- sign(unlist(ma.list))\n",
    "\n",
    "forecast_accuracy <- cbind(mean(sign(y_hat) == sign(y)),\n",
    "mean(sign(y_hat2) == sign(y)),\n",
    "mean(sign(y_hat3) == sign(y)))\n",
    "\n",
    "forecast_accuracy*100\n",
    "\n",
    "phi <- unlist(sapply(ar1.list,function(x) coef(x)[[1]]))\n",
    "names(phi) <- date(R_daily[T.:(length(R_daily)-1)])\n",
    "phi <- as.xts(phi)\n",
    "\n",
    "plot(phi,main =\"\")\n",
    "lines(R_daily[T.:(length(R_daily)-1)], col = 2)\n",
    "abline(h = 0, lty = 2, col = 1)\n",
    "legend(\"bottomright\",c(expression(phi),expression(r[t])),\n",
    "       col = 1:2, lty = c(1,1))"
   ]
  }
 ],
 "metadata": {
  "kernelspec": {
   "display_name": "R",
   "language": "R",
   "name": "ir"
  },
  "language_info": {
   "codemirror_mode": "r",
   "file_extension": ".r",
   "mimetype": "text/x-r-source",
   "name": "R",
   "pygments_lexer": "r",
   "version": "3.4.1"
  }
 },
 "nbformat": 4,
 "nbformat_minor": 1
}
