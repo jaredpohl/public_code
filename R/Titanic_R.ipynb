{
 "cells": [
  {
   "cell_type": "markdown",
   "metadata": {},
   "source": [
    "### Titanic Data from Kaggle\n",
    "\n",
    "Data analysis and machine learning techniques"
   ]
  },
  {
   "cell_type": "code",
   "execution_count": 1,
   "metadata": {},
   "outputs": [
    {
     "name": "stderr",
     "output_type": "stream",
     "text": [
      "Warning message:\n",
      "\"package 'ggplot2' was built under R version 3.3.3\""
     ]
    }
   ],
   "source": [
    "# Load libraries\n",
    "# install.packages(\"ggplot2\",repos='http://cran.us.r-project.org')\n",
    "library(\"ggplot2\")\n",
    "library(\"stringr\")\n",
    "\n",
    "#Set working directory\n",
    "setwd(\"C:/Users/ywu/Google Drive/Working Folder/public_code/R/data/\")"
   ]
  },
  {
   "cell_type": "code",
   "execution_count": 2,
   "metadata": {},
   "outputs": [
    {
     "data": {
      "text/html": [
       "<ol class=list-inline>\n",
       "\t<li>'passengerid'</li>\n",
       "\t<li>'survived'</li>\n",
       "\t<li>'pclass'</li>\n",
       "\t<li>'name'</li>\n",
       "\t<li>'sex'</li>\n",
       "\t<li>'age'</li>\n",
       "\t<li>'sibsp'</li>\n",
       "\t<li>'parch'</li>\n",
       "\t<li>'ticket'</li>\n",
       "\t<li>'fare'</li>\n",
       "\t<li>'cabin'</li>\n",
       "\t<li>'embarked'</li>\n",
       "</ol>\n"
      ],
      "text/latex": [
       "\\begin{enumerate*}\n",
       "\\item 'passengerid'\n",
       "\\item 'survived'\n",
       "\\item 'pclass'\n",
       "\\item 'name'\n",
       "\\item 'sex'\n",
       "\\item 'age'\n",
       "\\item 'sibsp'\n",
       "\\item 'parch'\n",
       "\\item 'ticket'\n",
       "\\item 'fare'\n",
       "\\item 'cabin'\n",
       "\\item 'embarked'\n",
       "\\end{enumerate*}\n"
      ],
      "text/markdown": [
       "1. 'passengerid'\n",
       "2. 'survived'\n",
       "3. 'pclass'\n",
       "4. 'name'\n",
       "5. 'sex'\n",
       "6. 'age'\n",
       "7. 'sibsp'\n",
       "8. 'parch'\n",
       "9. 'ticket'\n",
       "10. 'fare'\n",
       "11. 'cabin'\n",
       "12. 'embarked'\n",
       "\n",
       "\n"
      ],
      "text/plain": [
       " [1] \"passengerid\" \"survived\"    \"pclass\"      \"name\"        \"sex\"        \n",
       " [6] \"age\"         \"sibsp\"       \"parch\"       \"ticket\"      \"fare\"       \n",
       "[11] \"cabin\"       \"embarked\"   "
      ]
     },
     "metadata": {},
     "output_type": "display_data"
    },
    {
     "data": {
      "text/html": [
       "<ol class=list-inline>\n",
       "\t<li>'passengerid'</li>\n",
       "\t<li>'pclass'</li>\n",
       "\t<li>'name'</li>\n",
       "\t<li>'sex'</li>\n",
       "\t<li>'age'</li>\n",
       "\t<li>'sibsp'</li>\n",
       "\t<li>'parch'</li>\n",
       "\t<li>'ticket'</li>\n",
       "\t<li>'fare'</li>\n",
       "\t<li>'cabin'</li>\n",
       "\t<li>'embarked'</li>\n",
       "</ol>\n"
      ],
      "text/latex": [
       "\\begin{enumerate*}\n",
       "\\item 'passengerid'\n",
       "\\item 'pclass'\n",
       "\\item 'name'\n",
       "\\item 'sex'\n",
       "\\item 'age'\n",
       "\\item 'sibsp'\n",
       "\\item 'parch'\n",
       "\\item 'ticket'\n",
       "\\item 'fare'\n",
       "\\item 'cabin'\n",
       "\\item 'embarked'\n",
       "\\end{enumerate*}\n"
      ],
      "text/markdown": [
       "1. 'passengerid'\n",
       "2. 'pclass'\n",
       "3. 'name'\n",
       "4. 'sex'\n",
       "5. 'age'\n",
       "6. 'sibsp'\n",
       "7. 'parch'\n",
       "8. 'ticket'\n",
       "9. 'fare'\n",
       "10. 'cabin'\n",
       "11. 'embarked'\n",
       "\n",
       "\n"
      ],
      "text/plain": [
       " [1] \"passengerid\" \"pclass\"      \"name\"        \"sex\"         \"age\"        \n",
       " [6] \"sibsp\"       \"parch\"       \"ticket\"      \"fare\"        \"cabin\"      \n",
       "[11] \"embarked\"   "
      ]
     },
     "metadata": {},
     "output_type": "display_data"
    }
   ],
   "source": [
    "# Load raw data\n",
    "train <- read.csv(\"titanic/train.csv\", header = TRUE)\n",
    "test <- read.csv(\"titanic/test.csv\", header = TRUE)\n",
    "\n",
    "# Lower case names\n",
    "names(train) <-tolower(names(train))\n",
    "names(test) <-tolower(names(test))\n",
    "names(train)\n",
    "names(test)"
   ]
  },
  {
   "cell_type": "code",
   "execution_count": 3,
   "metadata": {},
   "outputs": [
    {
     "name": "stdout",
     "output_type": "stream",
     "text": [
      "'data.frame':\t1309 obs. of  12 variables:\n",
      " $ passengerid: int  1 2 3 4 5 6 7 8 9 10 ...\n",
      " $ survived   : chr  \"0\" \"1\" \"1\" \"1\" ...\n",
      " $ pclass     : int  3 1 3 1 3 3 1 3 3 2 ...\n",
      " $ name       : Factor w/ 1307 levels \"Abbing, Mr. Anthony\",..: 109 191 358 277 16 559 520 629 417 581 ...\n",
      " $ sex        : Factor w/ 2 levels \"female\",\"male\": 2 1 1 1 2 2 2 2 1 1 ...\n",
      " $ age        : num  22 38 26 35 35 NA 54 2 27 14 ...\n",
      " $ sibsp      : int  1 1 0 1 0 0 0 3 0 1 ...\n",
      " $ parch      : int  0 0 0 0 0 0 0 1 2 0 ...\n",
      " $ ticket     : Factor w/ 929 levels \"110152\",\"110413\",..: 524 597 670 50 473 276 86 396 345 133 ...\n",
      " $ fare       : num  7.25 71.28 7.92 53.1 8.05 ...\n",
      " $ cabin      : Factor w/ 187 levels \"\",\"A10\",\"A14\",..: 1 83 1 57 1 1 131 1 1 1 ...\n",
      " $ embarked   : Factor w/ 4 levels \"\",\"C\",\"Q\",\"S\": 4 2 4 4 4 3 4 4 4 2 ...\n",
      "'data.frame':\t1309 obs. of  12 variables:\n",
      " $ passengerid: int  1 2 3 4 5 6 7 8 9 10 ...\n",
      " $ survived   : Factor w/ 3 levels \"0\",\"1\",\"None\": 1 2 2 2 1 1 1 1 2 2 ...\n",
      " $ pclass     : Factor w/ 3 levels \"1\",\"2\",\"3\": 3 1 3 1 3 3 1 3 3 2 ...\n",
      " $ name       : Factor w/ 1307 levels \"Abbing, Mr. Anthony\",..: 109 191 358 277 16 559 520 629 417 581 ...\n",
      " $ sex        : Factor w/ 2 levels \"female\",\"male\": 2 1 1 1 2 2 2 2 1 1 ...\n",
      " $ age        : num  22 38 26 35 35 NA 54 2 27 14 ...\n",
      " $ sibsp      : int  1 1 0 1 0 0 0 3 0 1 ...\n",
      " $ parch      : int  0 0 0 0 0 0 0 1 2 0 ...\n",
      " $ ticket     : Factor w/ 929 levels \"110152\",\"110413\",..: 524 597 670 50 473 276 86 396 345 133 ...\n",
      " $ fare       : num  7.25 71.28 7.92 53.1 8.05 ...\n",
      " $ cabin      : Factor w/ 187 levels \"\",\"A10\",\"A14\",..: 1 83 1 57 1 1 131 1 1 1 ...\n",
      " $ embarked   : Factor w/ 4 levels \"\",\"C\",\"Q\",\"S\": 4 2 4 4 4 3 4 4 4 2 ...\n"
     ]
    }
   ],
   "source": [
    "# Add a \"Survived\" variable to the test set to allow for combining data sets\n",
    "test.survived <- data.frame(survived = rep(\"None\", nrow(test)), test[,])\n",
    "\n",
    "# Combine data sets\n",
    "data.combined <- rbind(train, test.survived)\n",
    "\n",
    "# All fields need to be converted to categorical (factor) variables\n",
    "str(data.combined)\n",
    "data.combined$survived <- as.factor(data.combined$survived)\n",
    "data.combined$pclass <- as.factor(data.combined$pclass)\n",
    "str(data.combined)"
   ]
  },
  {
   "cell_type": "markdown",
   "metadata": {},
   "source": [
    "### What's going on with survived and pclass?\n",
    "\n",
    "Using the table command, take a look at the survived and pclass"
   ]
  },
  {
   "cell_type": "code",
   "execution_count": 4,
   "metadata": {},
   "outputs": [
    {
     "data": {
      "text/plain": [
       "\n",
       "   0    1 None \n",
       " 549  342  418 "
      ]
     },
     "metadata": {},
     "output_type": "display_data"
    },
    {
     "data": {
      "text/plain": [
       "\n",
       "  1   2   3 \n",
       "323 277 709 "
      ]
     },
     "metadata": {},
     "output_type": "display_data"
    }
   ],
   "source": [
    "# Take a look at gross survival rates and priority classes\n",
    "table(data.combined$survived)\n",
    "table(data.combined$pclass)"
   ]
  },
  {
   "cell_type": "markdown",
   "metadata": {},
   "source": [
    "### Hypothesis - Rich folks survived at a higer rate\n",
    "There seems to be some resemblance between the classes and whoever survives"
   ]
  },
  {
   "cell_type": "code",
   "execution_count": 5,
   "metadata": {
    "scrolled": false
   },
   "outputs": [
    {
     "data": {},
     "metadata": {},
     "output_type": "display_data"
    },
    {
     "data": {
      "image/png": "[encoded data removed]",
      "text/plain": [
       "plot without title"
      ]
     },
     "metadata": {},
     "output_type": "display_data"
    }
   ],
   "source": [
    "train$pclass <- as.factor(train$pclass)\n",
    "train$survived <- as.factor(train$survived)\n",
    "\n",
    "options(repr.plot.width=6, repr.plot.height=4)\n",
    "ggplot(train, aes(x = pclass, fill = survived))   +  geom_bar() +\n",
    "  xlab(\"Pclass\")   +  ylab(\"Total Count\") +  labs(fill = \"Survived\")  "
   ]
  },
  {
   "cell_type": "markdown",
   "metadata": {},
   "source": [
    "### Duplicates\n",
    "A few duplicate names shown, but appears that they are simply people with the same names."
   ]
  },
  {
   "cell_type": "code",
   "execution_count": 6,
   "metadata": {},
   "outputs": [
    {
     "data": {
      "text/html": [
       "'Total Unique Names: 1307'"
      ],
      "text/latex": [
       "'Total Unique Names: 1307'"
      ],
      "text/markdown": [
       "'Total Unique Names: 1307'"
      ],
      "text/plain": [
       "[1] \"Total Unique Names: 1307\""
      ]
     },
     "metadata": {},
     "output_type": "display_data"
    },
    {
     "data": {
      "text/html": [
       "<span style=white-space:pre-wrap>'Total  Names: 1309'</span>"
      ],
      "text/latex": [
       "'Total  Names: 1309'"
      ],
      "text/markdown": [
       "<span style=white-space:pre-wrap>'Total  Names: 1309'</span>"
      ],
      "text/plain": [
       "[1] \"Total  Names: 1309\""
      ]
     },
     "metadata": {},
     "output_type": "display_data"
    },
    {
     "data": {
      "text/html": [
       "<table>\n",
       "<thead><tr><th></th><th scope=col>passengerid</th><th scope=col>survived</th><th scope=col>pclass</th><th scope=col>name</th><th scope=col>sex</th><th scope=col>age</th><th scope=col>sibsp</th><th scope=col>parch</th><th scope=col>ticket</th><th scope=col>fare</th><th scope=col>cabin</th><th scope=col>embarked</th></tr></thead>\n",
       "<tbody>\n",
       "\t<tr><th scope=row>290</th><td>290                 </td><td>1                   </td><td>3                   </td><td>Connolly, Miss. Kate</td><td>female              </td><td>22.0                </td><td>0                   </td><td>0                   </td><td>370373              </td><td>7.7500              </td><td>                    </td><td>Q                   </td></tr>\n",
       "\t<tr><th scope=row>697</th><td>697                 </td><td>0                   </td><td>3                   </td><td>Kelly, Mr. James    </td><td>male                </td><td>44.0                </td><td>0                   </td><td>0                   </td><td>363592              </td><td>8.0500              </td><td>                    </td><td>S                   </td></tr>\n",
       "\t<tr><th scope=row>892</th><td>892                 </td><td>None                </td><td>3                   </td><td>Kelly, Mr. James    </td><td>male                </td><td>34.5                </td><td>0                   </td><td>0                   </td><td>330911              </td><td>7.8292              </td><td>                    </td><td>Q                   </td></tr>\n",
       "\t<tr><th scope=row>898</th><td>898                 </td><td>None                </td><td>3                   </td><td>Connolly, Miss. Kate</td><td>female              </td><td>30.0                </td><td>0                   </td><td>0                   </td><td>330972              </td><td>7.6292              </td><td>                    </td><td>Q                   </td></tr>\n",
       "</tbody>\n",
       "</table>\n"
      ],
      "text/latex": [
       "\\begin{tabular}{r|llllllllllll}\n",
       "  & passengerid & survived & pclass & name & sex & age & sibsp & parch & ticket & fare & cabin & embarked\\\\\n",
       "\\hline\n",
       "\t290 & 290                  & 1                    & 3                    & Connolly, Miss. Kate & female               & 22.0                 & 0                    & 0                    & 370373               & 7.7500               &                      & Q                   \\\\\n",
       "\t697 & 697                  & 0                    & 3                    & Kelly, Mr. James     & male                 & 44.0                 & 0                    & 0                    & 363592               & 8.0500               &                      & S                   \\\\\n",
       "\t892 & 892                  & None                 & 3                    & Kelly, Mr. James     & male                 & 34.5                 & 0                    & 0                    & 330911               & 7.8292               &                      & Q                   \\\\\n",
       "\t898 & 898                  & None                 & 3                    & Connolly, Miss. Kate & female               & 30.0                 & 0                    & 0                    & 330972               & 7.6292               &                      & Q                   \\\\\n",
       "\\end{tabular}\n"
      ],
      "text/markdown": [
       "\n",
       "| <!--/--> | passengerid | survived | pclass | name | sex | age | sibsp | parch | ticket | fare | cabin | embarked | \n",
       "|---|---|---|---|\n",
       "| 290 | 290                  | 1                    | 3                    | Connolly, Miss. Kate | female               | 22.0                 | 0                    | 0                    | 370373               | 7.7500               |                      | Q                    | \n",
       "| 697 | 697                  | 0                    | 3                    | Kelly, Mr. James     | male                 | 44.0                 | 0                    | 0                    | 363592               | 8.0500               |                      | S                    | \n",
       "| 892 | 892                  | None                 | 3                    | Kelly, Mr. James     | male                 | 34.5                 | 0                    | 0                    | 330911               | 7.8292               |                      | Q                    | \n",
       "| 898 | 898                  | None                 | 3                    | Connolly, Miss. Kate | female               | 30.0                 | 0                    | 0                    | 330972               | 7.6292               |                      | Q                    | \n",
       "\n",
       "\n"
      ],
      "text/plain": [
       "    passengerid survived pclass name                 sex    age  sibsp parch\n",
       "290 290         1        3      Connolly, Miss. Kate female 22.0 0     0    \n",
       "697 697         0        3      Kelly, Mr. James     male   44.0 0     0    \n",
       "892 892         None     3      Kelly, Mr. James     male   34.5 0     0    \n",
       "898 898         None     3      Connolly, Miss. Kate female 30.0 0     0    \n",
       "    ticket fare   cabin embarked\n",
       "290 370373 7.7500       Q       \n",
       "697 363592 8.0500       S       \n",
       "892 330911 7.8292       Q       \n",
       "898 330972 7.6292       Q       "
      ]
     },
     "metadata": {},
     "output_type": "display_data"
    }
   ],
   "source": [
    "# Unique names\n",
    "sprintf(\"Total Unique Names: %s\", length(unique(as.character(data.combined$name))))\n",
    "sprintf(\"Total  Names: %s\", length((as.character(data.combined$name))))\n",
    "\n",
    "#show me the duplicates\n",
    "dup.names <- as.character(data.combined[which(duplicated(as.character(data.combined$name))), \"name\"])\n",
    "data.combined[which(data.combined$name %in% dup.names),]\n"
   ]
  },
  {
   "cell_type": "markdown",
   "metadata": {},
   "source": [
    "### People's titles\n",
    "What does the person's title tell about them?'"
   ]
  },
  {
   "cell_type": "code",
   "execution_count": 7,
   "metadata": {},
   "outputs": [
    {
     "data": {
      "text/html": [
       "<table>\n",
       "<thead><tr><th></th><th scope=col>passengerid</th><th scope=col>survived</th><th scope=col>pclass</th><th scope=col>name</th><th scope=col>sex</th><th scope=col>age</th><th scope=col>sibsp</th><th scope=col>parch</th><th scope=col>ticket</th><th scope=col>fare</th><th scope=col>cabin</th><th scope=col>embarked</th></tr></thead>\n",
       "<tbody>\n",
       "\t<tr><th scope=row>3</th><td> 3                                  </td><td>1                                   </td><td>3                                   </td><td>Heikkinen, Miss. Laina              </td><td>female                              </td><td>26                                  </td><td>0                                   </td><td>0                                   </td><td>STON/O2. 3101282                    </td><td> 7.9250                             </td><td>                                    </td><td>S                                   </td></tr>\n",
       "\t<tr><th scope=row>11</th><td>11                                  </td><td>1                                   </td><td>3                                   </td><td>Sandstrom, Miss. Marguerite Rut     </td><td>female                              </td><td> 4                                  </td><td>1                                   </td><td>1                                   </td><td>PP 9549                             </td><td>16.7000                             </td><td>G6                                  </td><td>S                                   </td></tr>\n",
       "\t<tr><th scope=row>12</th><td>12                                  </td><td>1                                   </td><td>1                                   </td><td>Bonnell, Miss. Elizabeth            </td><td>female                              </td><td>58                                  </td><td>0                                   </td><td>0                                   </td><td>113783                              </td><td>26.5500                             </td><td>C103                                </td><td>S                                   </td></tr>\n",
       "\t<tr><th scope=row>15</th><td>15                                  </td><td>0                                   </td><td>3                                   </td><td>Vestrom, Miss. Hulda Amanda Adolfina</td><td>female                              </td><td>14                                  </td><td>0                                   </td><td>0                                   </td><td>350406                              </td><td> 7.8542                             </td><td>                                    </td><td>S                                   </td></tr>\n",
       "\t<tr><th scope=row>23</th><td>23                                  </td><td>1                                   </td><td>3                                   </td><td>McGowan, Miss. Anna \"Annie\"         </td><td>female                              </td><td>15                                  </td><td>0                                   </td><td>0                                   </td><td>330923                              </td><td> 8.0292                             </td><td>                                    </td><td>Q                                   </td></tr>\n",
       "</tbody>\n",
       "</table>\n"
      ],
      "text/latex": [
       "\\begin{tabular}{r|llllllllllll}\n",
       "  & passengerid & survived & pclass & name & sex & age & sibsp & parch & ticket & fare & cabin & embarked\\\\\n",
       "\\hline\n",
       "\t3 &  3                                   & 1                                    & 3                                    & Heikkinen, Miss. Laina               & female                               & 26                                   & 0                                    & 0                                    & STON/O2. 3101282                     &  7.9250                              &                                      & S                                   \\\\\n",
       "\t11 & 11                                   & 1                                    & 3                                    & Sandstrom, Miss. Marguerite Rut      & female                               &  4                                   & 1                                    & 1                                    & PP 9549                              & 16.7000                              & G6                                   & S                                   \\\\\n",
       "\t12 & 12                                   & 1                                    & 1                                    & Bonnell, Miss. Elizabeth             & female                               & 58                                   & 0                                    & 0                                    & 113783                               & 26.5500                              & C103                                 & S                                   \\\\\n",
       "\t15 & 15                                   & 0                                    & 3                                    & Vestrom, Miss. Hulda Amanda Adolfina & female                               & 14                                   & 0                                    & 0                                    & 350406                               &  7.8542                              &                                      & S                                   \\\\\n",
       "\t23 & 23                                   & 1                                    & 3                                    & McGowan, Miss. Anna \"Annie\"          & female                               & 15                                   & 0                                    & 0                                    & 330923                               &  8.0292                              &                                      & Q                                   \\\\\n",
       "\\end{tabular}\n"
      ],
      "text/markdown": [
       "\n",
       "| <!--/--> | passengerid | survived | pclass | name | sex | age | sibsp | parch | ticket | fare | cabin | embarked | \n",
       "|---|---|---|---|---|\n",
       "| 3 |  3                                   | 1                                    | 3                                    | Heikkinen, Miss. Laina               | female                               | 26                                   | 0                                    | 0                                    | STON/O2. 3101282                     |  7.9250                              |                                      | S                                    | \n",
       "| 11 | 11                                   | 1                                    | 3                                    | Sandstrom, Miss. Marguerite Rut      | female                               |  4                                   | 1                                    | 1                                    | PP 9549                              | 16.7000                              | G6                                   | S                                    | \n",
       "| 12 | 12                                   | 1                                    | 1                                    | Bonnell, Miss. Elizabeth             | female                               | 58                                   | 0                                    | 0                                    | 113783                               | 26.5500                              | C103                                 | S                                    | \n",
       "| 15 | 15                                   | 0                                    | 3                                    | Vestrom, Miss. Hulda Amanda Adolfina | female                               | 14                                   | 0                                    | 0                                    | 350406                               |  7.8542                              |                                      | S                                    | \n",
       "| 23 | 23                                   | 1                                    | 3                                    | McGowan, Miss. Anna \"Annie\"          | female                               | 15                                   | 0                                    | 0                                    | 330923                               |  8.0292                              |                                      | Q                                    | \n",
       "\n",
       "\n"
      ],
      "text/plain": [
       "   passengerid survived pclass name                                 sex    age\n",
       "3   3          1        3      Heikkinen, Miss. Laina               female 26 \n",
       "11 11          1        3      Sandstrom, Miss. Marguerite Rut      female  4 \n",
       "12 12          1        1      Bonnell, Miss. Elizabeth             female 58 \n",
       "15 15          0        3      Vestrom, Miss. Hulda Amanda Adolfina female 14 \n",
       "23 23          1        3      McGowan, Miss. Anna \"Annie\"          female 15 \n",
       "   sibsp parch ticket           fare    cabin embarked\n",
       "3  0     0     STON/O2. 3101282  7.9250       S       \n",
       "11 1     1     PP 9549          16.7000 G6    S       \n",
       "12 0     0     113783           26.5500 C103  S       \n",
       "15 0     0     350406            7.8542       S       \n",
       "23 0     0     330923            8.0292       Q       "
      ]
     },
     "metadata": {},
     "output_type": "display_data"
    },
    {
     "data": {
      "text/html": [
       "<table>\n",
       "<thead><tr><th></th><th scope=col>passengerid</th><th scope=col>survived</th><th scope=col>pclass</th><th scope=col>name</th><th scope=col>sex</th><th scope=col>age</th><th scope=col>sibsp</th><th scope=col>parch</th><th scope=col>ticket</th><th scope=col>fare</th><th scope=col>cabin</th><th scope=col>embarked</th></tr></thead>\n",
       "<tbody>\n",
       "\t<tr><th scope=row>2</th><td> 2                                                 </td><td>1                                                  </td><td>1                                                  </td><td>Cumings, Mrs. John Bradley (Florence Briggs Thayer)</td><td>female                                             </td><td>38                                                 </td><td>1                                                  </td><td>0                                                  </td><td>PC 17599                                           </td><td>71.2833                                            </td><td>C85                                                </td><td>C                                                  </td></tr>\n",
       "\t<tr><th scope=row>4</th><td> 4                                                 </td><td>1                                                  </td><td>1                                                  </td><td>Futrelle, Mrs. Jacques Heath (Lily May Peel)       </td><td>female                                             </td><td>35                                                 </td><td>1                                                  </td><td>0                                                  </td><td>113803                                             </td><td>53.1000                                            </td><td>C123                                               </td><td>S                                                  </td></tr>\n",
       "\t<tr><th scope=row>9</th><td> 9                                                 </td><td>1                                                  </td><td>3                                                  </td><td>Johnson, Mrs. Oscar W (Elisabeth Vilhelmina Berg)  </td><td>female                                             </td><td>27                                                 </td><td>0                                                  </td><td>2                                                  </td><td>347742                                             </td><td>11.1333                                            </td><td>                                                   </td><td>S                                                  </td></tr>\n",
       "\t<tr><th scope=row>10</th><td>10                                                 </td><td>1                                                  </td><td>2                                                  </td><td>Nasser, Mrs. Nicholas (Adele Achem)                </td><td>female                                             </td><td>14                                                 </td><td>1                                                  </td><td>0                                                  </td><td>237736                                             </td><td>30.0708                                            </td><td>                                                   </td><td>C                                                  </td></tr>\n",
       "\t<tr><th scope=row>16</th><td>16                                                 </td><td>1                                                  </td><td>2                                                  </td><td>Hewlett, Mrs. (Mary D Kingcome)                    </td><td>female                                             </td><td>55                                                 </td><td>0                                                  </td><td>0                                                  </td><td>248706                                             </td><td>16.0000                                            </td><td>                                                   </td><td>S                                                  </td></tr>\n",
       "</tbody>\n",
       "</table>\n"
      ],
      "text/latex": [
       "\\begin{tabular}{r|llllllllllll}\n",
       "  & passengerid & survived & pclass & name & sex & age & sibsp & parch & ticket & fare & cabin & embarked\\\\\n",
       "\\hline\n",
       "\t2 &  2                                                  & 1                                                   & 1                                                   & Cumings, Mrs. John Bradley (Florence Briggs Thayer) & female                                              & 38                                                  & 1                                                   & 0                                                   & PC 17599                                            & 71.2833                                             & C85                                                 & C                                                  \\\\\n",
       "\t4 &  4                                                  & 1                                                   & 1                                                   & Futrelle, Mrs. Jacques Heath (Lily May Peel)        & female                                              & 35                                                  & 1                                                   & 0                                                   & 113803                                              & 53.1000                                             & C123                                                & S                                                  \\\\\n",
       "\t9 &  9                                                  & 1                                                   & 3                                                   & Johnson, Mrs. Oscar W (Elisabeth Vilhelmina Berg)   & female                                              & 27                                                  & 0                                                   & 2                                                   & 347742                                              & 11.1333                                             &                                                     & S                                                  \\\\\n",
       "\t10 & 10                                                  & 1                                                   & 2                                                   & Nasser, Mrs. Nicholas (Adele Achem)                 & female                                              & 14                                                  & 1                                                   & 0                                                   & 237736                                              & 30.0708                                             &                                                     & C                                                  \\\\\n",
       "\t16 & 16                                                  & 1                                                   & 2                                                   & Hewlett, Mrs. (Mary D Kingcome)                     & female                                              & 55                                                  & 0                                                   & 0                                                   & 248706                                              & 16.0000                                             &                                                     & S                                                  \\\\\n",
       "\\end{tabular}\n"
      ],
      "text/markdown": [
       "\n",
       "| <!--/--> | passengerid | survived | pclass | name | sex | age | sibsp | parch | ticket | fare | cabin | embarked | \n",
       "|---|---|---|---|---|\n",
       "| 2 |  2                                                  | 1                                                   | 1                                                   | Cumings, Mrs. John Bradley (Florence Briggs Thayer) | female                                              | 38                                                  | 1                                                   | 0                                                   | PC 17599                                            | 71.2833                                             | C85                                                 | C                                                   | \n",
       "| 4 |  4                                                  | 1                                                   | 1                                                   | Futrelle, Mrs. Jacques Heath (Lily May Peel)        | female                                              | 35                                                  | 1                                                   | 0                                                   | 113803                                              | 53.1000                                             | C123                                                | S                                                   | \n",
       "| 9 |  9                                                  | 1                                                   | 3                                                   | Johnson, Mrs. Oscar W (Elisabeth Vilhelmina Berg)   | female                                              | 27                                                  | 0                                                   | 2                                                   | 347742                                              | 11.1333                                             |                                                     | S                                                   | \n",
       "| 10 | 10                                                  | 1                                                   | 2                                                   | Nasser, Mrs. Nicholas (Adele Achem)                 | female                                              | 14                                                  | 1                                                   | 0                                                   | 237736                                              | 30.0708                                             |                                                     | C                                                   | \n",
       "| 16 | 16                                                  | 1                                                   | 2                                                   | Hewlett, Mrs. (Mary D Kingcome)                     | female                                              | 55                                                  | 0                                                   | 0                                                   | 248706                                              | 16.0000                                             |                                                     | S                                                   | \n",
       "\n",
       "\n"
      ],
      "text/plain": [
       "   passengerid survived pclass\n",
       "2   2          1        1     \n",
       "4   4          1        1     \n",
       "9   9          1        3     \n",
       "10 10          1        2     \n",
       "16 16          1        2     \n",
       "   name                                                sex    age sibsp parch\n",
       "2  Cumings, Mrs. John Bradley (Florence Briggs Thayer) female 38  1     0    \n",
       "4  Futrelle, Mrs. Jacques Heath (Lily May Peel)        female 35  1     0    \n",
       "9  Johnson, Mrs. Oscar W (Elisabeth Vilhelmina Berg)   female 27  0     2    \n",
       "10 Nasser, Mrs. Nicholas (Adele Achem)                 female 14  1     0    \n",
       "16 Hewlett, Mrs. (Mary D Kingcome)                     female 55  0     0    \n",
       "   ticket   fare    cabin embarked\n",
       "2  PC 17599 71.2833 C85   C       \n",
       "4  113803   53.1000 C123  S       \n",
       "9  347742   11.1333       S       \n",
       "10 237736   30.0708       C       \n",
       "16 248706   16.0000       S       "
      ]
     },
     "metadata": {},
     "output_type": "display_data"
    },
    {
     "data": {
      "text/html": [
       "<table>\n",
       "<thead><tr><th></th><th scope=col>passengerid</th><th scope=col>survived</th><th scope=col>pclass</th><th scope=col>name</th><th scope=col>sex</th><th scope=col>age</th><th scope=col>sibsp</th><th scope=col>parch</th><th scope=col>ticket</th><th scope=col>fare</th><th scope=col>cabin</th><th scope=col>embarked</th></tr></thead>\n",
       "<tbody>\n",
       "\t<tr><th scope=row>1</th><td>1                             </td><td>0                             </td><td>3                             </td><td>Braund, Mr. Owen Harris       </td><td>male                          </td><td>22                            </td><td>1                             </td><td>0                             </td><td>A/5 21171                     </td><td> 7.2500                       </td><td>                              </td><td>S                             </td></tr>\n",
       "\t<tr><th scope=row>5</th><td>5                             </td><td>0                             </td><td>3                             </td><td>Allen, Mr. William Henry      </td><td>male                          </td><td>35                            </td><td>0                             </td><td>0                             </td><td>373450                        </td><td> 8.0500                       </td><td>                              </td><td>S                             </td></tr>\n",
       "\t<tr><th scope=row>6</th><td>6                             </td><td>0                             </td><td>3                             </td><td>Moran, Mr. James              </td><td>male                          </td><td>NA                            </td><td>0                             </td><td>0                             </td><td>330877                        </td><td> 8.4583                       </td><td>                              </td><td>Q                             </td></tr>\n",
       "\t<tr><th scope=row>7</th><td>7                             </td><td>0                             </td><td>1                             </td><td>McCarthy, Mr. Timothy J       </td><td>male                          </td><td>54                            </td><td>0                             </td><td>0                             </td><td>17463                         </td><td>51.8625                       </td><td>E46                           </td><td>S                             </td></tr>\n",
       "\t<tr><th scope=row>8</th><td>8                             </td><td>0                             </td><td>3                             </td><td>Palsson, Master. Gosta Leonard</td><td>male                          </td><td> 2                            </td><td>3                             </td><td>1                             </td><td>349909                        </td><td>21.0750                       </td><td>                              </td><td>S                             </td></tr>\n",
       "</tbody>\n",
       "</table>\n"
      ],
      "text/latex": [
       "\\begin{tabular}{r|llllllllllll}\n",
       "  & passengerid & survived & pclass & name & sex & age & sibsp & parch & ticket & fare & cabin & embarked\\\\\n",
       "\\hline\n",
       "\t1 & 1                              & 0                              & 3                              & Braund, Mr. Owen Harris        & male                           & 22                             & 1                              & 0                              & A/5 21171                      &  7.2500                        &                                & S                             \\\\\n",
       "\t5 & 5                              & 0                              & 3                              & Allen, Mr. William Henry       & male                           & 35                             & 0                              & 0                              & 373450                         &  8.0500                        &                                & S                             \\\\\n",
       "\t6 & 6                              & 0                              & 3                              & Moran, Mr. James               & male                           & NA                             & 0                              & 0                              & 330877                         &  8.4583                        &                                & Q                             \\\\\n",
       "\t7 & 7                              & 0                              & 1                              & McCarthy, Mr. Timothy J        & male                           & 54                             & 0                              & 0                              & 17463                          & 51.8625                        & E46                            & S                             \\\\\n",
       "\t8 & 8                              & 0                              & 3                              & Palsson, Master. Gosta Leonard & male                           &  2                             & 3                              & 1                              & 349909                         & 21.0750                        &                                & S                             \\\\\n",
       "\\end{tabular}\n"
      ],
      "text/markdown": [
       "\n",
       "| <!--/--> | passengerid | survived | pclass | name | sex | age | sibsp | parch | ticket | fare | cabin | embarked | \n",
       "|---|---|---|---|---|\n",
       "| 1 | 1                              | 0                              | 3                              | Braund, Mr. Owen Harris        | male                           | 22                             | 1                              | 0                              | A/5 21171                      |  7.2500                        |                                | S                              | \n",
       "| 5 | 5                              | 0                              | 3                              | Allen, Mr. William Henry       | male                           | 35                             | 0                              | 0                              | 373450                         |  8.0500                        |                                | S                              | \n",
       "| 6 | 6                              | 0                              | 3                              | Moran, Mr. James               | male                           | NA                             | 0                              | 0                              | 330877                         |  8.4583                        |                                | Q                              | \n",
       "| 7 | 7                              | 0                              | 1                              | McCarthy, Mr. Timothy J        | male                           | 54                             | 0                              | 0                              | 17463                          | 51.8625                        | E46                            | S                              | \n",
       "| 8 | 8                              | 0                              | 3                              | Palsson, Master. Gosta Leonard | male                           |  2                             | 3                              | 1                              | 349909                         | 21.0750                        |                                | S                              | \n",
       "\n",
       "\n"
      ],
      "text/plain": [
       "  passengerid survived pclass name                           sex  age sibsp\n",
       "1 1           0        3      Braund, Mr. Owen Harris        male 22  1    \n",
       "5 5           0        3      Allen, Mr. William Henry       male 35  0    \n",
       "6 6           0        3      Moran, Mr. James               male NA  0    \n",
       "7 7           0        1      McCarthy, Mr. Timothy J        male 54  0    \n",
       "8 8           0        3      Palsson, Master. Gosta Leonard male  2  3    \n",
       "  parch ticket    fare    cabin embarked\n",
       "1 0     A/5 21171  7.2500       S       \n",
       "5 0     373450     8.0500       S       \n",
       "6 0     330877     8.4583       Q       \n",
       "7 0     17463     51.8625 E46   S       \n",
       "8 1     349909    21.0750       S       "
      ]
     },
     "metadata": {},
     "output_type": "display_data"
    }
   ],
   "source": [
    "## Let's take a look at Miss, Mrs, and Males\n",
    "n<-5\n",
    "misses <- data.combined[which(str_detect(data.combined$name, \"Miss.\")),]\n",
    "misses[1:n,]\n",
    "\n",
    "mrses <- data.combined[which(str_detect(data.combined$name, \"Mrs.\")), ]\n",
    "mrses[1:n,]\n",
    "\n",
    "males <- data.combined[which(data.combined$sex == \"male\"), ]\n",
    "males[1:n,]"
   ]
  },
  {
   "cell_type": "markdown",
   "metadata": {},
   "source": [
    "## Titles and Classes\n",
    "Since we think titles have something to do with whether you survived or died, let's look at titles and classes together"
   ]
  },
  {
   "cell_type": "code",
   "execution_count": 8,
   "metadata": {},
   "outputs": [
    {
     "data": {},
     "metadata": {},
     "output_type": "display_data"
    },
    {
     "data": {
      "image/png": "[encoded data removed]",
      "text/plain": [
       "plot without title"
      ]
     },
     "metadata": {},
     "output_type": "display_data"
    }
   ],
   "source": [
    "#functions for extracting titles\n",
    "extractTitle <- function(name) {\n",
    "  name <- as.character(name)\n",
    "  if (length(grep(\"Miss.\", name)) > 0) {\n",
    "    return (\"Miss.\")\n",
    "  } else if (length(grep(\"Master.\", name)) > 0) {\n",
    "    return (\"Master.\")\n",
    "  } else if (length(grep(\"Mrs.\", name)) > 0) {\n",
    "    return (\"Mrs.\")\n",
    "  } else if (length(grep(\"Mr.\", name)) > 0) {\n",
    "    return (\"Mr.\")\n",
    "  } else {\n",
    "    return (\"Other\")\n",
    "  }\n",
    "}\n",
    "\n",
    "\n",
    "#create a title\n",
    "titles <- NULL\n",
    "for (i in 1:nrow(data.combined)) {\n",
    "  titles <- c(titles, extractTitle(data.combined[i,\"name\"]))\n",
    "}\n",
    "data.combined$title <- as.factor(titles)\n",
    "\n",
    "# Since we only have survived lables for the train set, only use the\n",
    "# first 891 rows\n",
    "options(repr.plot.width=6, repr.plot.height=4)\n",
    "ggplot(data.combined[1:891,], aes(x = title, fill = survived)) + \n",
    "  stat_count(width = 0.5) +  facet_wrap(~pclass) + theme(axis.text.x = element_text(angle = 90, hjust = 1)) +\n",
    "  ggtitle(\"Pclass\") + xlab(\"Title of Passenger\") + ylab(\"Total Count\") + labs(fill = \"Survived\") "
   ]
  },
  {
   "cell_type": "markdown",
   "metadata": {},
   "source": [
    "### Gender Effects On Survival Rates"
   ]
  },
  {
   "cell_type": "code",
   "execution_count": 9,
   "metadata": {},
   "outputs": [
    {
     "data": {
      "text/plain": [
       "\n",
       "female   male \n",
       "   466    843 "
      ]
     },
     "metadata": {},
     "output_type": "display_data"
    }
   ],
   "source": [
    "table(data.combined$sex)"
   ]
  },
  {
   "cell_type": "code",
   "execution_count": 10,
   "metadata": {},
   "outputs": [
    {
     "data": {},
     "metadata": {},
     "output_type": "display_data"
    },
    {
     "data": {
      "image/png": "[encoded data removed]",
      "text/plain": [
       "plot without title"
      ]
     },
     "metadata": {},
     "output_type": "display_data"
    }
   ],
   "source": [
    "options(repr.plot.width=6, repr.plot.height=4)\n",
    "ggplot(data.combined[1:891,], aes(x = sex, fill = survived)) +\n",
    "  stat_count(width = 0.5) + facet_wrap(~pclass) + \n",
    "  ggtitle(\"Pclass\") + xlab(\"Sex\") + ylab(\"Total Count\") + labs(fill = \"Survived\")"
   ]
  },
  {
   "cell_type": "code",
   "execution_count": 11,
   "metadata": {},
   "outputs": [
    {
     "data": {
      "text/plain": [
       "   Min. 1st Qu.  Median    Mean 3rd Qu.    Max.    NA's \n",
       "   0.17   21.00   28.00   29.88   39.00   80.00     263 "
      ]
     },
     "metadata": {},
     "output_type": "display_data"
    },
    {
     "data": {
      "text/plain": [
       "   Min. 1st Qu.  Median    Mean 3rd Qu.    Max.    NA's \n",
       "   0.42   20.12   28.00   29.70   38.00   80.00     177 "
      ]
     },
     "metadata": {},
     "output_type": "display_data"
    }
   ],
   "source": [
    "summary(data.combined$age)\n",
    "summary(data.combined[1:891,\"age\"])"
   ]
  },
  {
   "cell_type": "code",
   "execution_count": 12,
   "metadata": {},
   "outputs": [
    {
     "name": "stderr",
     "output_type": "stream",
     "text": [
      "Warning message:\n",
      "\"Removed 177 rows containing non-finite values (stat_bin).\""
     ]
    },
    {
     "data": {},
     "metadata": {},
     "output_type": "display_data"
    },
    {
     "data": {
      "image/png": "[encoded data removed]",
      "text/plain": [
       "plot without title"
      ]
     },
     "metadata": {},
     "output_type": "display_data"
    }
   ],
   "source": [
    "options(repr.plot.width=6, repr.plot.height=6)\n",
    "\n",
    "ggplot(data.combined[1:891,], aes(x = age, fill = survived)) +\n",
    "  facet_wrap(~sex + pclass) + geom_histogram(binwidth = 10) +\n",
    "  xlab(\"Age\") + ylab(\"Total Count\")"
   ]
  },
  {
   "cell_type": "code",
   "execution_count": 13,
   "metadata": {},
   "outputs": [
    {
     "data": {
      "text/plain": [
       "   Min. 1st Qu.  Median    Mean 3rd Qu.    Max.    NA's \n",
       "  0.330   2.000   4.000   5.483   9.000  14.500       8 "
      ]
     },
     "metadata": {},
     "output_type": "display_data"
    }
   ],
   "source": [
    "boys <- data.combined[which(data.combined$title == \"Master.\"),]\n",
    "summary(boys$age)"
   ]
  },
  {
   "cell_type": "code",
   "execution_count": 14,
   "metadata": {},
   "outputs": [
    {
     "data": {
      "text/plain": [
       "   Min. 1st Qu.  Median    Mean 3rd Qu.    Max.    NA's \n",
       "   0.17   15.00   22.00   21.77   30.00   63.00      50 "
      ]
     },
     "metadata": {},
     "output_type": "display_data"
    }
   ],
   "source": [
    "misses <- data.combined[which(data.combined$title == \"Miss.\"),]\n",
    "summary(misses$age)"
   ]
  },
  {
   "cell_type": "code",
   "execution_count": 15,
   "metadata": {},
   "outputs": [
    {
     "name": "stderr",
     "output_type": "stream",
     "text": [
      "Warning message:\n",
      "\"Removed 36 rows containing non-finite values (stat_bin).\""
     ]
    },
    {
     "data": {},
     "metadata": {},
     "output_type": "display_data"
    },
    {
     "data": {
      "image/png": "[encoded data removed]",
      "text/plain": [
       "plot without title"
      ]
     },
     "metadata": {},
     "output_type": "display_data"
    }
   ],
   "source": [
    "options(repr.plot.width=6, repr.plot.height=4)\n",
    "ggplot(misses[misses$survived != \"None\",], aes(x = age, fill = survived)) +\n",
    "  facet_wrap(~pclass) +  geom_histogram(binwidth = 5) +\n",
    "  ggtitle(\"Age for 'Miss.' by Pclass\") + xlab(\"Age\") + ylab(\"Total Count\")"
   ]
  },
  {
   "cell_type": "code",
   "execution_count": 16,
   "metadata": {},
   "outputs": [
    {
     "data": {
      "text/plain": [
       "   Min. 1st Qu.  Median    Mean 3rd Qu.    Max.    NA's \n",
       "   5.00   21.00   26.00   27.23   32.50   58.00      33 "
      ]
     },
     "metadata": {},
     "output_type": "display_data"
    },
    {
     "data": {
      "text/html": [
       "4"
      ],
      "text/latex": [
       "4"
      ],
      "text/markdown": [
       "4"
      ],
      "text/plain": [
       "[1] 4"
      ]
     },
     "metadata": {},
     "output_type": "display_data"
    }
   ],
   "source": [
    "# OK, appears female children may have different survival rate, \n",
    "# could be a candidate for feature engineering later\n",
    "misses.alone <- misses[which(misses$sibsp == 0 & misses$parch == 0),]\n",
    "summary(misses.alone$age)\n",
    "length(which(misses.alone$age <= 14.5))"
   ]
  },
  {
   "cell_type": "markdown",
   "metadata": {},
   "source": [
    "### Young Men and Women\n",
    "\n",
    "Appears that young men traveling alone are traveling with family while young women are traveling alone. Generally the women are older while the men are younger. They are likely traveling with family."
   ]
  },
  {
   "cell_type": "markdown",
   "metadata": {},
   "source": [
    "### Sibling Factor\n",
    "\n",
    "Does the sibling factor matter?"
   ]
  },
  {
   "cell_type": "code",
   "execution_count": 17,
   "metadata": {},
   "outputs": [
    {
     "data": {
      "text/plain": [
       "   Min. 1st Qu.  Median    Mean 3rd Qu.    Max. \n",
       " 0.0000  0.0000  0.0000  0.4989  1.0000  8.0000 "
      ]
     },
     "metadata": {},
     "output_type": "display_data"
    }
   ],
   "source": [
    "# Move on to the sibsp variable, summarize the variable\n",
    "summary(data.combined$sibsp)"
   ]
  },
  {
   "cell_type": "code",
   "execution_count": 18,
   "metadata": {},
   "outputs": [
    {
     "data": {
      "text/html": [
       "7"
      ],
      "text/latex": [
       "7"
      ],
      "text/markdown": [
       "7"
      ],
      "text/plain": [
       "[1] 7"
      ]
     },
     "metadata": {},
     "output_type": "display_data"
    }
   ],
   "source": [
    "# Can we treat as a factor?\n",
    "length(unique(data.combined$sibsp))\n",
    "data.combined$parch <- as.factor(data.combined$parch)\n"
   ]
  },
  {
   "cell_type": "code",
   "execution_count": 19,
   "metadata": {},
   "outputs": [
    {
     "data": {},
     "metadata": {},
     "output_type": "display_data"
    },
    {
     "data": {
      "image/png": "[encoded data removed]",
      "text/plain": [
       "plot without title"
      ]
     },
     "metadata": {},
     "output_type": "display_data"
    }
   ],
   "source": [
    "# Treat the parch vaiable as a factor and visualize\n",
    "data.combined$parch <- as.factor(data.combined$parch)\n",
    "\n",
    "options(repr.plot.width=10, repr.plot.height=10)\n",
    "\n",
    "ggplot(data.combined[1:891,], aes(x = parch, fill = survived)) +\n",
    "  stat_count(width = 1) +  facet_wrap(~pclass + title) + \n",
    "  ggtitle(\"Pclass, Title\") + xlab(\"ParCh\") + ylab(\"Total Count\") + ylim(0,300) + labs(fill = \"Survived\")"
   ]
  },
  {
   "cell_type": "markdown",
   "metadata": {},
   "source": [
    "### Family Size\n",
    "\n",
    "Combining parents and siblings will give the entire family's size"
   ]
  },
  {
   "cell_type": "code",
   "execution_count": 148,
   "metadata": {},
   "outputs": [
    {
     "data": {},
     "metadata": {},
     "output_type": "display_data"
    },
    {
     "data": {
      "image/png": "[encoded data removed]",
      "text/plain": [
       "plot without title"
      ]
     },
     "metadata": {},
     "output_type": "display_data"
    }
   ],
   "source": [
    "# Let's try some feature engineering. What about creating a family size feature?\n",
    "temp.sibsp <- c(train$sibsp, test$sibsp)\n",
    "temp.parch <- c(train$parch, test$parch)\n",
    "data.combined$family.size <- as.factor(temp.sibsp + temp.parch + 1) #parents and siblings plus 1 to equal total family size\n",
    "\n",
    "# Visualize it to see if it is predictive\n",
    "options(repr.plot.width=10, repr.plot.height=10)\n",
    "\n",
    "ggplot(data.combined[1:891,], aes(x = family.size, fill = survived)) +\n",
    "  stat_count(width = 1) +  facet_wrap(~pclass + title) + \n",
    "  ggtitle(\"Pclass, Title\") + xlab(\"family.size\") +  ylab(\"Total Count\") + ylim(0,300) +  labs(fill = \"Survived\")"
   ]
  },
  {
   "cell_type": "markdown",
   "metadata": {},
   "source": [
    "### Ticket Variable\n",
    "Does ticket variable matter?"
   ]
  },
  {
   "cell_type": "code",
   "execution_count": 21,
   "metadata": {},
   "outputs": [
    {
     "name": "stdout",
     "output_type": "stream",
     "text": [
      " Factor w/ 929 levels \"110152\",\"110413\",..: 524 597 670 50 473 276 86 396 345 133 ...\n"
     ]
    },
    {
     "data": {
      "text/html": [
       "<ol class=list-inline>\n",
       "\t<li>'A/5 21171'</li>\n",
       "\t<li>'PC 17599'</li>\n",
       "\t<li>'STON/O2. 3101282'</li>\n",
       "\t<li>'113803'</li>\n",
       "\t<li>'373450'</li>\n",
       "\t<li>'330877'</li>\n",
       "\t<li>'17463'</li>\n",
       "\t<li>'349909'</li>\n",
       "\t<li>'347742'</li>\n",
       "\t<li>'237736'</li>\n",
       "\t<li>'PP 9549'</li>\n",
       "\t<li>'113783'</li>\n",
       "\t<li>'A/5. 2151'</li>\n",
       "\t<li>'347082'</li>\n",
       "\t<li>'350406'</li>\n",
       "\t<li>'248706'</li>\n",
       "\t<li>'382652'</li>\n",
       "\t<li>'244373'</li>\n",
       "\t<li>'345763'</li>\n",
       "\t<li>'2649'</li>\n",
       "</ol>\n"
      ],
      "text/latex": [
       "\\begin{enumerate*}\n",
       "\\item 'A/5 21171'\n",
       "\\item 'PC 17599'\n",
       "\\item 'STON/O2. 3101282'\n",
       "\\item '113803'\n",
       "\\item '373450'\n",
       "\\item '330877'\n",
       "\\item '17463'\n",
       "\\item '349909'\n",
       "\\item '347742'\n",
       "\\item '237736'\n",
       "\\item 'PP 9549'\n",
       "\\item '113783'\n",
       "\\item 'A/5. 2151'\n",
       "\\item '347082'\n",
       "\\item '350406'\n",
       "\\item '248706'\n",
       "\\item '382652'\n",
       "\\item '244373'\n",
       "\\item '345763'\n",
       "\\item '2649'\n",
       "\\end{enumerate*}\n"
      ],
      "text/markdown": [
       "1. 'A/5 21171'\n",
       "2. 'PC 17599'\n",
       "3. 'STON/O2. 3101282'\n",
       "4. '113803'\n",
       "5. '373450'\n",
       "6. '330877'\n",
       "7. '17463'\n",
       "8. '349909'\n",
       "9. '347742'\n",
       "10. '237736'\n",
       "11. 'PP 9549'\n",
       "12. '113783'\n",
       "13. 'A/5. 2151'\n",
       "14. '347082'\n",
       "15. '350406'\n",
       "16. '248706'\n",
       "17. '382652'\n",
       "18. '244373'\n",
       "19. '345763'\n",
       "20. '2649'\n",
       "\n",
       "\n"
      ],
      "text/plain": [
       " [1] \"A/5 21171\"        \"PC 17599\"         \"STON/O2. 3101282\" \"113803\"          \n",
       " [5] \"373450\"           \"330877\"           \"17463\"            \"349909\"          \n",
       " [9] \"347742\"           \"237736\"           \"PP 9549\"          \"113783\"          \n",
       "[13] \"A/5. 2151\"        \"347082\"           \"350406\"           \"248706\"          \n",
       "[17] \"382652\"           \"244373\"           \"345763\"           \"2649\"            "
      ]
     },
     "metadata": {},
     "output_type": "display_data"
    }
   ],
   "source": [
    "# Take a look at the ticket variable\n",
    "# This probably isn't a factor, probably more of a string\n",
    "str(data.combined$ticket)\n",
    "\n",
    "data.combined$ticket <- as.character(data.combined$ticket)\n",
    "data.combined$ticket[1:20]\n"
   ]
  },
  {
   "cell_type": "code",
   "execution_count": 22,
   "metadata": {
    "scrolled": false
   },
   "outputs": [
    {
     "data": {
      "text/html": [
       "<ol class=list-inline>\n",
       "\t<li>'A'</li>\n",
       "\t<li>'P'</li>\n",
       "\t<li>'S'</li>\n",
       "\t<li>'1'</li>\n",
       "\t<li>'3'</li>\n",
       "\t<li>'2'</li>\n",
       "\t<li>'C'</li>\n",
       "\t<li>'7'</li>\n",
       "\t<li>'W'</li>\n",
       "\t<li>'4'</li>\n",
       "\t<li>'F'</li>\n",
       "\t<li>'L'</li>\n",
       "\t<li>'9'</li>\n",
       "\t<li>'6'</li>\n",
       "\t<li>'5'</li>\n",
       "\t<li>'8'</li>\n",
       "</ol>\n"
      ],
      "text/latex": [
       "\\begin{enumerate*}\n",
       "\\item 'A'\n",
       "\\item 'P'\n",
       "\\item 'S'\n",
       "\\item '1'\n",
       "\\item '3'\n",
       "\\item '2'\n",
       "\\item 'C'\n",
       "\\item '7'\n",
       "\\item 'W'\n",
       "\\item '4'\n",
       "\\item 'F'\n",
       "\\item 'L'\n",
       "\\item '9'\n",
       "\\item '6'\n",
       "\\item '5'\n",
       "\\item '8'\n",
       "\\end{enumerate*}\n"
      ],
      "text/markdown": [
       "1. 'A'\n",
       "2. 'P'\n",
       "3. 'S'\n",
       "4. '1'\n",
       "5. '3'\n",
       "6. '2'\n",
       "7. 'C'\n",
       "8. '7'\n",
       "9. 'W'\n",
       "10. '4'\n",
       "11. 'F'\n",
       "12. 'L'\n",
       "13. '9'\n",
       "14. '6'\n",
       "15. '5'\n",
       "16. '8'\n",
       "\n",
       "\n"
      ],
      "text/plain": [
       " [1] \"A\" \"P\" \"S\" \"1\" \"3\" \"2\" \"C\" \"7\" \"W\" \"4\" \"F\" \"L\" \"9\" \"6\" \"5\" \"8\""
      ]
     },
     "metadata": {},
     "output_type": "display_data"
    },
    {
     "data": {},
     "metadata": {},
     "output_type": "display_data"
    },
    {
     "name": "stderr",
     "output_type": "stream",
     "text": [
      "Warning message:\n",
      "\"Removed 1 rows containing missing values (geom_bar).\""
     ]
    },
    {
     "data": {},
     "metadata": {},
     "output_type": "display_data"
    },
    {
     "data": {
      "image/png": "[encoded data removed]",
      "text/plain": [
       "plot without title"
      ]
     },
     "metadata": {},
     "output_type": "display_data"
    },
    {
     "data": {
      "image/png": "[encoded data removed]",
      "text/plain": [
       "plot without title"
      ]
     },
     "metadata": {},
     "output_type": "display_data"
    }
   ],
   "source": [
    "ticket.first.char <- ifelse(data.combined$ticket == \"\", \" \", substr(data.combined$ticket, 1, 1))\n",
    "unique(ticket.first.char)\n",
    "# OK, we can make a factor for analysis purposes and visualize\n",
    "data.combined$ticket.first.char <- as.factor(ticket.first.char)\n",
    "\n",
    "# First, a high-level plot of the data\n",
    "options(repr.plot.width=6, repr.plot.height=4)\n",
    "ggplot(data.combined[1:891,], aes(x = ticket.first.char, fill = survived)) +  geom_bar() +\n",
    "  ggtitle(\"Survivability by ticket.first.char\") + xlab(\"ticket.first.char\") + ylab(\"Total Count\") + ylim(0,350) + labs(fill = \"Survived\")\n",
    "\n",
    "# Ticket seems like it might be predictive, drill down a bit\n",
    "ggplot(data.combined[1:891,], aes(x = ticket.first.char, fill = survived)) + geom_bar() + facet_wrap(~pclass) + \n",
    "  ggtitle(\"Pclass\") + xlab(\"ticket.first.char\") +  ylab(\"Total Count\") +  ylim(0,150) +  labs(fill = \"Survived\")\n"
   ]
  },
  {
   "cell_type": "code",
   "execution_count": 23,
   "metadata": {},
   "outputs": [
    {
     "data": {},
     "metadata": {},
     "output_type": "display_data"
    },
    {
     "data": {
      "image/png": "[encoded data removed]",
      "text/plain": [
       "plot without title"
      ]
     },
     "metadata": {},
     "output_type": "display_data"
    }
   ],
   "source": [
    "# Lastly, see if we get a pattern when using combination of pclass & title\n",
    "options(repr.plot.width=10, repr.plot.height=10)\n",
    "\n",
    "ggplot(data.combined[1:891,], aes(x = ticket.first.char, fill = survived)) + geom_bar() + facet_wrap(~pclass + title) + \n",
    "  ggtitle(\"Pclass, Title\") +  xlab(\"ticket.first.char\") +  ylab(\"Total Count\") +  ylim(0,200) +  labs(fill = \"Survived\")"
   ]
  },
  {
   "cell_type": "code",
   "execution_count": 24,
   "metadata": {},
   "outputs": [
    {
     "data": {
      "text/plain": [
       "   Min. 1st Qu.  Median    Mean 3rd Qu.    Max.    NA's \n",
       "  0.000   7.896  14.450  33.300  31.280 512.300       1 "
      ]
     },
     "metadata": {},
     "output_type": "display_data"
    },
    {
     "data": {
      "text/html": [
       "282"
      ],
      "text/latex": [
       "282"
      ],
      "text/markdown": [
       "282"
      ],
      "text/plain": [
       "[1] 282"
      ]
     },
     "metadata": {},
     "output_type": "display_data"
    },
    {
     "name": "stderr",
     "output_type": "stream",
     "text": [
      "Warning message:\n",
      "\"Removed 1 rows containing non-finite values (stat_count).\"Warning message:\n",
      "\"position_stack requires non-overlapping x intervals\""
     ]
    },
    {
     "data": {},
     "metadata": {},
     "output_type": "display_data"
    },
    {
     "data": {
      "image/png": "[encoded data removed]",
      "text/plain": [
       "plot without title"
      ]
     },
     "metadata": {},
     "output_type": "display_data"
    }
   ],
   "source": [
    "# Next up - the fares Titanic passengers paid\n",
    "summary(data.combined$fare)\n",
    "length(unique(data.combined$fare))\n",
    "\n",
    "# Can't make fare a factor, treat as numeric & visualize with histogram\n",
    "options(repr.plot.width=6, repr.plot.height=4)\n",
    "\n",
    "ggplot(data.combined, aes(x = fare)) + stat_count(width = 5) +\n",
    "  ggtitle(\"Combined Fare Distribution\") + xlab(\"Fare\") + ylab(\"Total Count\") + ylim(0,60)"
   ]
  },
  {
   "cell_type": "code",
   "execution_count": 26,
   "metadata": {
    "scrolled": false
   },
   "outputs": [
    {
     "name": "stderr",
     "output_type": "stream",
     "text": [
      "Warning message:\n",
      "\"position_stack requires non-overlapping x intervals\"Warning message:\n",
      "\"position_stack requires non-overlapping x intervals\"Warning message:\n",
      "\"position_stack requires non-overlapping x intervals\"Warning message:\n",
      "\"position_stack requires non-overlapping x intervals\"Warning message:\n",
      "\"position_stack requires non-overlapping x intervals\"Warning message:\n",
      "\"position_stack requires non-overlapping x intervals\"Warning message:\n",
      "\"position_stack requires non-overlapping x intervals\"Warning message:\n",
      "\"position_stack requires non-overlapping x intervals\"Warning message:\n",
      "\"position_stack requires non-overlapping x intervals\"Warning message:\n",
      "\"position_stack requires non-overlapping x intervals\"Warning message:\n",
      "\"position_stack requires non-overlapping x intervals\"Warning message:\n",
      "\"position_stack requires non-overlapping x intervals\"Warning message:\n",
      "\"position_stack requires non-overlapping x intervals\""
     ]
    },
    {
     "data": {},
     "metadata": {},
     "output_type": "display_data"
    },
    {
     "data": {
      "image/png": "[encoded data removed]",
      "text/plain": [
       "plot without title"
      ]
     },
     "metadata": {},
     "output_type": "display_data"
    }
   ],
   "source": [
    "# Let's check to see if fare has predictive power\n",
    "options(repr.plot.width=20, repr.plot.height=20)\n",
    "\n",
    "ggplot(data.combined[1:891,], aes(x = fare, fill = survived)) +\n",
    "  stat_count(width = 5) + facet_wrap(~pclass + title) +  \n",
    "  ggtitle(\"Pclass, Title\") + xlab(\"fare\") + ylab(\"Total Count\") +  ylim(0,50) +   labs(fill = \"Survived\")"
   ]
  },
  {
   "cell_type": "markdown",
   "metadata": {},
   "source": [
    "### Cabin Position\n",
    "Does cabin show us anything? We need to take a look, perhaps feature extract some stuff, and see how it works out."
   ]
  },
  {
   "cell_type": "code",
   "execution_count": 27,
   "metadata": {},
   "outputs": [
    {
     "name": "stdout",
     "output_type": "stream",
     "text": [
      " Factor w/ 187 levels \"\",\"A10\",\"A14\",..: 1 83 1 57 1 1 131 1 1 1 ...\n"
     ]
    },
    {
     "data": {
      "text/html": [
       "<ol class=list-inline>\n",
       "\t<li>''</li>\n",
       "\t<li>'C85'</li>\n",
       "\t<li>''</li>\n",
       "\t<li>'C123'</li>\n",
       "\t<li>''</li>\n",
       "\t<li>''</li>\n",
       "\t<li>'E46'</li>\n",
       "\t<li>''</li>\n",
       "\t<li>''</li>\n",
       "\t<li>''</li>\n",
       "\t<li>'G6'</li>\n",
       "\t<li>'C103'</li>\n",
       "\t<li>''</li>\n",
       "\t<li>''</li>\n",
       "\t<li>''</li>\n",
       "\t<li>''</li>\n",
       "\t<li>''</li>\n",
       "\t<li>''</li>\n",
       "\t<li>''</li>\n",
       "\t<li>''</li>\n",
       "\t<li>''</li>\n",
       "\t<li>'D56'</li>\n",
       "\t<li>''</li>\n",
       "\t<li>'A6'</li>\n",
       "\t<li>''</li>\n",
       "\t<li>''</li>\n",
       "\t<li>''</li>\n",
       "\t<li>'C23 C25 C27'</li>\n",
       "\t<li>''</li>\n",
       "\t<li>''</li>\n",
       "\t<li>''</li>\n",
       "\t<li>'B78'</li>\n",
       "\t<li>''</li>\n",
       "\t<li>''</li>\n",
       "\t<li>''</li>\n",
       "\t<li>''</li>\n",
       "\t<li>''</li>\n",
       "\t<li>''</li>\n",
       "\t<li>''</li>\n",
       "\t<li>''</li>\n",
       "\t<li>''</li>\n",
       "\t<li>''</li>\n",
       "\t<li>''</li>\n",
       "\t<li>''</li>\n",
       "\t<li>''</li>\n",
       "\t<li>''</li>\n",
       "\t<li>''</li>\n",
       "\t<li>''</li>\n",
       "\t<li>''</li>\n",
       "\t<li>''</li>\n",
       "\t<li>''</li>\n",
       "\t<li>''</li>\n",
       "\t<li>'D33'</li>\n",
       "\t<li>''</li>\n",
       "\t<li>'B30'</li>\n",
       "\t<li>'C52'</li>\n",
       "\t<li>''</li>\n",
       "\t<li>''</li>\n",
       "\t<li>''</li>\n",
       "\t<li>''</li>\n",
       "\t<li>''</li>\n",
       "\t<li>'B28'</li>\n",
       "\t<li>'C83'</li>\n",
       "\t<li>''</li>\n",
       "\t<li>''</li>\n",
       "\t<li>''</li>\n",
       "\t<li>'F33'</li>\n",
       "\t<li>''</li>\n",
       "\t<li>''</li>\n",
       "\t<li>''</li>\n",
       "\t<li>''</li>\n",
       "\t<li>''</li>\n",
       "\t<li>''</li>\n",
       "\t<li>''</li>\n",
       "\t<li>''</li>\n",
       "\t<li>'F G73'</li>\n",
       "\t<li>''</li>\n",
       "\t<li>''</li>\n",
       "\t<li>''</li>\n",
       "\t<li>''</li>\n",
       "\t<li>''</li>\n",
       "\t<li>''</li>\n",
       "\t<li>''</li>\n",
       "\t<li>''</li>\n",
       "\t<li>''</li>\n",
       "\t<li>''</li>\n",
       "\t<li>''</li>\n",
       "\t<li>''</li>\n",
       "\t<li>'C23 C25 C27'</li>\n",
       "\t<li>''</li>\n",
       "\t<li>''</li>\n",
       "\t<li>''</li>\n",
       "\t<li>'E31'</li>\n",
       "\t<li>''</li>\n",
       "\t<li>''</li>\n",
       "\t<li>''</li>\n",
       "\t<li>'A5'</li>\n",
       "\t<li>'D10 D12'</li>\n",
       "\t<li>''</li>\n",
       "\t<li>''</li>\n",
       "</ol>\n"
      ],
      "text/latex": [
       "\\begin{enumerate*}\n",
       "\\item ''\n",
       "\\item 'C85'\n",
       "\\item ''\n",
       "\\item 'C123'\n",
       "\\item ''\n",
       "\\item ''\n",
       "\\item 'E46'\n",
       "\\item ''\n",
       "\\item ''\n",
       "\\item ''\n",
       "\\item 'G6'\n",
       "\\item 'C103'\n",
       "\\item ''\n",
       "\\item ''\n",
       "\\item ''\n",
       "\\item ''\n",
       "\\item ''\n",
       "\\item ''\n",
       "\\item ''\n",
       "\\item ''\n",
       "\\item ''\n",
       "\\item 'D56'\n",
       "\\item ''\n",
       "\\item 'A6'\n",
       "\\item ''\n",
       "\\item ''\n",
       "\\item ''\n",
       "\\item 'C23 C25 C27'\n",
       "\\item ''\n",
       "\\item ''\n",
       "\\item ''\n",
       "\\item 'B78'\n",
       "\\item ''\n",
       "\\item ''\n",
       "\\item ''\n",
       "\\item ''\n",
       "\\item ''\n",
       "\\item ''\n",
       "\\item ''\n",
       "\\item ''\n",
       "\\item ''\n",
       "\\item ''\n",
       "\\item ''\n",
       "\\item ''\n",
       "\\item ''\n",
       "\\item ''\n",
       "\\item ''\n",
       "\\item ''\n",
       "\\item ''\n",
       "\\item ''\n",
       "\\item ''\n",
       "\\item ''\n",
       "\\item 'D33'\n",
       "\\item ''\n",
       "\\item 'B30'\n",
       "\\item 'C52'\n",
       "\\item ''\n",
       "\\item ''\n",
       "\\item ''\n",
       "\\item ''\n",
       "\\item ''\n",
       "\\item 'B28'\n",
       "\\item 'C83'\n",
       "\\item ''\n",
       "\\item ''\n",
       "\\item ''\n",
       "\\item 'F33'\n",
       "\\item ''\n",
       "\\item ''\n",
       "\\item ''\n",
       "\\item ''\n",
       "\\item ''\n",
       "\\item ''\n",
       "\\item ''\n",
       "\\item ''\n",
       "\\item 'F G73'\n",
       "\\item ''\n",
       "\\item ''\n",
       "\\item ''\n",
       "\\item ''\n",
       "\\item ''\n",
       "\\item ''\n",
       "\\item ''\n",
       "\\item ''\n",
       "\\item ''\n",
       "\\item ''\n",
       "\\item ''\n",
       "\\item ''\n",
       "\\item 'C23 C25 C27'\n",
       "\\item ''\n",
       "\\item ''\n",
       "\\item ''\n",
       "\\item 'E31'\n",
       "\\item ''\n",
       "\\item ''\n",
       "\\item ''\n",
       "\\item 'A5'\n",
       "\\item 'D10 D12'\n",
       "\\item ''\n",
       "\\item ''\n",
       "\\end{enumerate*}\n"
      ],
      "text/markdown": [
       "1. ''\n",
       "2. 'C85'\n",
       "3. ''\n",
       "4. 'C123'\n",
       "5. ''\n",
       "6. ''\n",
       "7. 'E46'\n",
       "8. ''\n",
       "9. ''\n",
       "10. ''\n",
       "11. 'G6'\n",
       "12. 'C103'\n",
       "13. ''\n",
       "14. ''\n",
       "15. ''\n",
       "16. ''\n",
       "17. ''\n",
       "18. ''\n",
       "19. ''\n",
       "20. ''\n",
       "21. ''\n",
       "22. 'D56'\n",
       "23. ''\n",
       "24. 'A6'\n",
       "25. ''\n",
       "26. ''\n",
       "27. ''\n",
       "28. 'C23 C25 C27'\n",
       "29. ''\n",
       "30. ''\n",
       "31. ''\n",
       "32. 'B78'\n",
       "33. ''\n",
       "34. ''\n",
       "35. ''\n",
       "36. ''\n",
       "37. ''\n",
       "38. ''\n",
       "39. ''\n",
       "40. ''\n",
       "41. ''\n",
       "42. ''\n",
       "43. ''\n",
       "44. ''\n",
       "45. ''\n",
       "46. ''\n",
       "47. ''\n",
       "48. ''\n",
       "49. ''\n",
       "50. ''\n",
       "51. ''\n",
       "52. ''\n",
       "53. 'D33'\n",
       "54. ''\n",
       "55. 'B30'\n",
       "56. 'C52'\n",
       "57. ''\n",
       "58. ''\n",
       "59. ''\n",
       "60. ''\n",
       "61. ''\n",
       "62. 'B28'\n",
       "63. 'C83'\n",
       "64. ''\n",
       "65. ''\n",
       "66. ''\n",
       "67. 'F33'\n",
       "68. ''\n",
       "69. ''\n",
       "70. ''\n",
       "71. ''\n",
       "72. ''\n",
       "73. ''\n",
       "74. ''\n",
       "75. ''\n",
       "76. 'F G73'\n",
       "77. ''\n",
       "78. ''\n",
       "79. ''\n",
       "80. ''\n",
       "81. ''\n",
       "82. ''\n",
       "83. ''\n",
       "84. ''\n",
       "85. ''\n",
       "86. ''\n",
       "87. ''\n",
       "88. ''\n",
       "89. 'C23 C25 C27'\n",
       "90. ''\n",
       "91. ''\n",
       "92. ''\n",
       "93. 'E31'\n",
       "94. ''\n",
       "95. ''\n",
       "96. ''\n",
       "97. 'A5'\n",
       "98. 'D10 D12'\n",
       "99. ''\n",
       "100. ''\n",
       "\n",
       "\n"
      ],
      "text/plain": [
       "  [1] \"\"            \"C85\"         \"\"            \"C123\"        \"\"           \n",
       "  [6] \"\"            \"E46\"         \"\"            \"\"            \"\"           \n",
       " [11] \"G6\"          \"C103\"        \"\"            \"\"            \"\"           \n",
       " [16] \"\"            \"\"            \"\"            \"\"            \"\"           \n",
       " [21] \"\"            \"D56\"         \"\"            \"A6\"          \"\"           \n",
       " [26] \"\"            \"\"            \"C23 C25 C27\" \"\"            \"\"           \n",
       " [31] \"\"            \"B78\"         \"\"            \"\"            \"\"           \n",
       " [36] \"\"            \"\"            \"\"            \"\"            \"\"           \n",
       " [41] \"\"            \"\"            \"\"            \"\"            \"\"           \n",
       " [46] \"\"            \"\"            \"\"            \"\"            \"\"           \n",
       " [51] \"\"            \"\"            \"D33\"         \"\"            \"B30\"        \n",
       " [56] \"C52\"         \"\"            \"\"            \"\"            \"\"           \n",
       " [61] \"\"            \"B28\"         \"C83\"         \"\"            \"\"           \n",
       " [66] \"\"            \"F33\"         \"\"            \"\"            \"\"           \n",
       " [71] \"\"            \"\"            \"\"            \"\"            \"\"           \n",
       " [76] \"F G73\"       \"\"            \"\"            \"\"            \"\"           \n",
       " [81] \"\"            \"\"            \"\"            \"\"            \"\"           \n",
       " [86] \"\"            \"\"            \"\"            \"C23 C25 C27\" \"\"           \n",
       " [91] \"\"            \"\"            \"E31\"         \"\"            \"\"           \n",
       " [96] \"\"            \"A5\"          \"D10 D12\"     \"\"            \"\"           "
      ]
     },
     "metadata": {},
     "output_type": "display_data"
    },
    {
     "data": {
      "text/html": [
       "<ol class=list-inline>\n",
       "\t<li>'U'</li>\n",
       "\t<li>'C85'</li>\n",
       "\t<li>'U'</li>\n",
       "\t<li>'C123'</li>\n",
       "\t<li>'U'</li>\n",
       "\t<li>'U'</li>\n",
       "\t<li>'E46'</li>\n",
       "\t<li>'U'</li>\n",
       "\t<li>'U'</li>\n",
       "\t<li>'U'</li>\n",
       "\t<li>'G6'</li>\n",
       "\t<li>'C103'</li>\n",
       "\t<li>'U'</li>\n",
       "\t<li>'U'</li>\n",
       "\t<li>'U'</li>\n",
       "\t<li>'U'</li>\n",
       "\t<li>'U'</li>\n",
       "\t<li>'U'</li>\n",
       "\t<li>'U'</li>\n",
       "\t<li>'U'</li>\n",
       "\t<li>'U'</li>\n",
       "\t<li>'D56'</li>\n",
       "\t<li>'U'</li>\n",
       "\t<li>'A6'</li>\n",
       "\t<li>'U'</li>\n",
       "\t<li>'U'</li>\n",
       "\t<li>'U'</li>\n",
       "\t<li>'C23 C25 C27'</li>\n",
       "\t<li>'U'</li>\n",
       "\t<li>'U'</li>\n",
       "\t<li>'U'</li>\n",
       "\t<li>'B78'</li>\n",
       "\t<li>'U'</li>\n",
       "\t<li>'U'</li>\n",
       "\t<li>'U'</li>\n",
       "\t<li>'U'</li>\n",
       "\t<li>'U'</li>\n",
       "\t<li>'U'</li>\n",
       "\t<li>'U'</li>\n",
       "\t<li>'U'</li>\n",
       "\t<li>'U'</li>\n",
       "\t<li>'U'</li>\n",
       "\t<li>'U'</li>\n",
       "\t<li>'U'</li>\n",
       "\t<li>'U'</li>\n",
       "\t<li>'U'</li>\n",
       "\t<li>'U'</li>\n",
       "\t<li>'U'</li>\n",
       "\t<li>'U'</li>\n",
       "\t<li>'U'</li>\n",
       "\t<li>'U'</li>\n",
       "\t<li>'U'</li>\n",
       "\t<li>'D33'</li>\n",
       "\t<li>'U'</li>\n",
       "\t<li>'B30'</li>\n",
       "\t<li>'C52'</li>\n",
       "\t<li>'U'</li>\n",
       "\t<li>'U'</li>\n",
       "\t<li>'U'</li>\n",
       "\t<li>'U'</li>\n",
       "\t<li>'U'</li>\n",
       "\t<li>'B28'</li>\n",
       "\t<li>'C83'</li>\n",
       "\t<li>'U'</li>\n",
       "\t<li>'U'</li>\n",
       "\t<li>'U'</li>\n",
       "\t<li>'F33'</li>\n",
       "\t<li>'U'</li>\n",
       "\t<li>'U'</li>\n",
       "\t<li>'U'</li>\n",
       "\t<li>'U'</li>\n",
       "\t<li>'U'</li>\n",
       "\t<li>'U'</li>\n",
       "\t<li>'U'</li>\n",
       "\t<li>'U'</li>\n",
       "\t<li>'F G73'</li>\n",
       "\t<li>'U'</li>\n",
       "\t<li>'U'</li>\n",
       "\t<li>'U'</li>\n",
       "\t<li>'U'</li>\n",
       "\t<li>'U'</li>\n",
       "\t<li>'U'</li>\n",
       "\t<li>'U'</li>\n",
       "\t<li>'U'</li>\n",
       "\t<li>'U'</li>\n",
       "\t<li>'U'</li>\n",
       "\t<li>'U'</li>\n",
       "\t<li>'U'</li>\n",
       "\t<li>'C23 C25 C27'</li>\n",
       "\t<li>'U'</li>\n",
       "\t<li>'U'</li>\n",
       "\t<li>'U'</li>\n",
       "\t<li>'E31'</li>\n",
       "\t<li>'U'</li>\n",
       "\t<li>'U'</li>\n",
       "\t<li>'U'</li>\n",
       "\t<li>'A5'</li>\n",
       "\t<li>'D10 D12'</li>\n",
       "\t<li>'U'</li>\n",
       "\t<li>'U'</li>\n",
       "</ol>\n"
      ],
      "text/latex": [
       "\\begin{enumerate*}\n",
       "\\item 'U'\n",
       "\\item 'C85'\n",
       "\\item 'U'\n",
       "\\item 'C123'\n",
       "\\item 'U'\n",
       "\\item 'U'\n",
       "\\item 'E46'\n",
       "\\item 'U'\n",
       "\\item 'U'\n",
       "\\item 'U'\n",
       "\\item 'G6'\n",
       "\\item 'C103'\n",
       "\\item 'U'\n",
       "\\item 'U'\n",
       "\\item 'U'\n",
       "\\item 'U'\n",
       "\\item 'U'\n",
       "\\item 'U'\n",
       "\\item 'U'\n",
       "\\item 'U'\n",
       "\\item 'U'\n",
       "\\item 'D56'\n",
       "\\item 'U'\n",
       "\\item 'A6'\n",
       "\\item 'U'\n",
       "\\item 'U'\n",
       "\\item 'U'\n",
       "\\item 'C23 C25 C27'\n",
       "\\item 'U'\n",
       "\\item 'U'\n",
       "\\item 'U'\n",
       "\\item 'B78'\n",
       "\\item 'U'\n",
       "\\item 'U'\n",
       "\\item 'U'\n",
       "\\item 'U'\n",
       "\\item 'U'\n",
       "\\item 'U'\n",
       "\\item 'U'\n",
       "\\item 'U'\n",
       "\\item 'U'\n",
       "\\item 'U'\n",
       "\\item 'U'\n",
       "\\item 'U'\n",
       "\\item 'U'\n",
       "\\item 'U'\n",
       "\\item 'U'\n",
       "\\item 'U'\n",
       "\\item 'U'\n",
       "\\item 'U'\n",
       "\\item 'U'\n",
       "\\item 'U'\n",
       "\\item 'D33'\n",
       "\\item 'U'\n",
       "\\item 'B30'\n",
       "\\item 'C52'\n",
       "\\item 'U'\n",
       "\\item 'U'\n",
       "\\item 'U'\n",
       "\\item 'U'\n",
       "\\item 'U'\n",
       "\\item 'B28'\n",
       "\\item 'C83'\n",
       "\\item 'U'\n",
       "\\item 'U'\n",
       "\\item 'U'\n",
       "\\item 'F33'\n",
       "\\item 'U'\n",
       "\\item 'U'\n",
       "\\item 'U'\n",
       "\\item 'U'\n",
       "\\item 'U'\n",
       "\\item 'U'\n",
       "\\item 'U'\n",
       "\\item 'U'\n",
       "\\item 'F G73'\n",
       "\\item 'U'\n",
       "\\item 'U'\n",
       "\\item 'U'\n",
       "\\item 'U'\n",
       "\\item 'U'\n",
       "\\item 'U'\n",
       "\\item 'U'\n",
       "\\item 'U'\n",
       "\\item 'U'\n",
       "\\item 'U'\n",
       "\\item 'U'\n",
       "\\item 'U'\n",
       "\\item 'C23 C25 C27'\n",
       "\\item 'U'\n",
       "\\item 'U'\n",
       "\\item 'U'\n",
       "\\item 'E31'\n",
       "\\item 'U'\n",
       "\\item 'U'\n",
       "\\item 'U'\n",
       "\\item 'A5'\n",
       "\\item 'D10 D12'\n",
       "\\item 'U'\n",
       "\\item 'U'\n",
       "\\end{enumerate*}\n"
      ],
      "text/markdown": [
       "1. 'U'\n",
       "2. 'C85'\n",
       "3. 'U'\n",
       "4. 'C123'\n",
       "5. 'U'\n",
       "6. 'U'\n",
       "7. 'E46'\n",
       "8. 'U'\n",
       "9. 'U'\n",
       "10. 'U'\n",
       "11. 'G6'\n",
       "12. 'C103'\n",
       "13. 'U'\n",
       "14. 'U'\n",
       "15. 'U'\n",
       "16. 'U'\n",
       "17. 'U'\n",
       "18. 'U'\n",
       "19. 'U'\n",
       "20. 'U'\n",
       "21. 'U'\n",
       "22. 'D56'\n",
       "23. 'U'\n",
       "24. 'A6'\n",
       "25. 'U'\n",
       "26. 'U'\n",
       "27. 'U'\n",
       "28. 'C23 C25 C27'\n",
       "29. 'U'\n",
       "30. 'U'\n",
       "31. 'U'\n",
       "32. 'B78'\n",
       "33. 'U'\n",
       "34. 'U'\n",
       "35. 'U'\n",
       "36. 'U'\n",
       "37. 'U'\n",
       "38. 'U'\n",
       "39. 'U'\n",
       "40. 'U'\n",
       "41. 'U'\n",
       "42. 'U'\n",
       "43. 'U'\n",
       "44. 'U'\n",
       "45. 'U'\n",
       "46. 'U'\n",
       "47. 'U'\n",
       "48. 'U'\n",
       "49. 'U'\n",
       "50. 'U'\n",
       "51. 'U'\n",
       "52. 'U'\n",
       "53. 'D33'\n",
       "54. 'U'\n",
       "55. 'B30'\n",
       "56. 'C52'\n",
       "57. 'U'\n",
       "58. 'U'\n",
       "59. 'U'\n",
       "60. 'U'\n",
       "61. 'U'\n",
       "62. 'B28'\n",
       "63. 'C83'\n",
       "64. 'U'\n",
       "65. 'U'\n",
       "66. 'U'\n",
       "67. 'F33'\n",
       "68. 'U'\n",
       "69. 'U'\n",
       "70. 'U'\n",
       "71. 'U'\n",
       "72. 'U'\n",
       "73. 'U'\n",
       "74. 'U'\n",
       "75. 'U'\n",
       "76. 'F G73'\n",
       "77. 'U'\n",
       "78. 'U'\n",
       "79. 'U'\n",
       "80. 'U'\n",
       "81. 'U'\n",
       "82. 'U'\n",
       "83. 'U'\n",
       "84. 'U'\n",
       "85. 'U'\n",
       "86. 'U'\n",
       "87. 'U'\n",
       "88. 'U'\n",
       "89. 'C23 C25 C27'\n",
       "90. 'U'\n",
       "91. 'U'\n",
       "92. 'U'\n",
       "93. 'E31'\n",
       "94. 'U'\n",
       "95. 'U'\n",
       "96. 'U'\n",
       "97. 'A5'\n",
       "98. 'D10 D12'\n",
       "99. 'U'\n",
       "100. 'U'\n",
       "\n",
       "\n"
      ],
      "text/plain": [
       "  [1] \"U\"           \"C85\"         \"U\"           \"C123\"        \"U\"          \n",
       "  [6] \"U\"           \"E46\"         \"U\"           \"U\"           \"U\"          \n",
       " [11] \"G6\"          \"C103\"        \"U\"           \"U\"           \"U\"          \n",
       " [16] \"U\"           \"U\"           \"U\"           \"U\"           \"U\"          \n",
       " [21] \"U\"           \"D56\"         \"U\"           \"A6\"          \"U\"          \n",
       " [26] \"U\"           \"U\"           \"C23 C25 C27\" \"U\"           \"U\"          \n",
       " [31] \"U\"           \"B78\"         \"U\"           \"U\"           \"U\"          \n",
       " [36] \"U\"           \"U\"           \"U\"           \"U\"           \"U\"          \n",
       " [41] \"U\"           \"U\"           \"U\"           \"U\"           \"U\"          \n",
       " [46] \"U\"           \"U\"           \"U\"           \"U\"           \"U\"          \n",
       " [51] \"U\"           \"U\"           \"D33\"         \"U\"           \"B30\"        \n",
       " [56] \"C52\"         \"U\"           \"U\"           \"U\"           \"U\"          \n",
       " [61] \"U\"           \"B28\"         \"C83\"         \"U\"           \"U\"          \n",
       " [66] \"U\"           \"F33\"         \"U\"           \"U\"           \"U\"          \n",
       " [71] \"U\"           \"U\"           \"U\"           \"U\"           \"U\"          \n",
       " [76] \"F G73\"       \"U\"           \"U\"           \"U\"           \"U\"          \n",
       " [81] \"U\"           \"U\"           \"U\"           \"U\"           \"U\"          \n",
       " [86] \"U\"           \"U\"           \"U\"           \"C23 C25 C27\" \"U\"          \n",
       " [91] \"U\"           \"U\"           \"E31\"         \"U\"           \"U\"          \n",
       " [96] \"U\"           \"A5\"          \"D10 D12\"     \"U\"           \"U\"          "
      ]
     },
     "metadata": {},
     "output_type": "display_data"
    },
    {
     "name": "stdout",
     "output_type": "stream",
     "text": [
      " Factor w/ 9 levels \"A\",\"B\",\"C\",\"D\",..: 9 3 9 3 9 9 5 9 9 9 ...\n"
     ]
    },
    {
     "data": {
      "text/html": [
       "<ol class=list-inline>\n",
       "\t<li>'A'</li>\n",
       "\t<li>'B'</li>\n",
       "\t<li>'C'</li>\n",
       "\t<li>'D'</li>\n",
       "\t<li>'E'</li>\n",
       "\t<li>'F'</li>\n",
       "\t<li>'G'</li>\n",
       "\t<li>'T'</li>\n",
       "\t<li>'U'</li>\n",
       "</ol>\n"
      ],
      "text/latex": [
       "\\begin{enumerate*}\n",
       "\\item 'A'\n",
       "\\item 'B'\n",
       "\\item 'C'\n",
       "\\item 'D'\n",
       "\\item 'E'\n",
       "\\item 'F'\n",
       "\\item 'G'\n",
       "\\item 'T'\n",
       "\\item 'U'\n",
       "\\end{enumerate*}\n"
      ],
      "text/markdown": [
       "1. 'A'\n",
       "2. 'B'\n",
       "3. 'C'\n",
       "4. 'D'\n",
       "5. 'E'\n",
       "6. 'F'\n",
       "7. 'G'\n",
       "8. 'T'\n",
       "9. 'U'\n",
       "\n",
       "\n"
      ],
      "text/plain": [
       "[1] \"A\" \"B\" \"C\" \"D\" \"E\" \"F\" \"G\" \"T\" \"U\""
      ]
     },
     "metadata": {},
     "output_type": "display_data"
    }
   ],
   "source": [
    "# Analysis of the cabin variable\n",
    "str(data.combined$cabin)\n",
    "\n",
    "# Cabin really isn't a factor, make a string and the display first 100\n",
    "data.combined$cabin <- as.character(data.combined$cabin)\n",
    "data.combined$cabin[1:100]\n",
    "\n",
    "# Replace empty cabins with a \"U\"\n",
    "data.combined[which(data.combined$cabin == \"\"), \"cabin\"] <- \"U\"\n",
    "data.combined$cabin[1:100]\n",
    "\n",
    "# Take a look at just the first char as a factor\n",
    "cabin.first.char <- as.factor(substr(data.combined$cabin, 1, 1))\n",
    "str(cabin.first.char)\n",
    "levels(cabin.first.char)"
   ]
  },
  {
   "cell_type": "code",
   "execution_count": 28,
   "metadata": {},
   "outputs": [
    {
     "data": {},
     "metadata": {},
     "output_type": "display_data"
    },
    {
     "data": {},
     "metadata": {},
     "output_type": "display_data"
    },
    {
     "data": {
      "image/png": "[encoded data removed]",
      "text/plain": [
       "plot without title"
      ]
     },
     "metadata": {},
     "output_type": "display_data"
    },
    {
     "data": {
      "image/png": "[encoded data removed]",
      "text/plain": [
       "plot without title"
      ]
     },
     "metadata": {},
     "output_type": "display_data"
    }
   ],
   "source": [
    "# Let's check to see if fare has predictive power\n",
    "options(repr.plot.width=6, repr.plot.height=4)\n",
    "\n",
    "# Add to combined data set and plot \n",
    "data.combined$cabin.first.char <- cabin.first.char\n",
    "\n",
    "# High level plot\n",
    "ggplot(data.combined[1:891,], aes(x = cabin.first.char, fill = survived)) + geom_bar() +\n",
    "  ggtitle(\"Survivability by cabin.first.char\") + xlab(\"cabin.first.char\") + ylab(\"Total Count\") + ylim(0,750) + labs(fill = \"Survived\")\n",
    "\n",
    "# Could have some predictive power, drill in\n",
    "ggplot(data.combined[1:891,], aes(x = cabin.first.char, fill = survived)) +\n",
    "  geom_bar() + facet_wrap(~pclass) + ggtitle(\"Survivability by cabin.first.char\") + xlab(\"Pclass\") + ylab(\"Total Count\") +ylim(0,500) + labs(fill = \"Survived\")\n"
   ]
  },
  {
   "cell_type": "code",
   "execution_count": 29,
   "metadata": {},
   "outputs": [
    {
     "data": {},
     "metadata": {},
     "output_type": "display_data"
    },
    {
     "data": {
      "image/png": "[encoded data removed]",
      "text/plain": [
       "plot without title"
      ]
     },
     "metadata": {},
     "output_type": "display_data"
    }
   ],
   "source": [
    "# Does this feature improve upon pclass + title?\n",
    "options(repr.plot.width=10, repr.plot.height=10)\n",
    "\n",
    "ggplot(data.combined[1:891,], aes(x = cabin.first.char, fill = survived)) +\n",
    "  geom_bar() +\n",
    "  facet_wrap(~pclass + title) +\n",
    "  ggtitle(\"Pclass, Title\") +\n",
    "  xlab(\"cabin.first.char\") +\n",
    "  ylab(\"Total Count\") +\n",
    "  ylim(0,500) +\n",
    "  labs(fill = \"Survived\")\n"
   ]
  },
  {
   "cell_type": "code",
   "execution_count": 30,
   "metadata": {},
   "outputs": [
    {
     "data": {},
     "metadata": {},
     "output_type": "display_data"
    },
    {
     "data": {
      "image/png": "[encoded data removed]",
      "text/plain": [
       "plot without title"
      ]
     },
     "metadata": {},
     "output_type": "display_data"
    }
   ],
   "source": [
    "# What about folks with multiple cabins?\n",
    "options(repr.plot.width=10, repr.plot.height=10)\n",
    "\n",
    "data.combined$cabin.multiple <- as.factor(ifelse(str_detect(data.combined$cabin, \" \"), \"Y\", \"N\"))\n",
    "\n",
    "ggplot(data.combined[1:891,], aes(x = cabin.multiple, fill = survived)) + geom_bar() + facet_wrap(~pclass + title) +\n",
    "  ggtitle(\"Pclass, Title\") + xlab(\"cabin.multiple\") +  ylab(\"Total Count\") +   ylim(0,350) +  labs(fill = \"Survived\")"
   ]
  },
  {
   "cell_type": "code",
   "execution_count": 31,
   "metadata": {
    "scrolled": false
   },
   "outputs": [
    {
     "name": "stdout",
     "output_type": "stream",
     "text": [
      " Factor w/ 4 levels \"\",\"C\",\"Q\",\"S\": 4 2 4 4 4 3 4 4 4 2 ...\n"
     ]
    },
    {
     "data": {
      "text/html": [
       "<ol class=list-inline>\n",
       "\t<li>''</li>\n",
       "\t<li>'C'</li>\n",
       "\t<li>'Q'</li>\n",
       "\t<li>'S'</li>\n",
       "</ol>\n"
      ],
      "text/latex": [
       "\\begin{enumerate*}\n",
       "\\item ''\n",
       "\\item 'C'\n",
       "\\item 'Q'\n",
       "\\item 'S'\n",
       "\\end{enumerate*}\n"
      ],
      "text/markdown": [
       "1. ''\n",
       "2. 'C'\n",
       "3. 'Q'\n",
       "4. 'S'\n",
       "\n",
       "\n"
      ],
      "text/plain": [
       "[1] \"\"  \"C\" \"Q\" \"S\""
      ]
     },
     "metadata": {},
     "output_type": "display_data"
    },
    {
     "data": {},
     "metadata": {},
     "output_type": "display_data"
    },
    {
     "data": {
      "image/png": "[encoded data removed]",
      "text/plain": [
       "plot without title"
      ]
     },
     "metadata": {},
     "output_type": "display_data"
    }
   ],
   "source": [
    "# Does survivability depend on where you got onboard the Titanic?\n",
    "str(data.combined$embarked)\n",
    "levels(data.combined$embarked)\n",
    "\n",
    "\n",
    "# Plot data for analysis\n",
    "ggplot(data.combined[1:891,], aes(x = embarked, fill = survived)) +  geom_bar() +  facet_wrap(~pclass + title) +\n",
    "  ggtitle(\"Pclass, Title\") + xlab(\"embarked\") + ylab(\"Total Count\") + ylim(0,300) +  labs(fill = \"Survived\")\n"
   ]
  },
  {
   "cell_type": "markdown",
   "metadata": {},
   "source": [
    "## MACHINE LEARNING \n",
    "Now that we've done so much data analysis, we will learn machine learning"
   ]
  },
  {
   "cell_type": "markdown",
   "metadata": {},
   "source": [
    "Random forrest is great because: <br/>\n",
    "Feature selection - does feature selection very well. <br/>\n",
    "Simple - hyperparameters work very well <br/>\n",
    "RF can handle numeric, categorical, and correlated variables <br/>\n",
    "Fast - good balance between speed and capabilities<br/>\n",
    "Effective - powerful and general purpose. This is the gold standard \n"
   ]
  },
  {
   "cell_type": "code",
   "execution_count": 32,
   "metadata": {
    "collapsed": true
   },
   "outputs": [],
   "source": [
    "#install.packages('randomForest', repos='http://cran.us.r-project.org')"
   ]
  },
  {
   "cell_type": "code",
   "execution_count": 33,
   "metadata": {},
   "outputs": [
    {
     "name": "stderr",
     "output_type": "stream",
     "text": [
      "Warning message:\n",
      "\"package 'randomForest' was built under R version 3.3.3\"randomForest 4.6-12\n",
      "Type rfNews() to see new features/changes/bug fixes.\n",
      "\n",
      "Attaching package: 'randomForest'\n",
      "\n",
      "The following object is masked from 'package:ggplot2':\n",
      "\n",
      "    margin\n",
      "\n"
     ]
    }
   ],
   "source": [
    "#install.packages('randomForest', repos='http://cran.us.r-project.org')\n",
    "library(randomForest)"
   ]
  },
  {
   "cell_type": "code",
   "execution_count": 34,
   "metadata": {
    "scrolled": false
   },
   "outputs": [
    {
     "data": {
      "text/plain": [
       "\n",
       "Call:\n",
       " randomForest(x = rf.train.1, y = rf.label, ntree = 1000, importance = TRUE) \n",
       "               Type of random forest: classification\n",
       "                     Number of trees: 1000\n",
       "No. of variables tried at each split: 1\n",
       "\n",
       "        OOB estimate of  error rate: 20.76%\n",
       "Confusion matrix:\n",
       "    0   1 class.error\n",
       "0 538  11  0.02003643\n",
       "1 174 168  0.50877193"
      ]
     },
     "metadata": {},
     "output_type": "display_data"
    },
    {
     "data": {
      "image/png": "[encoded data removed]",
      "text/plain": [
       "plot without title"
      ]
     },
     "metadata": {},
     "output_type": "display_data"
    }
   ],
   "source": [
    "options(repr.plot.width=6, repr.plot.height=4)\n",
    "\n",
    "# Train a Random Forest with the default parameters using pclass & title\n",
    "rf.train.1 <- data.combined[1:891, c(\"pclass\", \"title\")]\n",
    "rf.label <- as.factor(train$survived)\n",
    "\n",
    "set.seed(1234)\n",
    "rf.1 <- randomForest(x = rf.train.1, y = rf.label, importance = TRUE, ntree = 1000)\n",
    "rf.1\n",
    "varImpPlot(rf.1)"
   ]
  },
  {
   "cell_type": "code",
   "execution_count": 35,
   "metadata": {},
   "outputs": [
    {
     "data": {
      "text/plain": [
       "\n",
       "Call:\n",
       " randomForest(x = rf.train.2, y = rf.label, ntree = 1000, importance = TRUE) \n",
       "               Type of random forest: classification\n",
       "                     Number of trees: 1000\n",
       "No. of variables tried at each split: 1\n",
       "\n",
       "        OOB estimate of  error rate: 19.3%\n",
       "Confusion matrix:\n",
       "    0   1 class.error\n",
       "0 495  54  0.09836066\n",
       "1 118 224  0.34502924"
      ]
     },
     "metadata": {},
     "output_type": "display_data"
    },
    {
     "data": {
      "image/png": "[encoded data removed]",
      "text/plain": [
       "plot without title"
      ]
     },
     "metadata": {},
     "output_type": "display_data"
    }
   ],
   "source": [
    "# Train a Random Forest using pclass, title, & sibsp\n",
    "rf.train.2 <- data.combined[1:891, c(\"pclass\", \"title\", \"sibsp\")]\n",
    "\n",
    "set.seed(1234)\n",
    "rf.2 <- randomForest(x = rf.train.2, y = rf.label, importance = TRUE, ntree = 1000)\n",
    "rf.2\n",
    "varImpPlot(rf.2)"
   ]
  },
  {
   "cell_type": "code",
   "execution_count": 36,
   "metadata": {},
   "outputs": [
    {
     "data": {
      "text/plain": [
       "\n",
       "Call:\n",
       " randomForest(x = rf.train.3, y = rf.label, ntree = 1000, importance = TRUE) \n",
       "               Type of random forest: classification\n",
       "                     Number of trees: 1000\n",
       "No. of variables tried at each split: 1\n",
       "\n",
       "        OOB estimate of  error rate: 19.98%\n",
       "Confusion matrix:\n",
       "    0   1 class.error\n",
       "0 495  54  0.09836066\n",
       "1 124 218  0.36257310"
      ]
     },
     "metadata": {},
     "output_type": "display_data"
    },
    {
     "data": {
      "image/png": "[encoded data removed]",
      "text/plain": [
       "plot without title"
      ]
     },
     "metadata": {},
     "output_type": "display_data"
    }
   ],
   "source": [
    "# Train a Random Forest using pclass, title, & parch\n",
    "rf.train.3 <- data.combined[1:891, c(\"pclass\", \"title\", \"parch\")]\n",
    "\n",
    "set.seed(1234)\n",
    "rf.3 <- randomForest(x = rf.train.3, y = rf.label, importance = TRUE, ntree = 1000)\n",
    "rf.3\n",
    "varImpPlot(rf.3)"
   ]
  },
  {
   "cell_type": "code",
   "execution_count": 37,
   "metadata": {
    "scrolled": false
   },
   "outputs": [
    {
     "data": {
      "text/plain": [
       "\n",
       "Call:\n",
       " randomForest(x = rf.train.4, y = rf.label, ntree = 1000, importance = TRUE) \n",
       "               Type of random forest: classification\n",
       "                     Number of trees: 1000\n",
       "No. of variables tried at each split: 2\n",
       "\n",
       "        OOB estimate of  error rate: 18.86%\n",
       "Confusion matrix:\n",
       "    0   1 class.error\n",
       "0 487  62   0.1129326\n",
       "1 106 236   0.3099415"
      ]
     },
     "metadata": {},
     "output_type": "display_data"
    },
    {
     "data": {
      "image/png": "[encoded data removed]",
      "text/plain": [
       "plot without title"
      ]
     },
     "metadata": {},
     "output_type": "display_data"
    }
   ],
   "source": [
    "# Train a Random Forest using pclass, title, sibsp, parch\n",
    "rf.train.4 <- data.combined[1:891, c(\"pclass\", \"title\", \"sibsp\", \"parch\")]\n",
    "\n",
    "set.seed(1234)\n",
    "rf.4 <- randomForest(x = rf.train.4, y = rf.label, importance = TRUE, ntree = 1000)\n",
    "rf.4\n",
    "varImpPlot(rf.4)\n"
   ]
  },
  {
   "cell_type": "code",
   "execution_count": 38,
   "metadata": {},
   "outputs": [
    {
     "data": {
      "text/plain": [
       "\n",
       "Call:\n",
       " randomForest(x = rf.train.5, y = rf.label, ntree = 1000, importance = TRUE) \n",
       "               Type of random forest: classification\n",
       "                     Number of trees: 1000\n",
       "No. of variables tried at each split: 1\n",
       "\n",
       "        OOB estimate of  error rate: 18.41%\n",
       "Confusion matrix:\n",
       "    0   1 class.error\n",
       "0 485  64   0.1165756\n",
       "1 100 242   0.2923977"
      ]
     },
     "metadata": {},
     "output_type": "display_data"
    },
    {
     "data": {
      "image/png": "[encoded data removed]",
      "text/plain": [
       "plot without title"
      ]
     },
     "metadata": {},
     "output_type": "display_data"
    }
   ],
   "source": [
    "# Train a Random Forest using pclass, title, & family.size\n",
    "rf.train.5 <- data.combined[1:891, c(\"pclass\", \"title\", \"family.size\")]\n",
    "\n",
    "set.seed(1234)\n",
    "rf.5 <- randomForest(x = rf.train.5, y = rf.label, importance = TRUE, ntree = 1000)\n",
    "rf.5\n",
    "varImpPlot(rf.5)"
   ]
  },
  {
   "cell_type": "code",
   "execution_count": 39,
   "metadata": {},
   "outputs": [
    {
     "data": {
      "text/plain": [
       "\n",
       "Call:\n",
       " randomForest(x = rf.train.6, y = rf.label, ntree = 1000, importance = TRUE) \n",
       "               Type of random forest: classification\n",
       "                     Number of trees: 1000\n",
       "No. of variables tried at each split: 2\n",
       "\n",
       "        OOB estimate of  error rate: 19.08%\n",
       "Confusion matrix:\n",
       "    0   1 class.error\n",
       "0 486  63   0.1147541\n",
       "1 107 235   0.3128655"
      ]
     },
     "metadata": {},
     "output_type": "display_data"
    },
    {
     "data": {
      "image/png": "[encoded data removed]",
      "text/plain": [
       "plot without title"
      ]
     },
     "metadata": {},
     "output_type": "display_data"
    }
   ],
   "source": [
    "# Train a Random Forest using pclass, title, sibsp, & family.size\n",
    "rf.train.6 <- data.combined[1:891, c(\"pclass\", \"title\", \"sibsp\", \"family.size\")]\n",
    "\n",
    "set.seed(1234)\n",
    "rf.6 <- randomForest(x = rf.train.6, y = rf.label, importance = TRUE, ntree = 1000)\n",
    "rf.6\n",
    "varImpPlot(rf.6)"
   ]
  },
  {
   "cell_type": "code",
   "execution_count": 40,
   "metadata": {},
   "outputs": [
    {
     "data": {
      "text/plain": [
       "\n",
       "Call:\n",
       " randomForest(x = rf.train.7, y = rf.label, ntree = 1000, importance = TRUE) \n",
       "               Type of random forest: classification\n",
       "                     Number of trees: 1000\n",
       "No. of variables tried at each split: 2\n",
       "\n",
       "        OOB estimate of  error rate: 18.97%\n",
       "Confusion matrix:\n",
       "    0   1 class.error\n",
       "0 486  63   0.1147541\n",
       "1 106 236   0.3099415"
      ]
     },
     "metadata": {},
     "output_type": "display_data"
    },
    {
     "data": {
      "image/png": "[encoded data removed]",
      "text/plain": [
       "plot without title"
      ]
     },
     "metadata": {},
     "output_type": "display_data"
    }
   ],
   "source": [
    "# Train a Random Forest using pclass, title, parch, & family.size\n",
    "rf.train.7 <- data.combined[1:891, c(\"pclass\", \"title\", \"parch\", \"family.size\")]\n",
    "\n",
    "set.seed(1234)\n",
    "rf.7 <- randomForest(x = rf.train.7, y = rf.label, importance = TRUE, ntree = 1000)\n",
    "rf.7\n",
    "varImpPlot(rf.7)"
   ]
  },
  {
   "cell_type": "markdown",
   "metadata": {},
   "source": [
    "### CV Search\n",
    "Time to tune settings!"
   ]
  },
  {
   "cell_type": "code",
   "execution_count": 41,
   "metadata": {
    "collapsed": true
   },
   "outputs": [],
   "source": [
    "# Subset our test records and features\n",
    "test.submit.df <- data.combined[892:1309, c(\"pclass\", \"title\", \"family.size\")]"
   ]
  },
  {
   "cell_type": "code",
   "execution_count": 42,
   "metadata": {},
   "outputs": [
    {
     "data": {
      "text/plain": [
       "rf.5.preds\n",
       "  0   1 \n",
       "258 160 "
      ]
     },
     "metadata": {},
     "output_type": "display_data"
    }
   ],
   "source": [
    "# Make predictions\n",
    "rf.5.preds <- predict(rf.5, test.submit.df)\n",
    "table(rf.5.preds)\n",
    "\n",
    "# Write out a CSV file for submission to Kaggle\n",
    "submit.df <- data.frame(PassengerId = rep(892:1309), Survived = rf.5.preds)\n",
    "\n",
    "write.csv(submit.df, file = \"RF_SUB_20160215_1.csv\", row.names = FALSE)"
   ]
  },
  {
   "cell_type": "code",
   "execution_count": 43,
   "metadata": {},
   "outputs": [
    {
     "name": "stderr",
     "output_type": "stream",
     "text": [
      "Warning message:\n",
      "\"package 'caret' was built under R version 3.3.3\"Loading required package: lattice\n",
      "Warning message:\n",
      "\"package 'doSNOW' was built under R version 3.3.3\"Loading required package: foreach\n",
      "Loading required package: iterators\n",
      "Loading required package: snow\n",
      "Warning message:\n",
      "\"package 'snow' was built under R version 3.3.2\""
     ]
    }
   ],
   "source": [
    "library(caret)  #cv \n",
    "library(doSNOW) #using multithreading"
   ]
  },
  {
   "cell_type": "markdown",
   "metadata": {},
   "source": [
    "Research has shown that 10-fold CV repeated 10 times is the best place to start,\n",
    "however there are no hard and fast rules - this is where the experience of the \n",
    "Data Scientist (i.e., the \"art\") comes into play. We'll start with 10-fold CV,\n",
    "repeated 10 times and see how it goes.\n",
    "\n",
    "Leverage caret to create 100 total folds, but ensure that the ratio of those\n",
    "that survived and perished in each fold matches the overall training set. This\n",
    "is known as stratified cross validation and generally provides better results.\n"
   ]
  },
  {
   "cell_type": "code",
   "execution_count": 44,
   "metadata": {
    "scrolled": true
   },
   "outputs": [
    {
     "data": {
      "text/plain": [
       "rf.label\n",
       "  0   1 \n",
       "549 342 "
      ]
     },
     "metadata": {},
     "output_type": "display_data"
    },
    {
     "data": {
      "text/plain": [
       "\n",
       "  0   1 \n",
       "494 308 "
      ]
     },
     "metadata": {},
     "output_type": "display_data"
    },
    {
     "name": "stdout",
     "output_type": "stream",
     "text": [
      "List of 100\n",
      " $ Fold01.Rep01: int [1:801] 1 2 3 5 6 7 8 9 10 11 ...\n",
      " $ Fold02.Rep01: int [1:802] 1 2 4 5 6 7 8 9 10 11 ...\n",
      " $ Fold03.Rep01: int [1:802] 1 2 3 4 5 6 7 8 9 10 ...\n",
      " $ Fold04.Rep01: int [1:803] 2 3 4 5 6 7 9 10 11 12 ...\n",
      " $ Fold05.Rep01: int [1:802] 1 2 3 4 5 6 7 8 9 10 ...\n",
      " $ Fold06.Rep01: int [1:801] 1 2 3 4 5 6 7 8 9 12 ...\n",
      " $ Fold07.Rep01: int [1:802] 1 2 3 4 5 6 7 8 9 10 ...\n",
      " $ Fold08.Rep01: int [1:802] 1 3 4 6 7 8 10 11 13 14 ...\n",
      " $ Fold09.Rep01: int [1:802] 1 2 3 4 5 6 8 9 10 11 ...\n",
      " $ Fold10.Rep01: int [1:802] 1 2 3 4 5 7 8 9 10 11 ...\n",
      " $ Fold01.Rep02: int [1:802] 1 2 3 4 5 6 7 8 9 10 ...\n",
      " $ Fold02.Rep02: int [1:802] 1 2 3 5 6 8 10 12 13 14 ...\n",
      " $ Fold03.Rep02: int [1:802] 1 2 4 5 7 8 9 11 12 13 ...\n",
      " $ Fold04.Rep02: int [1:801] 1 2 3 4 5 6 7 8 9 10 ...\n",
      " $ Fold05.Rep02: int [1:802] 1 2 3 4 5 6 7 8 9 10 ...\n",
      " $ Fold06.Rep02: int [1:802] 1 2 3 4 5 6 7 9 10 11 ...\n",
      " $ Fold07.Rep02: int [1:802] 1 2 3 4 5 6 7 8 9 10 ...\n",
      " $ Fold08.Rep02: int [1:802] 1 2 3 4 5 6 7 8 9 10 ...\n",
      " $ Fold09.Rep02: int [1:802] 3 4 5 6 7 8 9 10 11 12 ...\n",
      " $ Fold10.Rep02: int [1:802] 1 2 3 4 6 7 8 9 10 11 ...\n",
      " $ Fold01.Rep03: int [1:802] 1 2 3 4 5 6 7 8 9 11 ...\n",
      " $ Fold02.Rep03: int [1:802] 1 2 3 4 5 6 8 10 11 12 ...\n",
      " $ Fold03.Rep03: int [1:802] 1 2 3 4 5 6 7 8 9 10 ...\n",
      " $ Fold04.Rep03: int [1:802] 1 2 3 4 5 6 7 8 9 10 ...\n",
      " $ Fold05.Rep03: int [1:803] 2 3 4 5 6 7 9 10 12 13 ...\n",
      " $ Fold06.Rep03: int [1:802] 1 2 3 5 6 7 8 9 10 11 ...\n",
      " $ Fold07.Rep03: int [1:802] 1 3 4 6 7 8 9 10 11 12 ...\n",
      " $ Fold08.Rep03: int [1:802] 1 2 3 4 5 6 7 8 9 10 ...\n",
      " $ Fold09.Rep03: int [1:801] 1 2 3 4 5 7 8 9 10 11 ...\n",
      " $ Fold10.Rep03: int [1:801] 1 2 4 5 6 7 8 9 10 11 ...\n",
      " $ Fold01.Rep04: int [1:802] 1 2 3 4 7 8 9 10 11 12 ...\n",
      " $ Fold02.Rep04: int [1:801] 1 2 3 4 5 6 7 8 9 10 ...\n",
      " $ Fold03.Rep04: int [1:802] 1 2 3 4 5 6 7 8 9 10 ...\n",
      " $ Fold04.Rep04: int [1:802] 1 2 3 4 5 6 7 8 9 10 ...\n",
      " $ Fold05.Rep04: int [1:802] 1 2 3 5 6 7 8 9 10 12 ...\n",
      " $ Fold06.Rep04: int [1:803] 1 3 4 5 6 7 8 9 10 11 ...\n",
      " $ Fold07.Rep04: int [1:802] 2 3 4 5 6 7 8 9 11 12 ...\n",
      " $ Fold08.Rep04: int [1:801] 1 2 4 5 6 7 8 9 10 11 ...\n",
      " $ Fold09.Rep04: int [1:802] 1 2 3 4 5 6 7 9 10 11 ...\n",
      " $ Fold10.Rep04: int [1:802] 1 2 3 4 5 6 8 10 11 12 ...\n",
      " $ Fold01.Rep05: int [1:802] 2 4 5 6 7 8 9 10 12 13 ...\n",
      " $ Fold02.Rep05: int [1:802] 1 2 3 4 6 7 8 9 10 11 ...\n",
      " $ Fold03.Rep05: int [1:802] 1 2 3 4 5 6 7 8 9 10 ...\n",
      " $ Fold04.Rep05: int [1:802] 1 2 3 4 5 6 7 8 9 10 ...\n",
      " $ Fold05.Rep05: int [1:802] 1 2 3 4 5 6 8 9 10 11 ...\n",
      " $ Fold06.Rep05: int [1:802] 1 3 4 5 6 7 8 9 10 11 ...\n",
      " $ Fold07.Rep05: int [1:802] 1 2 3 4 5 6 7 8 9 10 ...\n",
      " $ Fold08.Rep05: int [1:801] 1 2 3 4 5 6 7 8 9 11 ...\n",
      " $ Fold09.Rep05: int [1:802] 1 2 3 5 7 10 11 13 14 15 ...\n",
      " $ Fold10.Rep05: int [1:802] 1 2 3 4 5 6 7 8 9 10 ...\n",
      " $ Fold01.Rep06: int [1:802] 1 2 3 4 5 6 7 8 9 10 ...\n",
      " $ Fold02.Rep06: int [1:802] 1 2 3 4 5 6 7 8 9 10 ...\n",
      " $ Fold03.Rep06: int [1:801] 1 2 3 4 5 6 7 8 9 10 ...\n",
      " $ Fold04.Rep06: int [1:802] 1 2 4 5 6 7 9 10 12 13 ...\n",
      " $ Fold05.Rep06: int [1:802] 2 3 4 6 8 9 10 11 12 13 ...\n",
      " $ Fold06.Rep06: int [1:802] 1 3 4 5 7 8 9 11 12 13 ...\n",
      " $ Fold07.Rep06: int [1:802] 1 2 3 4 5 6 7 8 9 10 ...\n",
      " $ Fold08.Rep06: int [1:802] 1 2 3 4 5 6 7 8 9 10 ...\n",
      " $ Fold09.Rep06: int [1:802] 1 2 3 5 6 7 8 10 11 12 ...\n",
      " $ Fold10.Rep06: int [1:802] 1 2 3 4 5 6 7 8 9 10 ...\n",
      " $ Fold01.Rep07: int [1:802] 1 2 3 4 5 6 7 8 9 10 ...\n",
      " $ Fold02.Rep07: int [1:802] 1 2 3 5 6 7 8 9 10 12 ...\n",
      " $ Fold03.Rep07: int [1:802] 1 2 3 4 5 6 7 8 10 11 ...\n",
      " $ Fold04.Rep07: int [1:802] 2 3 4 6 7 8 9 10 11 13 ...\n",
      " $ Fold05.Rep07: int [1:802] 1 3 4 5 7 8 9 10 11 12 ...\n",
      " $ Fold06.Rep07: int [1:802] 1 2 4 5 6 7 8 9 11 12 ...\n",
      " $ Fold07.Rep07: int [1:801] 1 2 3 4 5 6 9 10 11 12 ...\n",
      " $ Fold08.Rep07: int [1:803] 1 2 3 4 5 6 7 8 9 10 ...\n",
      " $ Fold09.Rep07: int [1:802] 1 2 3 4 5 6 7 8 9 10 ...\n",
      " $ Fold10.Rep07: int [1:801] 1 2 3 4 5 6 7 8 9 10 ...\n",
      " $ Fold01.Rep08: int [1:802] 2 3 4 5 6 7 8 9 10 11 ...\n",
      " $ Fold02.Rep08: int [1:802] 1 2 3 4 5 6 8 9 10 11 ...\n",
      " $ Fold03.Rep08: int [1:803] 1 2 3 4 5 6 7 8 9 10 ...\n",
      " $ Fold04.Rep08: int [1:802] 1 2 3 4 5 7 8 9 11 12 ...\n",
      " $ Fold05.Rep08: int [1:802] 1 2 3 4 5 6 7 9 10 11 ...\n",
      " $ Fold06.Rep08: int [1:801] 1 2 3 4 5 6 7 8 9 10 ...\n",
      " $ Fold07.Rep08: int [1:802] 1 2 4 5 6 7 8 10 11 13 ...\n",
      " $ Fold08.Rep08: int [1:802] 1 3 5 6 7 8 9 10 12 13 ...\n",
      " $ Fold09.Rep08: int [1:802] 1 2 3 4 5 6 7 8 9 10 ...\n",
      " $ Fold10.Rep08: int [1:801] 1 2 3 4 6 7 8 9 10 11 ...\n",
      " $ Fold01.Rep09: int [1:801] 1 2 3 4 5 6 7 8 10 11 ...\n",
      " $ Fold02.Rep09: int [1:802] 1 2 3 4 5 6 7 8 9 10 ...\n",
      " $ Fold03.Rep09: int [1:802] 1 2 3 4 7 8 9 10 11 12 ...\n",
      " $ Fold04.Rep09: int [1:802] 1 2 3 4 5 6 9 10 11 12 ...\n",
      " $ Fold05.Rep09: int [1:802] 1 2 3 4 5 6 7 8 9 11 ...\n",
      " $ Fold06.Rep09: int [1:802] 1 2 3 5 6 7 8 9 10 11 ...\n",
      " $ Fold07.Rep09: int [1:801] 1 2 3 4 5 6 7 8 9 10 ...\n",
      " $ Fold08.Rep09: int [1:803] 1 4 5 6 7 8 9 10 11 12 ...\n",
      " $ Fold09.Rep09: int [1:802] 1 2 3 4 5 6 7 8 9 10 ...\n",
      " $ Fold10.Rep09: int [1:802] 2 3 4 5 6 7 8 9 10 11 ...\n",
      " $ Fold01.Rep10: int [1:803] 1 2 3 4 6 7 8 9 10 11 ...\n",
      " $ Fold02.Rep10: int [1:802] 1 2 3 4 5 6 7 8 9 12 ...\n",
      " $ Fold03.Rep10: int [1:802] 1 2 3 4 5 6 8 9 10 11 ...\n",
      " $ Fold04.Rep10: int [1:802] 3 4 5 6 7 8 9 10 11 12 ...\n",
      " $ Fold05.Rep10: int [1:802] 1 2 3 4 5 6 7 8 9 10 ...\n",
      " $ Fold06.Rep10: int [1:802] 1 2 3 4 5 6 7 8 9 10 ...\n",
      " $ Fold07.Rep10: int [1:802] 1 2 3 4 5 6 7 8 9 10 ...\n",
      " $ Fold08.Rep10: int [1:801] 1 2 3 5 7 8 9 10 11 12 ...\n",
      " $ Fold09.Rep10: int [1:801] 1 2 3 4 5 6 7 9 10 11 ...\n",
      "  [list output truncated]\n"
     ]
    }
   ],
   "source": [
    "## 10 fold cross validation 10 times\n",
    "## CreateMultiFolds preserves the ratio in the current data set\n",
    "set.seed(2348)\n",
    "cv.10.folds <- createMultiFolds(rf.label, k = 10, times = 10) #10 times won't re\n",
    "ctrl.1 <- trainControl(method = \"repeatedcv\", number = 10, repeats = 10,index = cv.10.folds)\n",
    "\n",
    "#take a look at what they look like\n",
    "table(rf.label)\n",
    "table(rf.label[cv.10.folds[[33]]])\n",
    "str(cv.10.folds)"
   ]
  },
  {
   "cell_type": "code",
   "execution_count": 45,
   "metadata": {},
   "outputs": [
    {
     "data": {
      "text/html": [
       "<ol class=list-inline>\n",
       "\t<li>'Numb of Cores used'</li>\n",
       "\t<li>'3'</li>\n",
       "</ol>\n"
      ],
      "text/latex": [
       "\\begin{enumerate*}\n",
       "\\item 'Numb of Cores used'\n",
       "\\item '3'\n",
       "\\end{enumerate*}\n"
      ],
      "text/markdown": [
       "1. 'Numb of Cores used'\n",
       "2. '3'\n",
       "\n",
       "\n"
      ],
      "text/plain": [
       "[1] \"Numb of Cores used\" \"3\"                 "
      ]
     },
     "metadata": {},
     "output_type": "display_data"
    }
   ],
   "source": [
    "# Get number of processors, minus 1\n",
    "n=as.integer(Sys.getenv('NUMBER_OF_PROCESSORS'))-1\n",
    "c('Numb of Cores used',n)"
   ]
  },
  {
   "cell_type": "code",
   "execution_count": 46,
   "metadata": {
    "collapsed": true
   },
   "outputs": [],
   "source": [
    "# Set up doSNOW package for multi-core training. This is helpful as we're going to be training a lot of trees.\n",
    "# NOTE - This works on Windows and Mac, unlike doMC\n",
    "cl <- makeCluster(n, type = \"SOCK\")\n",
    "registerDoSNOW(cl)"
   ]
  },
  {
   "cell_type": "code",
   "execution_count": 47,
   "metadata": {},
   "outputs": [
    {
     "name": "stdout",
     "output_type": "stream",
     "text": [
      "note: only 2 unique complexity parameters in default grid. Truncating the grid to 2 .\n",
      "\n"
     ]
    },
    {
     "data": {
      "text/plain": [
       "\n",
       "Call:\n",
       " randomForest(x = rf.train.5, y = rf.label, ntree = 1000, importance = TRUE) \n",
       "               Type of random forest: classification\n",
       "                     Number of trees: 1000\n",
       "No. of variables tried at each split: 1\n",
       "\n",
       "        OOB estimate of  error rate: 18.41%\n",
       "Confusion matrix:\n",
       "    0   1 class.error\n",
       "0 485  64   0.1165756\n",
       "1 100 242   0.2923977"
      ]
     },
     "metadata": {},
     "output_type": "display_data"
    },
    {
     "data": {
      "text/plain": [
       "Random Forest \n",
       "\n",
       "891 samples\n",
       "  3 predictor\n",
       "  2 classes: '0', '1' \n",
       "\n",
       "No pre-processing\n",
       "Resampling: Cross-Validated (10 fold, repeated 10 times) \n",
       "Summary of sample sizes: 801, 802, 802, 803, 802, 801, ... \n",
       "Resampling results across tuning parameters:\n",
       "\n",
       "  mtry  Accuracy   Kappa    \n",
       "  2     0.8121316  0.5929087\n",
       "  3     0.8089966  0.5852138\n",
       "\n",
       "Accuracy was used to select the optimal model using  the largest value.\n",
       "The final value used for the model was mtry = 2."
      ]
     },
     "metadata": {},
     "output_type": "display_data"
    }
   ],
   "source": [
    "set.seed(34324)\n",
    "rf.5.cv.1 <- train(x = rf.train.5, y = rf.label, method = \"rf\", tuneLength = 3, ntree = 1000, trControl = ctrl.1)\n",
    "#Shutdown cluster\n",
    "stopCluster(cl)\n",
    "\n",
    "rf.5\n",
    "rf.5.cv.1 "
   ]
  },
  {
   "cell_type": "code",
   "execution_count": 48,
   "metadata": {},
   "outputs": [
    {
     "name": "stdout",
     "output_type": "stream",
     "text": [
      "note: only 2 unique complexity parameters in default grid. Truncating the grid to 2 .\n",
      "\n"
     ]
    },
    {
     "data": {
      "text/plain": [
       "Random Forest \n",
       "\n",
       "891 samples\n",
       "  3 predictor\n",
       "  2 classes: '0', '1' \n",
       "\n",
       "No pre-processing\n",
       "Resampling: Cross-Validated (5 fold, repeated 10 times) \n",
       "Summary of sample sizes: 713, 713, 713, 713, 712, 713, ... \n",
       "Resampling results across tuning parameters:\n",
       "\n",
       "  mtry  Accuracy   Kappa    \n",
       "  2     0.8128009  0.5958137\n",
       "  3     0.8092105  0.5875778\n",
       "\n",
       "Accuracy was used to select the optimal model using  the largest value.\n",
       "The final value used for the model was mtry = 2."
      ]
     },
     "metadata": {},
     "output_type": "display_data"
    }
   ],
   "source": [
    "# The above is only slightly more pessimistic than the rf.5 OOB prediction, but \n",
    "# not pessimistic enough. Let's try 5-fold CV repeated 10 times.\n",
    "set.seed(5983)\n",
    "cv.5.folds <- createMultiFolds(rf.label, k = 5, times = 10)\n",
    "\n",
    "ctrl.2 <- trainControl(method = \"repeatedcv\", number = 5, repeats = 10,index = cv.5.folds)\n",
    "\n",
    "cl <- makeCluster(n, type = \"SOCK\")\n",
    "registerDoSNOW(cl)\n",
    "\n",
    "set.seed(89472)\n",
    "rf.5.cv.2 <- train(x = rf.train.5, y = rf.label, method = \"rf\", tuneLength = 3, ntree = 1000, trControl = ctrl.2)\n",
    "\n",
    "#Shutdown cluster\n",
    "stopCluster(cl)\n",
    "\n",
    "# Check out results\n",
    "rf.5.cv.2"
   ]
  },
  {
   "cell_type": "markdown",
   "metadata": {},
   "source": [
    "### Setting Optimal Parameters\n",
    "In general, it's good to have CV set to the total number of train/test split set. For example, in our total data set (train and test combined), there is approximately 1200 records, with 800 in the training set and 400 in the test set. Thereby, there is 2/3 in training, and 1/3 in testing. Therefore, using k = 3 is a logical number. This is an heuristic observation, not a scientific one."
   ]
  },
  {
   "cell_type": "code",
   "execution_count": 52,
   "metadata": {},
   "outputs": [
    {
     "name": "stdout",
     "output_type": "stream",
     "text": [
      "note: only 2 unique complexity parameters in default grid. Truncating the grid to 2 .\n",
      "\n"
     ]
    },
    {
     "data": {
      "text/plain": [
       "Random Forest \n",
       "\n",
       "891 samples\n",
       "  3 predictor\n",
       "  2 classes: '0', '1' \n",
       "\n",
       "No pre-processing\n",
       "Resampling: Cross-Validated (3 fold, repeated 10 times) \n",
       "Summary of sample sizes: 594, 594, 594, 594, 594, 594, ... \n",
       "Resampling results across tuning parameters:\n",
       "\n",
       "  mtry  Accuracy   Kappa    \n",
       "  2     0.8098765  0.5859242\n",
       "  3     0.8062851  0.5772994\n",
       "\n",
       "Accuracy was used to select the optimal model using  the largest value.\n",
       "The final value used for the model was mtry = 2."
      ]
     },
     "metadata": {},
     "output_type": "display_data"
    }
   ],
   "source": [
    "# 5-fold CV isn't better. Move to 3-fold CV repeated 10 times. \n",
    "set.seed(37596)\n",
    "cv.3.folds <- createMultiFolds(rf.label, k = 3, times = 10)\n",
    "\n",
    "ctrl.3 <- trainControl(method = \"repeatedcv\", number = 3, repeats = 10,index = cv.3.folds)\n",
    "\n",
    "cl <- makeCluster(n, type = \"SOCK\")\n",
    "\n",
    "registerDoSNOW(cl)\n",
    "set.seed(94622)\n",
    "rf.5.cv.3 <- train(x = rf.train.5, y = rf.label, method = \"rf\", tuneLength = 3, ntree = 64, trControl = ctrl.3)\n",
    "stopCluster(cl)\n",
    "\n",
    "# Check out results\n",
    "rf.5.cv.3"
   ]
  },
  {
   "cell_type": "markdown",
   "metadata": {},
   "source": [
    "### Single decision trees"
   ]
  },
  {
   "cell_type": "code",
   "execution_count": 54,
   "metadata": {},
   "outputs": [
    {
     "name": "stdout",
     "output_type": "stream",
     "text": [
      "package 'rpart' successfully unpacked and MD5 sums checked\n",
      "\n",
      "The downloaded binary packages are in\n",
      "\tC:\\Users\\ywu\\AppData\\Local\\Temp\\RtmpQRWM46\\downloaded_packages\n",
      "package 'rpart.plot' successfully unpacked and MD5 sums checked\n",
      "\n",
      "The downloaded binary packages are in\n",
      "\tC:\\Users\\ywu\\AppData\\Local\\Temp\\RtmpQRWM46\\downloaded_packages\n"
     ]
    },
    {
     "name": "stderr",
     "output_type": "stream",
     "text": [
      "Warning message:\n",
      "\"package 'rpart' was built under R version 3.3.3\"Warning message:\n",
      "\"package 'rpart.plot' was built under R version 3.3.3\""
     ]
    }
   ],
   "source": [
    "install.packages(\"rpart\",repos='http://cran.us.r-project.org')\n",
    "install.packages(\"rpart.plot\",repos='http://cran.us.r-project.org')\n",
    "library(rpart)\n",
    "library(rpart.plot)"
   ]
  },
  {
   "cell_type": "code",
   "execution_count": 56,
   "metadata": {
    "collapsed": true
   },
   "outputs": [],
   "source": [
    "rpart.cv <- function(seed, training, labels, ctrl) {\n",
    "  cl <- makeCluster(6, type = \"SOCK\")\n",
    "  registerDoSNOW(cl)\n",
    "  \n",
    "  set.seed(seed)\n",
    "  # Leverage formula interface for training\n",
    "  rpart.cv <- train(x = training, y = labels, method = \"rpart\", tuneLength = 30, trControl = ctrl)\n",
    "  \n",
    "  #Shutdown cluster\n",
    "  stopCluster(cl)\n",
    "  \n",
    "  return (rpart.cv)\n",
    "}"
   ]
  },
  {
   "cell_type": "code",
   "execution_count": 57,
   "metadata": {},
   "outputs": [
    {
     "data": {
      "text/plain": [
       "CART \n",
       "\n",
       "891 samples\n",
       "  3 predictor\n",
       "  2 classes: '0', '1' \n",
       "\n",
       "No pre-processing\n",
       "Resampling: Cross-Validated (3 fold, repeated 10 times) \n",
       "Summary of sample sizes: 594, 594, 594, 594, 594, 594, ... \n",
       "Resampling results across tuning parameters:\n",
       "\n",
       "  cp          Accuracy   Kappa    \n",
       "  0.00000000  0.8093154  0.5872691\n",
       "  0.01542650  0.8151515  0.6021814\n",
       "  0.03085299  0.8170595  0.6073245\n",
       "  0.04627949  0.8035915  0.5819021\n",
       "  0.06170599  0.7866442  0.5481020\n",
       "  0.07713249  0.7877666  0.5520131\n",
       "  0.09255898  0.7869809  0.5506934\n",
       "  0.10798548  0.7832772  0.5443564\n",
       "  0.12341198  0.7821549  0.5426317\n",
       "  0.13883848  0.7820426  0.5427793\n",
       "  0.15426497  0.7820426  0.5427793\n",
       "  0.16969147  0.7820426  0.5427793\n",
       "  0.18511797  0.7820426  0.5427793\n",
       "  0.20054446  0.7820426  0.5427793\n",
       "  0.21597096  0.7820426  0.5427793\n",
       "  0.23139746  0.7820426  0.5427793\n",
       "  0.24682396  0.7820426  0.5427793\n",
       "  0.26225045  0.7820426  0.5427793\n",
       "  0.27767695  0.7820426  0.5427793\n",
       "  0.29310345  0.7820426  0.5427793\n",
       "  0.30852995  0.7820426  0.5427793\n",
       "  0.32395644  0.7820426  0.5427793\n",
       "  0.33938294  0.7820426  0.5427793\n",
       "  0.35480944  0.7820426  0.5427793\n",
       "  0.37023593  0.7820426  0.5427793\n",
       "  0.38566243  0.7820426  0.5427793\n",
       "  0.40108893  0.7757576  0.5230281\n",
       "  0.41651543  0.7631874  0.4835751\n",
       "  0.43194192  0.7270483  0.3685616\n",
       "  0.44736842  0.6927048  0.2567765\n",
       "\n",
       "Accuracy was used to select the optimal model using  the largest value.\n",
       "The final value used for the model was cp = 0.03085299."
      ]
     },
     "metadata": {},
     "output_type": "display_data"
    },
    {
     "data": {
      "image/png": "[encoded data removed]",
      "text/plain": [
       "plot without title"
      ]
     },
     "metadata": {},
     "output_type": "display_data"
    }
   ],
   "source": [
    "# Grab features\n",
    "features <- c(\"pclass\", \"title\", \"family.size\")\n",
    "rpart.train.1 <- data.combined[1:891, features]\n",
    "\n",
    "# Run CV and check out results\n",
    "rpart.1.cv.1 <- rpart.cv(94622, rpart.train.1, rf.label, ctrl.3)\n",
    "rpart.1.cv.1\n",
    "\n",
    "# Plot\n",
    "prp(rpart.1.cv.1$finalModel, type = 0, extra = 1, under = TRUE)\n"
   ]
  },
  {
   "cell_type": "markdown",
   "metadata": {},
   "source": [
    "If your title is \"Mr. or Other\" then you will likely perish. The numbers beneath will show you the proportions. The algorithm doesn't know how to slice this anymore, and therefore, it shows you will perish.\n",
    "\n",
    "If you are not a \"Mr. or Other\", and if your pclass is not 3, then likely you will likely survive. \n",
    "\n",
    "If your family size is 5,6,8,11, you will die. If not, you will survive.\n",
    "\n",
    "The plot bring out some interesting lines of investigation. Namely: <br/>\n",
    "1 - Titles of \"Mr.\" and \"Other\" are predicted to perish at an overall accuracy rate of 83.2 %. <br/>\n",
    "2 - Titles of \"Master.\", \"Miss.\", & \"Mrs.\" in 1st & 2nd class are predicted to survive at an overall accuracy rate of 94.9%. There is probably not much more to do here. <br/>\n",
    "3 - Titles of \"Master.\", \"Miss.\", & \"Mrs.\" in 3rd class with family sizes equal to 5, 6, 8, & 11 are predicted to perish with 100% accuracy. **This might be a case of overfitting**. IE there might only be ONE family in the test set with 5 people in the family, which happen to be in 3rd class. <br/>\n",
    "Perhaps we can generalize this more with something like \"if this is greater than 5, less than 5\"\n",
    "\n",
    "4 - Titles of \"Master.\", \"Miss.\", & \"Mrs.\" in 3rd class with family sizes not equal to 5, 6, 8, or 11 are predicted to survive with 59.6% accuracy.\n"
   ]
  },
  {
   "cell_type": "markdown",
   "metadata": {},
   "source": [
    "### MAssaging Titles\n",
    "\n",
    "The titles are too many, therefore we will explore titles and then collapse them into a smaller amount of titles"
   ]
  },
  {
   "cell_type": "code",
   "execution_count": 59,
   "metadata": {},
   "outputs": [
    {
     "data": {
      "text/html": [
       "<ol class=list-inline>\n",
       "\t<li>Braund, Mr. Owen Harris</li>\n",
       "\t<li>Cumings, Mrs. John Bradley (Florence Briggs Thayer)</li>\n",
       "\t<li>Heikkinen, Miss. Laina</li>\n",
       "\t<li>Futrelle, Mrs. Jacques Heath (Lily May Peel)</li>\n",
       "\t<li>Allen, Mr. William Henry</li>\n",
       "\t<li>Moran, Mr. James</li>\n",
       "\t<li>McCarthy, Mr. Timothy J</li>\n",
       "\t<li>Palsson, Master. Gosta Leonard</li>\n",
       "\t<li>Johnson, Mrs. Oscar W (Elisabeth Vilhelmina Berg)</li>\n",
       "\t<li>Nasser, Mrs. Nicholas (Adele Achem)</li>\n",
       "\t<li>Sandstrom, Miss. Marguerite Rut</li>\n",
       "\t<li>Bonnell, Miss. Elizabeth</li>\n",
       "\t<li>Saundercock, Mr. William Henry</li>\n",
       "\t<li>Andersson, Mr. Anders Johan</li>\n",
       "\t<li>Vestrom, Miss. Hulda Amanda Adolfina</li>\n",
       "\t<li>Hewlett, Mrs. (Mary D Kingcome) </li>\n",
       "\t<li>Rice, Master. Eugene</li>\n",
       "\t<li>Williams, Mr. Charles Eugene</li>\n",
       "\t<li>Vander Planke, Mrs. Julius (Emelia Maria Vandemoortele)</li>\n",
       "\t<li>Masselmani, Mrs. Fatima</li>\n",
       "\t<li>Fynney, Mr. Joseph J</li>\n",
       "\t<li>Beesley, Mr. Lawrence</li>\n",
       "\t<li>McGowan, Miss. Anna \"Annie\"</li>\n",
       "\t<li>Sloper, Mr. William Thompson</li>\n",
       "\t<li>Palsson, Miss. Torborg Danira</li>\n",
       "</ol>\n"
      ],
      "text/latex": [
       "\\begin{enumerate*}\n",
       "\\item Braund, Mr. Owen Harris\n",
       "\\item Cumings, Mrs. John Bradley (Florence Briggs Thayer)\n",
       "\\item Heikkinen, Miss. Laina\n",
       "\\item Futrelle, Mrs. Jacques Heath (Lily May Peel)\n",
       "\\item Allen, Mr. William Henry\n",
       "\\item Moran, Mr. James\n",
       "\\item McCarthy, Mr. Timothy J\n",
       "\\item Palsson, Master. Gosta Leonard\n",
       "\\item Johnson, Mrs. Oscar W (Elisabeth Vilhelmina Berg)\n",
       "\\item Nasser, Mrs. Nicholas (Adele Achem)\n",
       "\\item Sandstrom, Miss. Marguerite Rut\n",
       "\\item Bonnell, Miss. Elizabeth\n",
       "\\item Saundercock, Mr. William Henry\n",
       "\\item Andersson, Mr. Anders Johan\n",
       "\\item Vestrom, Miss. Hulda Amanda Adolfina\n",
       "\\item Hewlett, Mrs. (Mary D Kingcome) \n",
       "\\item Rice, Master. Eugene\n",
       "\\item Williams, Mr. Charles Eugene\n",
       "\\item Vander Planke, Mrs. Julius (Emelia Maria Vandemoortele)\n",
       "\\item Masselmani, Mrs. Fatima\n",
       "\\item Fynney, Mr. Joseph J\n",
       "\\item Beesley, Mr. Lawrence\n",
       "\\item McGowan, Miss. Anna \"Annie\"\n",
       "\\item Sloper, Mr. William Thompson\n",
       "\\item Palsson, Miss. Torborg Danira\n",
       "\\end{enumerate*}\n"
      ],
      "text/markdown": [
       "1. Braund, Mr. Owen Harris\n",
       "2. Cumings, Mrs. John Bradley (Florence Briggs Thayer)\n",
       "3. Heikkinen, Miss. Laina\n",
       "4. Futrelle, Mrs. Jacques Heath (Lily May Peel)\n",
       "5. Allen, Mr. William Henry\n",
       "6. Moran, Mr. James\n",
       "7. McCarthy, Mr. Timothy J\n",
       "8. Palsson, Master. Gosta Leonard\n",
       "9. Johnson, Mrs. Oscar W (Elisabeth Vilhelmina Berg)\n",
       "10. Nasser, Mrs. Nicholas (Adele Achem)\n",
       "11. Sandstrom, Miss. Marguerite Rut\n",
       "12. Bonnell, Miss. Elizabeth\n",
       "13. Saundercock, Mr. William Henry\n",
       "14. Andersson, Mr. Anders Johan\n",
       "15. Vestrom, Miss. Hulda Amanda Adolfina\n",
       "16. Hewlett, Mrs. (Mary D Kingcome) \n",
       "17. Rice, Master. Eugene\n",
       "18. Williams, Mr. Charles Eugene\n",
       "19. Vander Planke, Mrs. Julius (Emelia Maria Vandemoortele)\n",
       "20. Masselmani, Mrs. Fatima\n",
       "21. Fynney, Mr. Joseph J\n",
       "22. Beesley, Mr. Lawrence\n",
       "23. McGowan, Miss. Anna \"Annie\"\n",
       "24. Sloper, Mr. William Thompson\n",
       "25. Palsson, Miss. Torborg Danira\n",
       "\n",
       "\n"
      ],
      "text/plain": [
       " [1] Braund, Mr. Owen Harris                                \n",
       " [2] Cumings, Mrs. John Bradley (Florence Briggs Thayer)    \n",
       " [3] Heikkinen, Miss. Laina                                 \n",
       " [4] Futrelle, Mrs. Jacques Heath (Lily May Peel)           \n",
       " [5] Allen, Mr. William Henry                               \n",
       " [6] Moran, Mr. James                                       \n",
       " [7] McCarthy, Mr. Timothy J                                \n",
       " [8] Palsson, Master. Gosta Leonard                         \n",
       " [9] Johnson, Mrs. Oscar W (Elisabeth Vilhelmina Berg)      \n",
       "[10] Nasser, Mrs. Nicholas (Adele Achem)                    \n",
       "[11] Sandstrom, Miss. Marguerite Rut                        \n",
       "[12] Bonnell, Miss. Elizabeth                               \n",
       "[13] Saundercock, Mr. William Henry                         \n",
       "[14] Andersson, Mr. Anders Johan                            \n",
       "[15] Vestrom, Miss. Hulda Amanda Adolfina                   \n",
       "[16] Hewlett, Mrs. (Mary D Kingcome)                        \n",
       "[17] Rice, Master. Eugene                                   \n",
       "[18] Williams, Mr. Charles Eugene                           \n",
       "[19] Vander Planke, Mrs. Julius (Emelia Maria Vandemoortele)\n",
       "[20] Masselmani, Mrs. Fatima                                \n",
       "[21] Fynney, Mr. Joseph J                                   \n",
       "[22] Beesley, Mr. Lawrence                                  \n",
       "[23] McGowan, Miss. Anna \"Annie\"                            \n",
       "[24] Sloper, Mr. William Thompson                           \n",
       "[25] Palsson, Miss. Torborg Danira                          \n",
       "1307 Levels: Abbing, Mr. Anthony ... Zakarian, Mr. Ortin"
      ]
     },
     "metadata": {},
     "output_type": "display_data"
    },
    {
     "data": {
      "text/html": [
       "<ol>\n",
       "\t<li><ol class=list-inline>\n",
       "\t<li>'Braund'</li>\n",
       "\t<li>' Mr. Owen Harris'</li>\n",
       "</ol>\n",
       "</li>\n",
       "</ol>\n"
      ],
      "text/latex": [
       "\\begin{enumerate}\n",
       "\\item \\begin{enumerate*}\n",
       "\\item 'Braund'\n",
       "\\item ' Mr. Owen Harris'\n",
       "\\end{enumerate*}\n",
       "\n",
       "\\end{enumerate}\n"
      ],
      "text/markdown": [
       "1. 1. 'Braund'\n",
       "2. ' Mr. Owen Harris'\n",
       "\n",
       "\n",
       "\n",
       "\n",
       "\n"
      ],
      "text/plain": [
       "[[1]]\n",
       "[1] \"Braund\"           \" Mr. Owen Harris\"\n"
      ]
     },
     "metadata": {},
     "output_type": "display_data"
    },
    {
     "data": {
      "text/html": [
       "<ol class=list-inline>\n",
       "\t<li>'Braund'</li>\n",
       "\t<li>'Cumings'</li>\n",
       "\t<li>'Heikkinen'</li>\n",
       "\t<li>'Futrelle'</li>\n",
       "\t<li>'Allen'</li>\n",
       "\t<li>'Moran'</li>\n",
       "\t<li>'McCarthy'</li>\n",
       "\t<li>'Palsson'</li>\n",
       "\t<li>'Johnson'</li>\n",
       "\t<li>'Nasser'</li>\n",
       "</ol>\n"
      ],
      "text/latex": [
       "\\begin{enumerate*}\n",
       "\\item 'Braund'\n",
       "\\item 'Cumings'\n",
       "\\item 'Heikkinen'\n",
       "\\item 'Futrelle'\n",
       "\\item 'Allen'\n",
       "\\item 'Moran'\n",
       "\\item 'McCarthy'\n",
       "\\item 'Palsson'\n",
       "\\item 'Johnson'\n",
       "\\item 'Nasser'\n",
       "\\end{enumerate*}\n"
      ],
      "text/markdown": [
       "1. 'Braund'\n",
       "2. 'Cumings'\n",
       "3. 'Heikkinen'\n",
       "4. 'Futrelle'\n",
       "5. 'Allen'\n",
       "6. 'Moran'\n",
       "7. 'McCarthy'\n",
       "8. 'Palsson'\n",
       "9. 'Johnson'\n",
       "10. 'Nasser'\n",
       "\n",
       "\n"
      ],
      "text/plain": [
       " [1] \"Braund\"    \"Cumings\"   \"Heikkinen\" \"Futrelle\"  \"Allen\"     \"Moran\"    \n",
       " [7] \"McCarthy\"  \"Palsson\"   \"Johnson\"   \"Nasser\"   "
      ]
     },
     "metadata": {},
     "output_type": "display_data"
    }
   ],
   "source": [
    "# Parse out last name and title\n",
    "data.combined[1:25, \"name\"]\n",
    "\n",
    "name.splits <- str_split(data.combined$name, \",\")\n",
    "name.splits[1]\n",
    "last.names <- sapply(name.splits, \"[\", 1) #\"[\" is the indexing operator ]\n",
    "last.names[1:10]"
   ]
  },
  {
   "cell_type": "code",
   "execution_count": 63,
   "metadata": {},
   "outputs": [
    {
     "data": {
      "text/html": [
       "<ol class=list-inline>\n",
       "\t<li>'Mr.'</li>\n",
       "\t<li>'Mrs.'</li>\n",
       "\t<li>'Miss.'</li>\n",
       "\t<li>'Master.'</li>\n",
       "\t<li>'Don.'</li>\n",
       "\t<li>'Rev.'</li>\n",
       "\t<li>'Dr.'</li>\n",
       "\t<li>'Mme.'</li>\n",
       "\t<li>'Ms.'</li>\n",
       "\t<li>'Major.'</li>\n",
       "\t<li>'Lady.'</li>\n",
       "\t<li>'Sir.'</li>\n",
       "\t<li>'Mlle.'</li>\n",
       "\t<li>'Col.'</li>\n",
       "\t<li>'Capt.'</li>\n",
       "\t<li>'the'</li>\n",
       "\t<li>'Jonkheer.'</li>\n",
       "\t<li>'Dona.'</li>\n",
       "</ol>\n"
      ],
      "text/latex": [
       "\\begin{enumerate*}\n",
       "\\item 'Mr.'\n",
       "\\item 'Mrs.'\n",
       "\\item 'Miss.'\n",
       "\\item 'Master.'\n",
       "\\item 'Don.'\n",
       "\\item 'Rev.'\n",
       "\\item 'Dr.'\n",
       "\\item 'Mme.'\n",
       "\\item 'Ms.'\n",
       "\\item 'Major.'\n",
       "\\item 'Lady.'\n",
       "\\item 'Sir.'\n",
       "\\item 'Mlle.'\n",
       "\\item 'Col.'\n",
       "\\item 'Capt.'\n",
       "\\item 'the'\n",
       "\\item 'Jonkheer.'\n",
       "\\item 'Dona.'\n",
       "\\end{enumerate*}\n"
      ],
      "text/markdown": [
       "1. 'Mr.'\n",
       "2. 'Mrs.'\n",
       "3. 'Miss.'\n",
       "4. 'Master.'\n",
       "5. 'Don.'\n",
       "6. 'Rev.'\n",
       "7. 'Dr.'\n",
       "8. 'Mme.'\n",
       "9. 'Ms.'\n",
       "10. 'Major.'\n",
       "11. 'Lady.'\n",
       "12. 'Sir.'\n",
       "13. 'Mlle.'\n",
       "14. 'Col.'\n",
       "15. 'Capt.'\n",
       "16. 'the'\n",
       "17. 'Jonkheer.'\n",
       "18. 'Dona.'\n",
       "\n",
       "\n"
      ],
      "text/plain": [
       " [1] \"Mr.\"       \"Mrs.\"      \"Miss.\"     \"Master.\"   \"Don.\"      \"Rev.\"     \n",
       " [7] \"Dr.\"       \"Mme.\"      \"Ms.\"       \"Major.\"    \"Lady.\"     \"Sir.\"     \n",
       "[13] \"Mlle.\"     \"Col.\"      \"Capt.\"     \"the\"       \"Jonkheer.\" \"Dona.\"    "
      ]
     },
     "metadata": {},
     "output_type": "display_data"
    },
    {
     "data": {
      "text/html": [
       "<table>\n",
       "<thead><tr><th></th><th scope=col>passengerid</th><th scope=col>survived</th><th scope=col>pclass</th><th scope=col>name</th><th scope=col>sex</th><th scope=col>age</th><th scope=col>sibsp</th><th scope=col>parch</th><th scope=col>ticket</th><th scope=col>fare</th><th scope=col>cabin</th><th scope=col>embarked</th><th scope=col>title</th><th scope=col>family.size</th><th scope=col>ticket.first.char</th><th scope=col>cabin.first.char</th><th scope=col>cabin.multiple</th><th scope=col>last.name</th></tr></thead>\n",
       "<tbody>\n",
       "\t<tr><th scope=row>760</th><td>760                                                     </td><td>1                                                       </td><td>1                                                       </td><td>Rothes, the Countess. of (Lucy Noel Martha Dyer-Edwards)</td><td>female                                                  </td><td>33                                                      </td><td>0                                                       </td><td>0                                                       </td><td>110152                                                  </td><td>86.5                                                    </td><td>B77                                                     </td><td>S                                                       </td><td>Other                                                   </td><td>1                                                       </td><td>1                                                       </td><td>B                                                       </td><td>N                                                       </td><td>Rothes                                                  </td></tr>\n",
       "</tbody>\n",
       "</table>\n"
      ],
      "text/latex": [
       "\\begin{tabular}{r|llllllllllllllllll}\n",
       "  & passengerid & survived & pclass & name & sex & age & sibsp & parch & ticket & fare & cabin & embarked & title & family.size & ticket.first.char & cabin.first.char & cabin.multiple & last.name\\\\\n",
       "\\hline\n",
       "\t760 & 760                                                      & 1                                                        & 1                                                        & Rothes, the Countess. of (Lucy Noel Martha Dyer-Edwards) & female                                                   & 33                                                       & 0                                                        & 0                                                        & 110152                                                   & 86.5                                                     & B77                                                      & S                                                        & Other                                                    & 1                                                        & 1                                                        & B                                                        & N                                                        & Rothes                                                  \\\\\n",
       "\\end{tabular}\n"
      ],
      "text/markdown": [
       "\n",
       "| <!--/--> | passengerid | survived | pclass | name | sex | age | sibsp | parch | ticket | fare | cabin | embarked | title | family.size | ticket.first.char | cabin.first.char | cabin.multiple | last.name | \n",
       "|---|\n",
       "| 760 | 760                                                      | 1                                                        | 1                                                        | Rothes, the Countess. of (Lucy Noel Martha Dyer-Edwards) | female                                                   | 33                                                       | 0                                                        | 0                                                        | 110152                                                   | 86.5                                                     | B77                                                      | S                                                        | Other                                                    | 1                                                        | 1                                                        | B                                                        | N                                                        | Rothes                                                   | \n",
       "\n",
       "\n"
      ],
      "text/plain": [
       "    passengerid survived pclass\n",
       "760 760         1        1     \n",
       "    name                                                     sex    age sibsp\n",
       "760 Rothes, the Countess. of (Lucy Noel Martha Dyer-Edwards) female 33  0    \n",
       "    parch ticket fare cabin embarked title family.size ticket.first.char\n",
       "760 0     110152 86.5 B77   S        Other 1           1                \n",
       "    cabin.first.char cabin.multiple last.name\n",
       "760 B                N              Rothes   "
      ]
     },
     "metadata": {},
     "output_type": "display_data"
    }
   ],
   "source": [
    "# Add last names to dataframe in case we find it useful later\n",
    "data.combined$last.name <- last.names\n",
    "\n",
    "# Now for titles\n",
    "name.splits <- str_split(sapply(name.splits, \"[\", 2), \" \")\n",
    "titles <- sapply(name.splits, \"[\", 2)\n",
    "unique(titles)\n",
    "\n",
    "# What's up with a title of 'the'?\n",
    "data.combined[which(titles == \"the\"),]"
   ]
  },
  {
   "cell_type": "code",
   "execution_count": 64,
   "metadata": {},
   "outputs": [
    {
     "data": {
      "text/plain": [
       "titles\n",
       "    Dr.   Lady. Master.   Miss.     Mr.    Mrs. Officer    Rev.    Sir. \n",
       "      8       3      61     264     757     198       7       8       3 "
      ]
     },
     "metadata": {},
     "output_type": "display_data"
    }
   ],
   "source": [
    "# Re-map titles to be more exact\n",
    "titles[titles %in% c(\"Dona.\", \"the\")] <- \"Lady.\"\n",
    "titles[titles %in% c(\"Ms.\", \"Mlle.\")] <- \"Miss.\"\n",
    "titles[titles == \"Mme.\"] <- \"Mrs.\"\n",
    "titles[titles %in% c(\"Jonkheer.\", \"Don.\")] <- \"Sir.\"\n",
    "titles[titles %in% c(\"Col.\", \"Capt.\", \"Major.\")] <- \"Officer\"\n",
    "table(titles)\n"
   ]
  },
  {
   "cell_type": "code",
   "execution_count": 68,
   "metadata": {},
   "outputs": [
    {
     "data": {},
     "metadata": {},
     "output_type": "display_data"
    },
    {
     "data": {
      "image/png": "[encoded data removed]",
      "text/plain": [
       "plot without title"
      ]
     },
     "metadata": {},
     "output_type": "display_data"
    }
   ],
   "source": [
    "# Make title a factor\n",
    "data.combined$new.title <- as.factor(titles)\n",
    "# Visualize it to see if it is predictive\n",
    "options(repr.plot.width=10, repr.plot.height=6)\n",
    "\n",
    "# Visualize new version of title\n",
    "ggplot(data.combined[1:891,], aes(x = new.title, fill = survived)) + theme(axis.text.x = element_text(angle = 90, hjust = 1)) +\n",
    "  geom_bar() + facet_wrap(~ pclass) + ggtitle(\"Surival Rates for new.title by pclass\")\n"
   ]
  },
  {
   "cell_type": "code",
   "execution_count": 69,
   "metadata": {},
   "outputs": [
    {
     "data": {},
     "metadata": {},
     "output_type": "display_data"
    },
    {
     "data": {
      "image/png": "[encoded data removed]",
      "text/plain": [
       "plot without title"
      ]
     },
     "metadata": {},
     "output_type": "display_data"
    }
   ],
   "source": [
    "# Collapse titles based on visual analysis\n",
    "indexes <- which(data.combined$new.title == \"Lady.\")\n",
    "data.combined$new.title[indexes] <- \"Mrs.\"\n",
    "\n",
    "indexes <- which(data.combined$new.title == \"Dr.\" | \n",
    "                 data.combined$new.title == \"Rev.\" |\n",
    "                 data.combined$new.title == \"Sir.\" |\n",
    "                 data.combined$new.title == \"Officer\")\n",
    "data.combined$new.title[indexes] <- \"Mr.\"\n",
    "\n",
    "# Visualize \n",
    "ggplot(data.combined[1:891,], aes(x = new.title, fill = survived)) +\n",
    "  geom_bar() +\n",
    "  facet_wrap(~ pclass) +\n",
    "  ggtitle(\"Surival Rates for Collapsed new.title by pclass\")"
   ]
  },
  {
   "cell_type": "code",
   "execution_count": 71,
   "metadata": {},
   "outputs": [
    {
     "data": {
      "text/plain": [
       "CART \n",
       "\n",
       "891 samples\n",
       "  3 predictor\n",
       "  2 classes: '0', '1' \n",
       "\n",
       "No pre-processing\n",
       "Resampling: Cross-Validated (3 fold, repeated 10 times) \n",
       "Summary of sample sizes: 594, 594, 594, 594, 594, 594, ... \n",
       "Resampling results across tuning parameters:\n",
       "\n",
       "  cp          Accuracy   Kappa    \n",
       "  0.00000000  0.8178451  0.6047735\n",
       "  0.01582980  0.8261504  0.6252869\n",
       "  0.03165961  0.8280584  0.6303902\n",
       "  0.04748941  0.8145903  0.6049449\n",
       "  0.06331922  0.7936027  0.5633852\n",
       "  0.07914902  0.7947250  0.5672045\n",
       "  0.09497883  0.7939394  0.5658414\n",
       "  0.11080863  0.7929293  0.5641059\n",
       "  0.12663844  0.7924804  0.5634784\n",
       "  0.14246824  0.7923681  0.5635873\n",
       "  0.15829804  0.7923681  0.5635873\n",
       "  0.17412785  0.7923681  0.5635873\n",
       "  0.18995765  0.7923681  0.5635873\n",
       "  0.20578746  0.7923681  0.5635873\n",
       "  0.22161726  0.7923681  0.5635873\n",
       "  0.23744707  0.7923681  0.5635873\n",
       "  0.25327687  0.7923681  0.5635873\n",
       "  0.26910667  0.7923681  0.5635873\n",
       "  0.28493648  0.7923681  0.5635873\n",
       "  0.30076628  0.7923681  0.5635873\n",
       "  0.31659609  0.7923681  0.5635873\n",
       "  0.33242589  0.7923681  0.5635873\n",
       "  0.34825570  0.7923681  0.5635873\n",
       "  0.36408550  0.7923681  0.5635873\n",
       "  0.37991531  0.7923681  0.5635873\n",
       "  0.39574511  0.7923681  0.5635873\n",
       "  0.41157491  0.7923681  0.5635873\n",
       "  0.42740472  0.7719416  0.5013069\n",
       "  0.44323452  0.7271605  0.3617107\n",
       "  0.45906433  0.7025814  0.2840360\n",
       "\n",
       "Accuracy was used to select the optimal model using  the largest value.\n",
       "The final value used for the model was cp = 0.03165961."
      ]
     },
     "metadata": {},
     "output_type": "display_data"
    },
    {
     "data": {
      "image/png": "[encoded data removed]",
      "text/plain": [
       "plot without title"
      ]
     },
     "metadata": {},
     "output_type": "display_data"
    }
   ],
   "source": [
    "# Grab features\n",
    "features <- c(\"pclass\", \"new.title\", \"family.size\")\n",
    "rpart.train.2 <- data.combined[1:891, features]\n",
    "\n",
    "# Run CV and check out results\n",
    "rpart.2.cv.1 <- rpart.cv(94622, rpart.train.2, rf.label, ctrl.3)\n",
    "rpart.2.cv.1\n",
    "\n",
    "# Plot\n",
    "prp(rpart.2.cv.1$finalModel, type = 0, extra = 1, under = TRUE)\n"
   ]
  },
  {
   "cell_type": "code",
   "execution_count": 73,
   "metadata": {},
   "outputs": [
    {
     "data": {
      "text/plain": [
       "  passengerid     survived  pclass                                    name    \n",
       " Min.   :   7.0   0   :77   1:175   Anderson, Mr. Harry                 :  1  \n",
       " 1st Qu.: 372.5   1   :43   2:  0   Andrews, Mr. Thomas Jr              :  1  \n",
       " Median : 648.0   None:55   3:  0   Artagaveytia, Mr. Ramon             :  1  \n",
       " Mean   : 657.7                     Barkworth, Mr. Algernon Henry Wilson:  1  \n",
       " 3rd Qu.: 966.0                     Baumann, Mr. John D                 :  1  \n",
       " Max.   :1299.0                     Baxter, Mr. Quigg Edmond            :  1  \n",
       "                                    (Other)                             :169  \n",
       "     sex           age            sibsp            parch        ticket         \n",
       " female:  1   Min.   :17.00   Min.   :0.0000   0      :146   Length:175        \n",
       " male  :174   1st Qu.:31.00   1st Qu.:0.0000   1      : 21   Class :character  \n",
       "              Median :42.00   Median :0.0000   2      :  6   Mode  :character  \n",
       "              Mean   :42.24   Mean   :0.3257   3      :  1                     \n",
       "              3rd Qu.:50.50   3rd Qu.:1.0000   4      :  1                     \n",
       "              Max.   :80.00   Max.   :3.0000   5      :  0                     \n",
       "              NA's   :28                       (Other):  0                     \n",
       "      fare           cabin           embarked     title      family.size \n",
       " Min.   :  0.00   Length:175          :  0    Master.:  0   1      :109  \n",
       " 1st Qu.: 27.72   Class :character   C: 68    Miss.  :  0   2      : 45  \n",
       " Median : 45.50   Mode  :character   Q:  1    Mr.    :160   3      : 16  \n",
       " Mean   : 67.35                      S:106    Mrs.   :  0   4      :  2  \n",
       " 3rd Qu.: 78.07                               Other  : 15   6      :  2  \n",
       " Max.   :512.33                                             5      :  1  \n",
       "                                                            (Other):  0  \n",
       " ticket.first.char cabin.first.char cabin.multiple  last.name        \n",
       " 1      :110       C      :47       N:162          Length:175        \n",
       " P      : 45       U      :44       Y: 13          Class :character  \n",
       " 3      :  8       B      :27                      Mode  :character  \n",
       " 6      :  4       D      :20                                        \n",
       " 2      :  3       E      :19                                        \n",
       " F      :  2       A      :17                                        \n",
       " (Other):  3       (Other): 1                                        \n",
       "   new.title  \n",
       " Mr.    :175  \n",
       " Dr.    :  0  \n",
       " Lady.  :  0  \n",
       " Master.:  0  \n",
       " Miss.  :  0  \n",
       " Mrs.   :  0  \n",
       " (Other):  0  "
      ]
     },
     "metadata": {},
     "output_type": "display_data"
    }
   ],
   "source": [
    "# Dive in on 1st class \"Mr.\"\n",
    "indexes.first.mr <- which(data.combined$new.title == \"Mr.\" & data.combined$pclass == \"1\")\n",
    "first.mr.df <- data.combined[indexes.first.mr, ]\n",
    "summary(first.mr.df)\n"
   ]
  },
  {
   "cell_type": "code",
   "execution_count": 74,
   "metadata": {},
   "outputs": [
    {
     "data": {
      "text/html": [
       "<table>\n",
       "<thead><tr><th></th><th scope=col>passengerid</th><th scope=col>survived</th><th scope=col>pclass</th><th scope=col>name</th><th scope=col>sex</th><th scope=col>age</th><th scope=col>sibsp</th><th scope=col>parch</th><th scope=col>ticket</th><th scope=col>fare</th><th scope=col>cabin</th><th scope=col>embarked</th><th scope=col>title</th><th scope=col>family.size</th><th scope=col>ticket.first.char</th><th scope=col>cabin.first.char</th><th scope=col>cabin.multiple</th><th scope=col>last.name</th><th scope=col>new.title</th></tr></thead>\n",
       "<tbody>\n",
       "\t<tr><th scope=row>797</th><td>797                        </td><td>1                          </td><td>1                          </td><td>Leader, Dr. Alice (Farnham)</td><td>female                     </td><td>49                         </td><td>0                          </td><td>0                          </td><td>17465                      </td><td>25.9292                    </td><td>D17                        </td><td>S                          </td><td>Other                      </td><td>1                          </td><td>1                          </td><td>D                          </td><td>N                          </td><td>Leader                     </td><td>Mr.                        </td></tr>\n",
       "</tbody>\n",
       "</table>\n"
      ],
      "text/latex": [
       "\\begin{tabular}{r|lllllllllllllllllll}\n",
       "  & passengerid & survived & pclass & name & sex & age & sibsp & parch & ticket & fare & cabin & embarked & title & family.size & ticket.first.char & cabin.first.char & cabin.multiple & last.name & new.title\\\\\n",
       "\\hline\n",
       "\t797 & 797                         & 1                           & 1                           & Leader, Dr. Alice (Farnham) & female                      & 49                          & 0                           & 0                           & 17465                       & 25.9292                     & D17                         & S                           & Other                       & 1                           & 1                           & D                           & N                           & Leader                      & Mr.                        \\\\\n",
       "\\end{tabular}\n"
      ],
      "text/markdown": [
       "\n",
       "| <!--/--> | passengerid | survived | pclass | name | sex | age | sibsp | parch | ticket | fare | cabin | embarked | title | family.size | ticket.first.char | cabin.first.char | cabin.multiple | last.name | new.title | \n",
       "|---|\n",
       "| 797 | 797                         | 1                           | 1                           | Leader, Dr. Alice (Farnham) | female                      | 49                          | 0                           | 0                           | 17465                       | 25.9292                     | D17                         | S                           | Other                       | 1                           | 1                           | D                           | N                           | Leader                      | Mr.                         | \n",
       "\n",
       "\n"
      ],
      "text/plain": [
       "    passengerid survived pclass name                        sex    age sibsp\n",
       "797 797         1        1      Leader, Dr. Alice (Farnham) female 49  0    \n",
       "    parch ticket fare    cabin embarked title family.size ticket.first.char\n",
       "797 0     17465  25.9292 D17   S        Other 1           1                \n",
       "    cabin.first.char cabin.multiple last.name new.title\n",
       "797 D                N              Leader    Mr.      "
      ]
     },
     "metadata": {},
     "output_type": "display_data"
    }
   ],
   "source": [
    "# One female?\n",
    "first.mr.df[first.mr.df$sex == \"female\",]"
   ]
  },
  {
   "cell_type": "code",
   "execution_count": 76,
   "metadata": {
    "collapsed": true
   },
   "outputs": [],
   "source": [
    "# Update new.title feature\n",
    "indexes <- which(data.combined$new.title == \"Mr.\" & \n",
    "                 data.combined$sex == \"female\")\n",
    "data.combined$new.title[indexes] <- \"Mrs.\""
   ]
  },
  {
   "cell_type": "code",
   "execution_count": 78,
   "metadata": {},
   "outputs": [
    {
     "data": {
      "text/html": [
       "0"
      ],
      "text/latex": [
       "0"
      ],
      "text/markdown": [
       "0"
      ],
      "text/plain": [
       "[1] 0"
      ]
     },
     "metadata": {},
     "output_type": "display_data"
    }
   ],
   "source": [
    "# Any other gender slip-ups?\n",
    "length(which(data.combined$sex == \"female\" & \n",
    "             (data.combined$new.title == \"Master.\" |\n",
    "              data.combined$new.title == \"Mr.\")))"
   ]
  },
  {
   "cell_type": "code",
   "execution_count": 79,
   "metadata": {
    "collapsed": true
   },
   "outputs": [],
   "source": [
    "# Refresh data frame\n",
    "indexes.first.mr <- which(data.combined$new.title == \"Mr.\" & data.combined$pclass == \"1\")\n",
    "first.mr.df <- data.combined[indexes.first.mr, ]"
   ]
  },
  {
   "cell_type": "code",
   "execution_count": 81,
   "metadata": {},
   "outputs": [
    {
     "data": {
      "text/plain": [
       "  passengerid    survived  pclass\n",
       " Min.   : 24.0   0   : 0   1:42  \n",
       " 1st Qu.:435.2   1   :42   2: 0  \n",
       " Median :594.0   None: 0   3: 0  \n",
       " Mean   :528.5                   \n",
       " 3rd Qu.:681.5                   \n",
       " Max.   :890.0                   \n",
       "                                 \n",
       "                                        name        sex          age       \n",
       " Anderson, Mr. Harry                      : 1   female: 0   Min.   :17.00  \n",
       " Barkworth, Mr. Algernon Henry Wilson     : 1   male  :42   1st Qu.:28.00  \n",
       " Beckwith, Mr. Richard Leonard            : 1               Median :36.00  \n",
       " Behr, Mr. Karl Howell                    : 1               Mean   :38.76  \n",
       " Bishop, Mr. Dickinson H                  : 1               3rd Qu.:48.00  \n",
       " Bjornstrom-Steffansson, Mr. Mauritz Hakan: 1               Max.   :80.00  \n",
       " (Other)                                  :36               NA's   :5      \n",
       "     sibsp            parch       ticket               fare       \n",
       " Min.   :0.0000   0      :36   Length:42          Min.   : 26.29  \n",
       " 1st Qu.:0.0000   1      : 4   Class :character   1st Qu.: 27.34  \n",
       " Median :0.0000   2      : 2   Mode  :character   Median : 35.50  \n",
       " Mean   :0.3571   3      : 0                      Mean   : 71.55  \n",
       " 3rd Qu.:1.0000   4      : 0                      3rd Qu.: 73.39  \n",
       " Max.   :2.0000   5      : 0                      Max.   :512.33  \n",
       "                  (Other): 0                                      \n",
       "    cabin           embarked     title     family.size ticket.first.char\n",
       " Length:42           : 0     Master.: 0   1      :25   1      :30       \n",
       " Class :character   C:17     Miss.  : 0   2      :12   P      :11       \n",
       " Mode  :character   Q: 0     Mr.    :38   3      : 4   2      : 1       \n",
       "                    S:25     Mrs.   : 0   4      : 1   3      : 0       \n",
       "                             Other  : 4   5      : 0   4      : 0       \n",
       "                                          6      : 0   5      : 0       \n",
       "                                          (Other): 0   (Other): 0       \n",
       " cabin.first.char cabin.multiple  last.name           new.title \n",
       " C      :10       N:39           Length:42          Mr.    :42  \n",
       " E      : 8       Y: 3           Class :character   Dr.    : 0  \n",
       " B      : 7                      Mode  :character   Lady.  : 0  \n",
       " D      : 6                                         Master.: 0  \n",
       " U      : 6                                         Miss.  : 0  \n",
       " A      : 5                                         Mrs.   : 0  \n",
       " (Other): 0                                         (Other): 0  "
      ]
     },
     "metadata": {},
     "output_type": "display_data"
    }
   ],
   "source": [
    "# Let's look at surviving 1st class \"Mr.\"\n",
    "summary(first.mr.df[first.mr.df$survived == \"1\",])"
   ]
  },
  {
   "cell_type": "markdown",
   "metadata": {},
   "source": [
    "### Taking a look at prices"
   ]
  },
  {
   "cell_type": "code",
   "execution_count": 105,
   "metadata": {
    "scrolled": false
   },
   "outputs": [
    {
     "data": {},
     "metadata": {},
     "output_type": "display_data"
    },
    {
     "data": {
      "image/png": "[encoded data removed]",
      "text/plain": [
       "plot without title"
      ]
     },
     "metadata": {},
     "output_type": "display_data"
    }
   ],
   "source": [
    "options(repr.plot.width=6, repr.plot.height=4)\n",
    "ggplot(first.mr.df, aes(x = fare, fill = survived)) + geom_density(alpha = 0.5) + \n",
    "ggtitle(\"1st Class 'Mr.' Survival Rates by fare\")"
   ]
  },
  {
   "cell_type": "code",
   "execution_count": 121,
   "metadata": {},
   "outputs": [
    {
     "data": {
      "text/html": [
       "<table>\n",
       "<thead><tr><th></th><th scope=col>passengerid</th><th scope=col>survived</th><th scope=col>pclass</th><th scope=col>name</th><th scope=col>sex</th><th scope=col>age</th><th scope=col>sibsp</th><th scope=col>parch</th><th scope=col>ticket</th><th scope=col>fare</th><th scope=col>cabin</th><th scope=col>embarked</th><th scope=col>title</th><th scope=col>family.size</th><th scope=col>ticket.first.char</th><th scope=col>cabin.first.char</th><th scope=col>cabin.multiple</th><th scope=col>last.name</th><th scope=col>new.title</th></tr></thead>\n",
       "<tbody>\n",
       "\t<tr><th scope=row>680</th><td>680                               </td><td>1                                 </td><td>1                                 </td><td>Cardeza, Mr. Thomas Drake Martinez</td><td>male                              </td><td>36                                </td><td>0                                 </td><td>1                                 </td><td>PC 17755                          </td><td>512.3292                          </td><td>B51 B53 B55                       </td><td>C                                 </td><td>Mr.                               </td><td>2                                 </td><td>P                                 </td><td>B                                 </td><td>Y                                 </td><td>Cardeza                           </td><td>Mr.                               </td></tr>\n",
       "\t<tr><th scope=row>738</th><td>738                               </td><td>1                                 </td><td>1                                 </td><td>Lesurer, Mr. Gustave J            </td><td>male                              </td><td>35                                </td><td>0                                 </td><td>0                                 </td><td>PC 17755                          </td><td>512.3292                          </td><td>B101                              </td><td>C                                 </td><td>Mr.                               </td><td>1                                 </td><td>P                                 </td><td>B                                 </td><td>N                                 </td><td>Lesurer                           </td><td>Mr.                               </td></tr>\n",
       "\t<tr><th scope=row>661</th><td>661                               </td><td>1                                 </td><td>1                                 </td><td>Frauenthal, Dr. Henry William     </td><td>male                              </td><td>50                                </td><td>2                                 </td><td>0                                 </td><td>PC 17611                          </td><td>133.6500                          </td><td>U                                 </td><td>S                                 </td><td>Other                             </td><td>3                                 </td><td>P                                 </td><td>U                                 </td><td>N                                 </td><td>Frauenthal                        </td><td>Mr.                               </td></tr>\n",
       "\t<tr><th scope=row>391</th><td>391                               </td><td>1                                 </td><td>1                                 </td><td>Carter, Mr. William Ernest        </td><td>male                              </td><td>36                                </td><td>1                                 </td><td>2                                 </td><td>113760                            </td><td>120.0000                          </td><td>B96 B98                           </td><td>S                                 </td><td>Mr.                               </td><td>4                                 </td><td>1                                 </td><td>B                                 </td><td>Y                                 </td><td>Carter                            </td><td>Mr.                               </td></tr>\n",
       "\t<tr><th scope=row>551</th><td>551                               </td><td>1                                 </td><td>1                                 </td><td>Thayer, Mr. John Borland Jr       </td><td>male                              </td><td>17                                </td><td>0                                 </td><td>2                                 </td><td>17421                             </td><td>110.8833                          </td><td>C70                               </td><td>C                                 </td><td>Mr.                               </td><td>3                                 </td><td>1                                 </td><td>C                                 </td><td>N                                 </td><td>Thayer                            </td><td>Mr.                               </td></tr>\n",
       "\t<tr><th scope=row>485</th><td>485                               </td><td>1                                 </td><td>1                                 </td><td>Bishop, Mr. Dickinson H           </td><td>male                              </td><td>25                                </td><td>1                                 </td><td>0                                 </td><td>11967                             </td><td> 91.0792                          </td><td>B49                               </td><td>C                                 </td><td>Mr.                               </td><td>2                                 </td><td>1                                 </td><td>B                                 </td><td>N                                 </td><td>Bishop                            </td><td>Mr.                               </td></tr>\n",
       "\t<tr><th scope=row>225</th><td>225                               </td><td>1                                 </td><td>1                                 </td><td>Hoyt, Mr. Frederick Maxfield      </td><td>male                              </td><td>38                                </td><td>1                                 </td><td>0                                 </td><td>19943                             </td><td> 90.0000                          </td><td>C93                               </td><td>S                                 </td><td>Mr.                               </td><td>2                                 </td><td>1                                 </td><td>C                                 </td><td>N                                 </td><td>Hoyt                              </td><td>Mr.                               </td></tr>\n",
       "\t<tr><th scope=row>454</th><td>454                               </td><td>1                                 </td><td>1                                 </td><td>Goldenberg, Mr. Samuel L          </td><td>male                              </td><td>49                                </td><td>1                                 </td><td>0                                 </td><td>17453                             </td><td> 89.1042                          </td><td>C92                               </td><td>C                                 </td><td>Mr.                               </td><td>2                                 </td><td>1                                 </td><td>C                                 </td><td>N                                 </td><td>Goldenberg                        </td><td>Mr.                               </td></tr>\n",
       "\t<tr><th scope=row>588</th><td>588                               </td><td>1                                 </td><td>1                                 </td><td>Frolicher-Stehli, Mr. Maxmillian  </td><td>male                              </td><td>60                                </td><td>1                                 </td><td>1                                 </td><td>13567                             </td><td> 79.2000                          </td><td>B41                               </td><td>C                                 </td><td>Mr.                               </td><td>3                                 </td><td>1                                 </td><td>B                                 </td><td>N                                 </td><td>Frolicher-Stehli                  </td><td>Mr.                               </td></tr>\n",
       "\t<tr><th scope=row>646</th><td>646                               </td><td>1                                 </td><td>1                                 </td><td>Harper, Mr. Henry Sleeper         </td><td>male                              </td><td>48                                </td><td>1                                 </td><td>0                                 </td><td>PC 17572                          </td><td> 76.7292                          </td><td>D33                               </td><td>C                                 </td><td>Mr.                               </td><td>2                                 </td><td>P                                 </td><td>D                                 </td><td>N                                 </td><td>Harper                            </td><td>Mr.                               </td></tr>\n",
       "</tbody>\n",
       "</table>\n"
      ],
      "text/latex": [
       "\\begin{tabular}{r|lllllllllllllllllll}\n",
       "  & passengerid & survived & pclass & name & sex & age & sibsp & parch & ticket & fare & cabin & embarked & title & family.size & ticket.first.char & cabin.first.char & cabin.multiple & last.name & new.title\\\\\n",
       "\\hline\n",
       "\t680 & 680                                & 1                                  & 1                                  & Cardeza, Mr. Thomas Drake Martinez & male                               & 36                                 & 0                                  & 1                                  & PC 17755                           & 512.3292                           & B51 B53 B55                        & C                                  & Mr.                                & 2                                  & P                                  & B                                  & Y                                  & Cardeza                            & Mr.                               \\\\\n",
       "\t738 & 738                                & 1                                  & 1                                  & Lesurer, Mr. Gustave J             & male                               & 35                                 & 0                                  & 0                                  & PC 17755                           & 512.3292                           & B101                               & C                                  & Mr.                                & 1                                  & P                                  & B                                  & N                                  & Lesurer                            & Mr.                               \\\\\n",
       "\t661 & 661                                & 1                                  & 1                                  & Frauenthal, Dr. Henry William      & male                               & 50                                 & 2                                  & 0                                  & PC 17611                           & 133.6500                           & U                                  & S                                  & Other                              & 3                                  & P                                  & U                                  & N                                  & Frauenthal                         & Mr.                               \\\\\n",
       "\t391 & 391                                & 1                                  & 1                                  & Carter, Mr. William Ernest         & male                               & 36                                 & 1                                  & 2                                  & 113760                             & 120.0000                           & B96 B98                            & S                                  & Mr.                                & 4                                  & 1                                  & B                                  & Y                                  & Carter                             & Mr.                               \\\\\n",
       "\t551 & 551                                & 1                                  & 1                                  & Thayer, Mr. John Borland Jr        & male                               & 17                                 & 0                                  & 2                                  & 17421                              & 110.8833                           & C70                                & C                                  & Mr.                                & 3                                  & 1                                  & C                                  & N                                  & Thayer                             & Mr.                               \\\\\n",
       "\t485 & 485                                & 1                                  & 1                                  & Bishop, Mr. Dickinson H            & male                               & 25                                 & 1                                  & 0                                  & 11967                              &  91.0792                           & B49                                & C                                  & Mr.                                & 2                                  & 1                                  & B                                  & N                                  & Bishop                             & Mr.                               \\\\\n",
       "\t225 & 225                                & 1                                  & 1                                  & Hoyt, Mr. Frederick Maxfield       & male                               & 38                                 & 1                                  & 0                                  & 19943                              &  90.0000                           & C93                                & S                                  & Mr.                                & 2                                  & 1                                  & C                                  & N                                  & Hoyt                               & Mr.                               \\\\\n",
       "\t454 & 454                                & 1                                  & 1                                  & Goldenberg, Mr. Samuel L           & male                               & 49                                 & 1                                  & 0                                  & 17453                              &  89.1042                           & C92                                & C                                  & Mr.                                & 2                                  & 1                                  & C                                  & N                                  & Goldenberg                         & Mr.                               \\\\\n",
       "\t588 & 588                                & 1                                  & 1                                  & Frolicher-Stehli, Mr. Maxmillian   & male                               & 60                                 & 1                                  & 1                                  & 13567                              &  79.2000                           & B41                                & C                                  & Mr.                                & 3                                  & 1                                  & B                                  & N                                  & Frolicher-Stehli                   & Mr.                               \\\\\n",
       "\t646 & 646                                & 1                                  & 1                                  & Harper, Mr. Henry Sleeper          & male                               & 48                                 & 1                                  & 0                                  & PC 17572                           &  76.7292                           & D33                                & C                                  & Mr.                                & 2                                  & P                                  & D                                  & N                                  & Harper                             & Mr.                               \\\\\n",
       "\\end{tabular}\n"
      ],
      "text/markdown": [
       "\n",
       "| <!--/--> | passengerid | survived | pclass | name | sex | age | sibsp | parch | ticket | fare | cabin | embarked | title | family.size | ticket.first.char | cabin.first.char | cabin.multiple | last.name | new.title | \n",
       "|---|---|---|---|---|---|---|---|---|---|\n",
       "| 680 | 680                                | 1                                  | 1                                  | Cardeza, Mr. Thomas Drake Martinez | male                               | 36                                 | 0                                  | 1                                  | PC 17755                           | 512.3292                           | B51 B53 B55                        | C                                  | Mr.                                | 2                                  | P                                  | B                                  | Y                                  | Cardeza                            | Mr.                                | \n",
       "| 738 | 738                                | 1                                  | 1                                  | Lesurer, Mr. Gustave J             | male                               | 35                                 | 0                                  | 0                                  | PC 17755                           | 512.3292                           | B101                               | C                                  | Mr.                                | 1                                  | P                                  | B                                  | N                                  | Lesurer                            | Mr.                                | \n",
       "| 661 | 661                                | 1                                  | 1                                  | Frauenthal, Dr. Henry William      | male                               | 50                                 | 2                                  | 0                                  | PC 17611                           | 133.6500                           | U                                  | S                                  | Other                              | 3                                  | P                                  | U                                  | N                                  | Frauenthal                         | Mr.                                | \n",
       "| 391 | 391                                | 1                                  | 1                                  | Carter, Mr. William Ernest         | male                               | 36                                 | 1                                  | 2                                  | 113760                             | 120.0000                           | B96 B98                            | S                                  | Mr.                                | 4                                  | 1                                  | B                                  | Y                                  | Carter                             | Mr.                                | \n",
       "| 551 | 551                                | 1                                  | 1                                  | Thayer, Mr. John Borland Jr        | male                               | 17                                 | 0                                  | 2                                  | 17421                              | 110.8833                           | C70                                | C                                  | Mr.                                | 3                                  | 1                                  | C                                  | N                                  | Thayer                             | Mr.                                | \n",
       "| 485 | 485                                | 1                                  | 1                                  | Bishop, Mr. Dickinson H            | male                               | 25                                 | 1                                  | 0                                  | 11967                              |  91.0792                           | B49                                | C                                  | Mr.                                | 2                                  | 1                                  | B                                  | N                                  | Bishop                             | Mr.                                | \n",
       "| 225 | 225                                | 1                                  | 1                                  | Hoyt, Mr. Frederick Maxfield       | male                               | 38                                 | 1                                  | 0                                  | 19943                              |  90.0000                           | C93                                | S                                  | Mr.                                | 2                                  | 1                                  | C                                  | N                                  | Hoyt                               | Mr.                                | \n",
       "| 454 | 454                                | 1                                  | 1                                  | Goldenberg, Mr. Samuel L           | male                               | 49                                 | 1                                  | 0                                  | 17453                              |  89.1042                           | C92                                | C                                  | Mr.                                | 2                                  | 1                                  | C                                  | N                                  | Goldenberg                         | Mr.                                | \n",
       "| 588 | 588                                | 1                                  | 1                                  | Frolicher-Stehli, Mr. Maxmillian   | male                               | 60                                 | 1                                  | 1                                  | 13567                              |  79.2000                           | B41                                | C                                  | Mr.                                | 3                                  | 1                                  | B                                  | N                                  | Frolicher-Stehli                   | Mr.                                | \n",
       "| 646 | 646                                | 1                                  | 1                                  | Harper, Mr. Henry Sleeper          | male                               | 48                                 | 1                                  | 0                                  | PC 17572                           |  76.7292                           | D33                                | C                                  | Mr.                                | 2                                  | P                                  | D                                  | N                                  | Harper                             | Mr.                                | \n",
       "\n",
       "\n"
      ],
      "text/plain": [
       "    passengerid survived pclass name                               sex  age\n",
       "680 680         1        1      Cardeza, Mr. Thomas Drake Martinez male 36 \n",
       "738 738         1        1      Lesurer, Mr. Gustave J             male 35 \n",
       "661 661         1        1      Frauenthal, Dr. Henry William      male 50 \n",
       "391 391         1        1      Carter, Mr. William Ernest         male 36 \n",
       "551 551         1        1      Thayer, Mr. John Borland Jr        male 17 \n",
       "485 485         1        1      Bishop, Mr. Dickinson H            male 25 \n",
       "225 225         1        1      Hoyt, Mr. Frederick Maxfield       male 38 \n",
       "454 454         1        1      Goldenberg, Mr. Samuel L           male 49 \n",
       "588 588         1        1      Frolicher-Stehli, Mr. Maxmillian   male 60 \n",
       "646 646         1        1      Harper, Mr. Henry Sleeper          male 48 \n",
       "    sibsp parch ticket   fare     cabin       embarked title family.size\n",
       "680 0     1     PC 17755 512.3292 B51 B53 B55 C        Mr.   2          \n",
       "738 0     0     PC 17755 512.3292 B101        C        Mr.   1          \n",
       "661 2     0     PC 17611 133.6500 U           S        Other 3          \n",
       "391 1     2     113760   120.0000 B96 B98     S        Mr.   4          \n",
       "551 0     2     17421    110.8833 C70         C        Mr.   3          \n",
       "485 1     0     11967     91.0792 B49         C        Mr.   2          \n",
       "225 1     0     19943     90.0000 C93         S        Mr.   2          \n",
       "454 1     0     17453     89.1042 C92         C        Mr.   2          \n",
       "588 1     1     13567     79.2000 B41         C        Mr.   3          \n",
       "646 1     0     PC 17572  76.7292 D33         C        Mr.   2          \n",
       "    ticket.first.char cabin.first.char cabin.multiple last.name       \n",
       "680 P                 B                Y              Cardeza         \n",
       "738 P                 B                N              Lesurer         \n",
       "661 P                 U                N              Frauenthal      \n",
       "391 1                 B                Y              Carter          \n",
       "551 1                 C                N              Thayer          \n",
       "485 1                 B                N              Bishop          \n",
       "225 1                 C                N              Hoyt            \n",
       "454 1                 C                N              Goldenberg      \n",
       "588 1                 B                N              Frolicher-Stehli\n",
       "646 P                 D                N              Harper          \n",
       "    new.title\n",
       "680 Mr.      \n",
       "738 Mr.      \n",
       "661 Mr.      \n",
       "391 Mr.      \n",
       "551 Mr.      \n",
       "485 Mr.      \n",
       "225 Mr.      \n",
       "454 Mr.      \n",
       "588 Mr.      \n",
       "646 Mr.      "
      ]
     },
     "metadata": {},
     "output_type": "display_data"
    }
   ],
   "source": [
    "first.mr.df<-first.mr.df[order(-first.mr.df$fare),] ##sort by fare\n",
    "head(first.mr.df[first.mr.df$survived == \"1\",],n=10) #view male survivors"
   ]
  },
  {
   "cell_type": "code",
   "execution_count": 122,
   "metadata": {},
   "outputs": [
    {
     "data": {
      "text/html": [
       "<table>\n",
       "<thead><tr><th></th><th scope=col>passengerid</th><th scope=col>survived</th><th scope=col>pclass</th><th scope=col>name</th><th scope=col>sex</th><th scope=col>age</th><th scope=col>sibsp</th><th scope=col>parch</th><th scope=col>ticket</th><th scope=col>fare</th><th scope=col>cabin</th><th scope=col>embarked</th><th scope=col>title</th><th scope=col>family.size</th><th scope=col>ticket.first.char</th><th scope=col>cabin.first.char</th><th scope=col>cabin.multiple</th><th scope=col>last.name</th><th scope=col>new.title</th></tr></thead>\n",
       "<tbody>\n",
       "\t<tr><th scope=row>259</th><td> 259                                                           </td><td>1                                                              </td><td>1                                                              </td><td>Ward, Miss. Anna                                               </td><td>female                                                         </td><td>35                                                             </td><td>0                                                              </td><td>0                                                              </td><td>PC 17755                                                       </td><td>512.3292                                                       </td><td>U                                                              </td><td>C                                                              </td><td>Miss.                                                          </td><td>1                                                              </td><td>P                                                              </td><td>U                                                              </td><td>N                                                              </td><td>Ward                                                           </td><td>Miss.                                                          </td></tr>\n",
       "\t<tr><th scope=row>335</th><td> 335                                                           </td><td>1                                                              </td><td>1                                                              </td><td>Frauenthal, Mrs. Henry William (Clara Heinsheimer)             </td><td>female                                                         </td><td>NA                                                             </td><td>1                                                              </td><td>0                                                              </td><td>PC 17611                                                       </td><td>133.6500                                                       </td><td>U                                                              </td><td>S                                                              </td><td>Mrs.                                                           </td><td>2                                                              </td><td>P                                                              </td><td>U                                                              </td><td>N                                                              </td><td>Frauenthal                                                     </td><td>Mrs.                                                           </td></tr>\n",
       "\t<tr><th scope=row>391</th><td> 391                                                           </td><td>1                                                              </td><td>1                                                              </td><td>Carter, Mr. William Ernest                                     </td><td>male                                                           </td><td>36                                                             </td><td>1                                                              </td><td>2                                                              </td><td>113760                                                         </td><td>120.0000                                                       </td><td>B96 B98                                                        </td><td>S                                                              </td><td>Mr.                                                            </td><td>4                                                              </td><td>1                                                              </td><td>B                                                              </td><td>Y                                                              </td><td>Carter                                                         </td><td>Mr.                                                            </td></tr>\n",
       "\t<tr><th scope=row>436</th><td> 436                                                           </td><td>1                                                              </td><td>1                                                              </td><td>Carter, Miss. Lucile Polk                                      </td><td>female                                                         </td><td>14                                                             </td><td>1                                                              </td><td>2                                                              </td><td>113760                                                         </td><td>120.0000                                                       </td><td>B96 B98                                                        </td><td>S                                                              </td><td>Miss.                                                          </td><td>4                                                              </td><td>1                                                              </td><td>B                                                              </td><td>Y                                                              </td><td>Carter                                                         </td><td>Miss.                                                          </td></tr>\n",
       "\t<tr><th scope=row>661</th><td> 661                                                           </td><td>1                                                              </td><td>1                                                              </td><td>Frauenthal, Dr. Henry William                                  </td><td>male                                                           </td><td>50                                                             </td><td>2                                                              </td><td>0                                                              </td><td>PC 17611                                                       </td><td>133.6500                                                       </td><td>U                                                              </td><td>S                                                              </td><td>Other                                                          </td><td>3                                                              </td><td>P                                                              </td><td>U                                                              </td><td>N                                                              </td><td>Frauenthal                                                     </td><td>Mr.                                                            </td></tr>\n",
       "\t<tr><th scope=row>680</th><td> 680                                                           </td><td>1                                                              </td><td>1                                                              </td><td>Cardeza, Mr. Thomas Drake Martinez                             </td><td>male                                                           </td><td>36                                                             </td><td>0                                                              </td><td>1                                                              </td><td>PC 17755                                                       </td><td>512.3292                                                       </td><td>B51 B53 B55                                                    </td><td>C                                                              </td><td>Mr.                                                            </td><td>2                                                              </td><td>P                                                              </td><td>B                                                              </td><td>Y                                                              </td><td>Cardeza                                                        </td><td>Mr.                                                            </td></tr>\n",
       "\t<tr><th scope=row>738</th><td> 738                                                           </td><td>1                                                              </td><td>1                                                              </td><td>Lesurer, Mr. Gustave J                                         </td><td>male                                                           </td><td>35                                                             </td><td>0                                                              </td><td>0                                                              </td><td>PC 17755                                                       </td><td>512.3292                                                       </td><td>B101                                                           </td><td>C                                                              </td><td>Mr.                                                            </td><td>1                                                              </td><td>P                                                              </td><td>B                                                              </td><td>N                                                              </td><td>Lesurer                                                        </td><td>Mr.                                                            </td></tr>\n",
       "\t<tr><th scope=row>764</th><td> 764                                                           </td><td>1                                                              </td><td>1                                                              </td><td>Carter, Mrs. William Ernest (Lucile Polk)                      </td><td>female                                                         </td><td>36                                                             </td><td>1                                                              </td><td>2                                                              </td><td>113760                                                         </td><td>120.0000                                                       </td><td>B96 B98                                                        </td><td>S                                                              </td><td>Mrs.                                                           </td><td>4                                                              </td><td>1                                                              </td><td>B                                                              </td><td>Y                                                              </td><td>Carter                                                         </td><td>Mrs.                                                           </td></tr>\n",
       "\t<tr><th scope=row>803</th><td> 803                                                           </td><td>1                                                              </td><td>1                                                              </td><td>Carter, Master. William Thornton II                            </td><td>male                                                           </td><td>11                                                             </td><td>1                                                              </td><td>2                                                              </td><td>113760                                                         </td><td>120.0000                                                       </td><td>B96 B98                                                        </td><td>S                                                              </td><td>Master.                                                        </td><td>4                                                              </td><td>1                                                              </td><td>B                                                              </td><td>Y                                                              </td><td>Carter                                                         </td><td>Master.                                                        </td></tr>\n",
       "\t<tr><th scope=row>1235</th><td>1235                                                           </td><td>None                                                           </td><td>1                                                              </td><td>Cardeza, Mrs. James Warburton Martinez (Charlotte Wardle Drake)</td><td>female                                                         </td><td>58                                                             </td><td>0                                                              </td><td>1                                                              </td><td>PC 17755                                                       </td><td>512.3292                                                       </td><td>B51 B53 B55                                                    </td><td>C                                                              </td><td>Mrs.                                                           </td><td>2                                                              </td><td>P                                                              </td><td>B                                                              </td><td>Y                                                              </td><td>Cardeza                                                        </td><td>Mrs.                                                           </td></tr>\n",
       "</tbody>\n",
       "</table>\n"
      ],
      "text/latex": [
       "\\begin{tabular}{r|lllllllllllllllllll}\n",
       "  & passengerid & survived & pclass & name & sex & age & sibsp & parch & ticket & fare & cabin & embarked & title & family.size & ticket.first.char & cabin.first.char & cabin.multiple & last.name & new.title\\\\\n",
       "\\hline\n",
       "\t259 &  259                                                            & 1                                                               & 1                                                               & Ward, Miss. Anna                                                & female                                                          & 35                                                              & 0                                                               & 0                                                               & PC 17755                                                        & 512.3292                                                        & U                                                               & C                                                               & Miss.                                                           & 1                                                               & P                                                               & U                                                               & N                                                               & Ward                                                            & Miss.                                                          \\\\\n",
       "\t335 &  335                                                            & 1                                                               & 1                                                               & Frauenthal, Mrs. Henry William (Clara Heinsheimer)              & female                                                          & NA                                                              & 1                                                               & 0                                                               & PC 17611                                                        & 133.6500                                                        & U                                                               & S                                                               & Mrs.                                                            & 2                                                               & P                                                               & U                                                               & N                                                               & Frauenthal                                                      & Mrs.                                                           \\\\\n",
       "\t391 &  391                                                            & 1                                                               & 1                                                               & Carter, Mr. William Ernest                                      & male                                                            & 36                                                              & 1                                                               & 2                                                               & 113760                                                          & 120.0000                                                        & B96 B98                                                         & S                                                               & Mr.                                                             & 4                                                               & 1                                                               & B                                                               & Y                                                               & Carter                                                          & Mr.                                                            \\\\\n",
       "\t436 &  436                                                            & 1                                                               & 1                                                               & Carter, Miss. Lucile Polk                                       & female                                                          & 14                                                              & 1                                                               & 2                                                               & 113760                                                          & 120.0000                                                        & B96 B98                                                         & S                                                               & Miss.                                                           & 4                                                               & 1                                                               & B                                                               & Y                                                               & Carter                                                          & Miss.                                                          \\\\\n",
       "\t661 &  661                                                            & 1                                                               & 1                                                               & Frauenthal, Dr. Henry William                                   & male                                                            & 50                                                              & 2                                                               & 0                                                               & PC 17611                                                        & 133.6500                                                        & U                                                               & S                                                               & Other                                                           & 3                                                               & P                                                               & U                                                               & N                                                               & Frauenthal                                                      & Mr.                                                            \\\\\n",
       "\t680 &  680                                                            & 1                                                               & 1                                                               & Cardeza, Mr. Thomas Drake Martinez                              & male                                                            & 36                                                              & 0                                                               & 1                                                               & PC 17755                                                        & 512.3292                                                        & B51 B53 B55                                                     & C                                                               & Mr.                                                             & 2                                                               & P                                                               & B                                                               & Y                                                               & Cardeza                                                         & Mr.                                                            \\\\\n",
       "\t738 &  738                                                            & 1                                                               & 1                                                               & Lesurer, Mr. Gustave J                                          & male                                                            & 35                                                              & 0                                                               & 0                                                               & PC 17755                                                        & 512.3292                                                        & B101                                                            & C                                                               & Mr.                                                             & 1                                                               & P                                                               & B                                                               & N                                                               & Lesurer                                                         & Mr.                                                            \\\\\n",
       "\t764 &  764                                                            & 1                                                               & 1                                                               & Carter, Mrs. William Ernest (Lucile Polk)                       & female                                                          & 36                                                              & 1                                                               & 2                                                               & 113760                                                          & 120.0000                                                        & B96 B98                                                         & S                                                               & Mrs.                                                            & 4                                                               & 1                                                               & B                                                               & Y                                                               & Carter                                                          & Mrs.                                                           \\\\\n",
       "\t803 &  803                                                            & 1                                                               & 1                                                               & Carter, Master. William Thornton II                             & male                                                            & 11                                                              & 1                                                               & 2                                                               & 113760                                                          & 120.0000                                                        & B96 B98                                                         & S                                                               & Master.                                                         & 4                                                               & 1                                                               & B                                                               & Y                                                               & Carter                                                          & Master.                                                        \\\\\n",
       "\t1235 & 1235                                                            & None                                                            & 1                                                               & Cardeza, Mrs. James Warburton Martinez (Charlotte Wardle Drake) & female                                                          & 58                                                              & 0                                                               & 1                                                               & PC 17755                                                        & 512.3292                                                        & B51 B53 B55                                                     & C                                                               & Mrs.                                                            & 2                                                               & P                                                               & B                                                               & Y                                                               & Cardeza                                                         & Mrs.                                                           \\\\\n",
       "\\end{tabular}\n"
      ],
      "text/markdown": [
       "\n",
       "| <!--/--> | passengerid | survived | pclass | name | sex | age | sibsp | parch | ticket | fare | cabin | embarked | title | family.size | ticket.first.char | cabin.first.char | cabin.multiple | last.name | new.title | \n",
       "|---|---|---|---|---|---|---|---|---|---|\n",
       "| 259 |  259                                                            | 1                                                               | 1                                                               | Ward, Miss. Anna                                                | female                                                          | 35                                                              | 0                                                               | 0                                                               | PC 17755                                                        | 512.3292                                                        | U                                                               | C                                                               | Miss.                                                           | 1                                                               | P                                                               | U                                                               | N                                                               | Ward                                                            | Miss.                                                           | \n",
       "| 335 |  335                                                            | 1                                                               | 1                                                               | Frauenthal, Mrs. Henry William (Clara Heinsheimer)              | female                                                          | NA                                                              | 1                                                               | 0                                                               | PC 17611                                                        | 133.6500                                                        | U                                                               | S                                                               | Mrs.                                                            | 2                                                               | P                                                               | U                                                               | N                                                               | Frauenthal                                                      | Mrs.                                                            | \n",
       "| 391 |  391                                                            | 1                                                               | 1                                                               | Carter, Mr. William Ernest                                      | male                                                            | 36                                                              | 1                                                               | 2                                                               | 113760                                                          | 120.0000                                                        | B96 B98                                                         | S                                                               | Mr.                                                             | 4                                                               | 1                                                               | B                                                               | Y                                                               | Carter                                                          | Mr.                                                             | \n",
       "| 436 |  436                                                            | 1                                                               | 1                                                               | Carter, Miss. Lucile Polk                                       | female                                                          | 14                                                              | 1                                                               | 2                                                               | 113760                                                          | 120.0000                                                        | B96 B98                                                         | S                                                               | Miss.                                                           | 4                                                               | 1                                                               | B                                                               | Y                                                               | Carter                                                          | Miss.                                                           | \n",
       "| 661 |  661                                                            | 1                                                               | 1                                                               | Frauenthal, Dr. Henry William                                   | male                                                            | 50                                                              | 2                                                               | 0                                                               | PC 17611                                                        | 133.6500                                                        | U                                                               | S                                                               | Other                                                           | 3                                                               | P                                                               | U                                                               | N                                                               | Frauenthal                                                      | Mr.                                                             | \n",
       "| 680 |  680                                                            | 1                                                               | 1                                                               | Cardeza, Mr. Thomas Drake Martinez                              | male                                                            | 36                                                              | 0                                                               | 1                                                               | PC 17755                                                        | 512.3292                                                        | B51 B53 B55                                                     | C                                                               | Mr.                                                             | 2                                                               | P                                                               | B                                                               | Y                                                               | Cardeza                                                         | Mr.                                                             | \n",
       "| 738 |  738                                                            | 1                                                               | 1                                                               | Lesurer, Mr. Gustave J                                          | male                                                            | 35                                                              | 0                                                               | 0                                                               | PC 17755                                                        | 512.3292                                                        | B101                                                            | C                                                               | Mr.                                                             | 1                                                               | P                                                               | B                                                               | N                                                               | Lesurer                                                         | Mr.                                                             | \n",
       "| 764 |  764                                                            | 1                                                               | 1                                                               | Carter, Mrs. William Ernest (Lucile Polk)                       | female                                                          | 36                                                              | 1                                                               | 2                                                               | 113760                                                          | 120.0000                                                        | B96 B98                                                         | S                                                               | Mrs.                                                            | 4                                                               | 1                                                               | B                                                               | Y                                                               | Carter                                                          | Mrs.                                                            | \n",
       "| 803 |  803                                                            | 1                                                               | 1                                                               | Carter, Master. William Thornton II                             | male                                                            | 11                                                              | 1                                                               | 2                                                               | 113760                                                          | 120.0000                                                        | B96 B98                                                         | S                                                               | Master.                                                         | 4                                                               | 1                                                               | B                                                               | Y                                                               | Carter                                                          | Master.                                                         | \n",
       "| 1235 | 1235                                                            | None                                                            | 1                                                               | Cardeza, Mrs. James Warburton Martinez (Charlotte Wardle Drake) | female                                                          | 58                                                              | 0                                                               | 1                                                               | PC 17755                                                        | 512.3292                                                        | B51 B53 B55                                                     | C                                                               | Mrs.                                                            | 2                                                               | P                                                               | B                                                               | Y                                                               | Cardeza                                                         | Mrs.                                                            | \n",
       "\n",
       "\n"
      ],
      "text/plain": [
       "     passengerid survived pclass\n",
       "259   259        1        1     \n",
       "335   335        1        1     \n",
       "391   391        1        1     \n",
       "436   436        1        1     \n",
       "661   661        1        1     \n",
       "680   680        1        1     \n",
       "738   738        1        1     \n",
       "764   764        1        1     \n",
       "803   803        1        1     \n",
       "1235 1235        None     1     \n",
       "     name                                                            sex    age\n",
       "259  Ward, Miss. Anna                                                female 35 \n",
       "335  Frauenthal, Mrs. Henry William (Clara Heinsheimer)              female NA \n",
       "391  Carter, Mr. William Ernest                                      male   36 \n",
       "436  Carter, Miss. Lucile Polk                                       female 14 \n",
       "661  Frauenthal, Dr. Henry William                                   male   50 \n",
       "680  Cardeza, Mr. Thomas Drake Martinez                              male   36 \n",
       "738  Lesurer, Mr. Gustave J                                          male   35 \n",
       "764  Carter, Mrs. William Ernest (Lucile Polk)                       female 36 \n",
       "803  Carter, Master. William Thornton II                             male   11 \n",
       "1235 Cardeza, Mrs. James Warburton Martinez (Charlotte Wardle Drake) female 58 \n",
       "     sibsp parch ticket   fare     cabin       embarked title   family.size\n",
       "259  0     0     PC 17755 512.3292 U           C        Miss.   1          \n",
       "335  1     0     PC 17611 133.6500 U           S        Mrs.    2          \n",
       "391  1     2     113760   120.0000 B96 B98     S        Mr.     4          \n",
       "436  1     2     113760   120.0000 B96 B98     S        Miss.   4          \n",
       "661  2     0     PC 17611 133.6500 U           S        Other   3          \n",
       "680  0     1     PC 17755 512.3292 B51 B53 B55 C        Mr.     2          \n",
       "738  0     0     PC 17755 512.3292 B101        C        Mr.     1          \n",
       "764  1     2     113760   120.0000 B96 B98     S        Mrs.    4          \n",
       "803  1     2     113760   120.0000 B96 B98     S        Master. 4          \n",
       "1235 0     1     PC 17755 512.3292 B51 B53 B55 C        Mrs.    2          \n",
       "     ticket.first.char cabin.first.char cabin.multiple last.name  new.title\n",
       "259  P                 U                N              Ward       Miss.    \n",
       "335  P                 U                N              Frauenthal Mrs.     \n",
       "391  1                 B                Y              Carter     Mr.      \n",
       "436  1                 B                Y              Carter     Miss.    \n",
       "661  P                 U                N              Frauenthal Mr.      \n",
       "680  P                 B                Y              Cardeza    Mr.      \n",
       "738  P                 B                N              Lesurer    Mr.      \n",
       "764  1                 B                Y              Carter     Mrs.     \n",
       "803  1                 B                Y              Carter     Master.  \n",
       "1235 P                 B                Y              Cardeza    Mrs.     "
      ]
     },
     "metadata": {},
     "output_type": "display_data"
    }
   ],
   "source": [
    "# Take a look at some of the high fares\n",
    "indexes <- which(data.combined$ticket == \"PC 17755\" |\n",
    "                 data.combined$ticket == \"PC 17611\" |\n",
    "                 data.combined$ticket == \"113760\")\n",
    "data.combined[indexes,]"
   ]
  },
  {
   "cell_type": "code",
   "execution_count": 125,
   "metadata": {
    "collapsed": true
   },
   "outputs": [],
   "source": [
    "# Engineer features based on all the passengers with the same ticket\n",
    "ticket.party.size <- rep(0, nrow(data.combined))\n",
    "avg.fare <- rep(0.0, nrow(data.combined))\n",
    "tickets <- unique(data.combined$ticket)\n"
   ]
  },
  {
   "cell_type": "code",
   "execution_count": 130,
   "metadata": {},
   "outputs": [
    {
     "data": {
      "text/html": [
       "929"
      ],
      "text/latex": [
       "929"
      ],
      "text/markdown": [
       "929"
      ],
      "text/plain": [
       "[1] 929"
      ]
     },
     "metadata": {},
     "output_type": "display_data"
    }
   ],
   "source": [
    "length(tickets)"
   ]
  },
  {
   "cell_type": "code",
   "execution_count": 131,
   "metadata": {},
   "outputs": [
    {
     "data": {
      "text/plain": [
       "  passengerid     survived  pclass                                    name    \n",
       " Min.   :   7.0   0   :77   1:174   Anderson, Mr. Harry                 :  1  \n",
       " 1st Qu.: 371.8   1   :42   2:  0   Andrews, Mr. Thomas Jr              :  1  \n",
       " Median : 647.0   None:55   3:  0   Artagaveytia, Mr. Ramon             :  1  \n",
       " Mean   : 656.9                     Barkworth, Mr. Algernon Henry Wilson:  1  \n",
       " 3rd Qu.: 966.5                     Baumann, Mr. John D                 :  1  \n",
       " Max.   :1299.0                     Baxter, Mr. Quigg Edmond            :  1  \n",
       "                                    (Other)                             :168  \n",
       "     sex           age            sibsp            parch        ticket         \n",
       " female:  0   Min.   :17.00   Min.   :0.0000   0      :145   Length:174        \n",
       " male  :174   1st Qu.:31.00   1st Qu.:0.0000   1      : 21   Class :character  \n",
       "              Median :42.00   Median :0.0000   2      :  6   Mode  :character  \n",
       "              Mean   :42.20   Mean   :0.3276   3      :  1                     \n",
       "              3rd Qu.:50.75   3rd Qu.:1.0000   4      :  1                     \n",
       "              Max.   :80.00   Max.   :3.0000   5      :  0                     \n",
       "              NA's   :28                       (Other):  0                     \n",
       "      fare           cabin           embarked     title      family.size \n",
       " Min.   :  0.00   Length:174          :  0    Master.:  0   1      :108  \n",
       " 1st Qu.: 27.72   Class :character   C: 68    Miss.  :  0   2      : 45  \n",
       " Median : 46.30   Mode  :character   Q:  1    Mr.    :160   3      : 16  \n",
       " Mean   : 67.58                      S:105    Mrs.   :  0   4      :  2  \n",
       " 3rd Qu.: 78.46                               Other  : 14   6      :  2  \n",
       " Max.   :512.33                                             5      :  1  \n",
       "                                                            (Other):  0  \n",
       " ticket.first.char cabin.first.char cabin.multiple  last.name        \n",
       " 1      :109       C      :47       N:161          Length:174        \n",
       " P      : 45       U      :44       Y: 13          Class :character  \n",
       " 3      :  8       B      :27                      Mode  :character  \n",
       " 6      :  4       D      :19                                        \n",
       " 2      :  3       E      :19                                        \n",
       " F      :  2       A      :17                                        \n",
       " (Other):  3       (Other): 1                                        \n",
       "   new.title   ticket.party.size    avg.fare     \n",
       " Mr.    :174   Min.   :1.000     Min.   :  0.00  \n",
       " Dr.    :  0   1st Qu.:1.000     1st Qu.: 26.43  \n",
       " Lady.  :  0   Median :1.500     Median : 29.29  \n",
       " Master.:  0   Mean   :1.902     Mean   : 32.36  \n",
       " Miss.  :  0   3rd Qu.:2.000     3rd Qu.: 37.59  \n",
       " Mrs.   :  0   Max.   :7.000     Max.   :128.08  \n",
       " (Other):  0                                     "
      ]
     },
     "metadata": {},
     "output_type": "display_data"
    }
   ],
   "source": [
    "for (i in 1:length(tickets)) {\n",
    "  current.ticket <- tickets[i]\n",
    "  party.indexes <- which(data.combined$ticket == current.ticket)\n",
    "  current.avg.fare <- data.combined[party.indexes[1], \"fare\"] / length(party.indexes)\n",
    "  \n",
    "  for (k in 1:length(party.indexes)) {\n",
    "    ticket.party.size[party.indexes[k]] <- length(party.indexes)\n",
    "    avg.fare[party.indexes[k]] <- current.avg.fare\n",
    "  }\n",
    "}\n",
    "\n",
    "data.combined$ticket.party.size <- ticket.party.size\n",
    "data.combined$avg.fare <- avg.fare\n",
    "\n",
    "# Refresh 1st class \"Mr.\" dataframe\n",
    "first.mr.df <- data.combined[indexes.first.mr, ]\n",
    "summary(first.mr.df)"
   ]
  },
  {
   "cell_type": "code",
   "execution_count": 132,
   "metadata": {},
   "outputs": [
    {
     "data": {},
     "metadata": {},
     "output_type": "display_data"
    },
    {
     "data": {},
     "metadata": {},
     "output_type": "display_data"
    },
    {
     "data": {
      "image/png": "[encoded data removed]",
      "text/plain": [
       "plot without title"
      ]
     },
     "metadata": {},
     "output_type": "display_data"
    },
    {
     "data": {
      "image/png": "[encoded data removed]",
      "text/plain": [
       "plot without title"
      ]
     },
     "metadata": {},
     "output_type": "display_data"
    }
   ],
   "source": [
    "# Visualize new features\n",
    "ggplot(first.mr.df[first.mr.df$survived != \"None\",], aes(x = ticket.party.size, fill = survived)) +\n",
    "  geom_density(alpha = 0.5) +\n",
    "  ggtitle(\"Survival Rates 1st Class 'Mr.' by ticket.party.size\")\n",
    "\n",
    "ggplot(first.mr.df[first.mr.df$survived != \"None\",], aes(x = avg.fare, fill = survived)) +\n",
    "  geom_density(alpha = 0.5) +\n",
    "  ggtitle(\"Survival Rates 1st Class 'Mr.' by avg.fare\")"
   ]
  },
  {
   "cell_type": "code",
   "execution_count": 133,
   "metadata": {},
   "outputs": [
    {
     "data": {
      "text/plain": [
       "   Min. 1st Qu.  Median    Mean 3rd Qu.    Max.    NA's \n",
       "   0.00    7.55    8.05   14.76   15.01  128.10       1 "
      ]
     },
     "metadata": {},
     "output_type": "display_data"
    },
    {
     "data": {
      "text/html": [
       "<table>\n",
       "<thead><tr><th></th><th scope=col>passengerid</th><th scope=col>survived</th><th scope=col>pclass</th><th scope=col>name</th><th scope=col>sex</th><th scope=col>age</th><th scope=col>sibsp</th><th scope=col>parch</th><th scope=col>ticket</th><th scope=col>fare</th><th scope=col>...</th><th scope=col>embarked</th><th scope=col>title</th><th scope=col>family.size</th><th scope=col>ticket.first.char</th><th scope=col>cabin.first.char</th><th scope=col>cabin.multiple</th><th scope=col>last.name</th><th scope=col>new.title</th><th scope=col>ticket.party.size</th><th scope=col>avg.fare</th></tr></thead>\n",
       "<tbody>\n",
       "\t<tr><th scope=row>1044</th><td>1044              </td><td>None              </td><td>3                 </td><td>Storey, Mr. Thomas</td><td>male              </td><td>60.5              </td><td>0                 </td><td>0                 </td><td>3701              </td><td>NA                </td><td>...               </td><td>S                 </td><td>Mr.               </td><td>1                 </td><td>3                 </td><td>U                 </td><td>N                 </td><td>Storey            </td><td>Mr.               </td><td>1                 </td><td>NA                </td></tr>\n",
       "</tbody>\n",
       "</table>\n"
      ],
      "text/latex": [
       "\\begin{tabular}{r|lllllllllllllllllllll}\n",
       "  & passengerid & survived & pclass & name & sex & age & sibsp & parch & ticket & fare & ... & embarked & title & family.size & ticket.first.char & cabin.first.char & cabin.multiple & last.name & new.title & ticket.party.size & avg.fare\\\\\n",
       "\\hline\n",
       "\t1044 & 1044               & None               & 3                  & Storey, Mr. Thomas & male               & 60.5               & 0                  & 0                  & 3701               & NA                 & ...                & S                  & Mr.                & 1                  & 3                  & U                  & N                  & Storey             & Mr.                & 1                  & NA                \\\\\n",
       "\\end{tabular}\n"
      ],
      "text/markdown": [
       "\n",
       "| <!--/--> | passengerid | survived | pclass | name | sex | age | sibsp | parch | ticket | fare | ... | embarked | title | family.size | ticket.first.char | cabin.first.char | cabin.multiple | last.name | new.title | ticket.party.size | avg.fare | \n",
       "|---|\n",
       "| 1044 | 1044               | None               | 3                  | Storey, Mr. Thomas | male               | 60.5               | 0                  | 0                  | 3701               | NA                 | ...                | S                  | Mr.                | 1                  | 3                  | U                  | N                  | Storey             | Mr.                | 1                  | NA                 | \n",
       "\n",
       "\n"
      ],
      "text/plain": [
       "     passengerid survived pclass name               sex  age  sibsp parch\n",
       "1044 1044        None     3      Storey, Mr. Thomas male 60.5 0     0    \n",
       "     ticket fare ... embarked title family.size ticket.first.char\n",
       "1044 3701   NA   ... S        Mr.   1           3                \n",
       "     cabin.first.char cabin.multiple last.name new.title ticket.party.size\n",
       "1044 U                N              Storey    Mr.       1                \n",
       "     avg.fare\n",
       "1044 NA      "
      ]
     },
     "metadata": {},
     "output_type": "display_data"
    }
   ],
   "source": [
    "# Hypothesis - ticket.party.size is highly correlated with avg.fare \n",
    "# we want to do this to see if one of the fields is redundant\n",
    "summary(data.combined$avg.fare)\n",
    "\n",
    "# One missing value, take a look\n",
    "data.combined[is.na(data.combined$avg.fare), ]"
   ]
  },
  {
   "cell_type": "code",
   "execution_count": 134,
   "metadata": {},
   "outputs": [
    {
     "data": {
      "text/plain": [
       "   Min. 1st Qu.  Median    Mean 3rd Qu.    Max. \n",
       "  0.000   7.250   7.840   7.717   8.050  10.170 "
      ]
     },
     "metadata": {},
     "output_type": "display_data"
    }
   ],
   "source": [
    "# Get records for similar passengers and summarize avg.fares\n",
    "indexes <- with(data.combined, which(pclass == \"3\" & title == \"Mr.\" & family.size == 1 & ticket != \"3701\"))\n",
    "similar.na.passengers <- data.combined[indexes,]\n",
    "summary(similar.na.passengers$avg.fare)\n",
    "\n",
    "# Use median since close to mean and a little higher than mean\n",
    "data.combined[is.na(avg.fare), \"avg.fare\"] <- 7.840"
   ]
  },
  {
   "cell_type": "code",
   "execution_count": 136,
   "metadata": {
    "collapsed": true
   },
   "outputs": [],
   "source": [
    "# Leverage caret's preProcess function to normalize data\n",
    "preproc.data.combined <- data.combined[, c(\"ticket.party.size\", \"avg.fare\")]\n",
    "preProc <- preProcess(preproc.data.combined, method = c(\"center\", \"scale\"))\n",
    "\n",
    "postproc.data.combined <- predict(preProc, preproc.data.combined)"
   ]
  },
  {
   "cell_type": "code",
   "execution_count": 138,
   "metadata": {},
   "outputs": [
    {
     "data": {
      "text/html": [
       "0.0942862450471221"
      ],
      "text/latex": [
       "0.0942862450471221"
      ],
      "text/markdown": [
       "0.0942862450471221"
      ],
      "text/plain": [
       "[1] 0.09428625"
      ]
     },
     "metadata": {},
     "output_type": "display_data"
    }
   ],
   "source": [
    "# Hypothesis refuted for all data\n",
    "cor(postproc.data.combined$ticket.party.size, postproc.data.combined$avg.fare)"
   ]
  },
  {
   "cell_type": "code",
   "execution_count": 140,
   "metadata": {},
   "outputs": [
    {
     "data": {
      "text/html": [
       "0.257624873896606"
      ],
      "text/latex": [
       "0.257624873896606"
      ],
      "text/markdown": [
       "0.257624873896606"
      ],
      "text/plain": [
       "[1] 0.2576249"
      ]
     },
     "metadata": {},
     "output_type": "display_data"
    }
   ],
   "source": [
    "# How about for just 1st class all-up?\n",
    "indexes <- which(data.combined$pclass == \"1\")\n",
    "cor(postproc.data.combined$ticket.party.size[indexes], \n",
    "    postproc.data.combined$avg.fare[indexes])\n",
    "# Hypothesis refuted again"
   ]
  },
  {
   "cell_type": "code",
   "execution_count": 141,
   "metadata": {},
   "outputs": [
    {
     "data": {
      "text/plain": [
       "CART \n",
       "\n",
       "891 samples\n",
       "  5 predictor\n",
       "  2 classes: '0', '1' \n",
       "\n",
       "No pre-processing\n",
       "Resampling: Cross-Validated (3 fold, repeated 10 times) \n",
       "Summary of sample sizes: 594, 594, 594, 594, 594, 594, ... \n",
       "Resampling results across tuning parameters:\n",
       "\n",
       "  cp          Accuracy   Kappa    \n",
       "  0.00000000  0.8214366  0.6170703\n",
       "  0.01593063  0.8315376  0.6352241\n",
       "  0.03186126  0.8305275  0.6336075\n",
       "  0.04779189  0.8157127  0.6070448\n",
       "  0.06372252  0.7965208  0.5710962\n",
       "  0.07965316  0.7958474  0.5698216\n",
       "  0.09558379  0.7950617  0.5684585\n",
       "  0.11151442  0.7940516  0.5667230\n",
       "  0.12744505  0.7936027  0.5660955\n",
       "  0.14337568  0.7934905  0.5662044\n",
       "  0.15930631  0.7934905  0.5662044\n",
       "  0.17523694  0.7934905  0.5662044\n",
       "  0.19116757  0.7934905  0.5662044\n",
       "  0.20709821  0.7934905  0.5662044\n",
       "  0.22302884  0.7934905  0.5662044\n",
       "  0.23895947  0.7934905  0.5662044\n",
       "  0.25489010  0.7934905  0.5662044\n",
       "  0.27082073  0.7934905  0.5662044\n",
       "  0.28675136  0.7934905  0.5662044\n",
       "  0.30268199  0.7934905  0.5662044\n",
       "  0.31861262  0.7934905  0.5662044\n",
       "  0.33454325  0.7934905  0.5662044\n",
       "  0.35047389  0.7934905  0.5662044\n",
       "  0.36640452  0.7934905  0.5662044\n",
       "  0.38233515  0.7934905  0.5662044\n",
       "  0.39826578  0.7934905  0.5662044\n",
       "  0.41419641  0.7934905  0.5662044\n",
       "  0.43012704  0.7730640  0.5039239\n",
       "  0.44605767  0.7534231  0.4431483\n",
       "  0.46198830  0.6858586  0.2299565\n",
       "\n",
       "Accuracy was used to select the optimal model using  the largest value.\n",
       "The final value used for the model was cp = 0.01593063."
      ]
     },
     "metadata": {},
     "output_type": "display_data"
    },
    {
     "data": {
      "image/png": "[encoded data removed]",
      "text/plain": [
       "plot without title"
      ]
     },
     "metadata": {},
     "output_type": "display_data"
    }
   ],
   "source": [
    "# OK, let's see if our feature engineering has made any difference\n",
    "features <- c(\"pclass\", \"new.title\", \"family.size\", \"ticket.party.size\", \"avg.fare\")\n",
    "rpart.train.3 <- data.combined[1:891, features]\n",
    "\n",
    "# Run CV and check out results\n",
    "rpart.3.cv.1 <- rpart.cv(94622, rpart.train.3, rf.label, ctrl.3)\n",
    "rpart.3.cv.1\n",
    "\n",
    "# Plot\n",
    "prp(rpart.3.cv.1$finalModel, type = 0, extra = 1, under = TRUE)\n"
   ]
  },
  {
   "cell_type": "markdown",
   "metadata": {},
   "source": [
    "## Final Submission and Tuning\n",
    "\n",
    "Final prediction and submission to kaggle"
   ]
  },
  {
   "cell_type": "markdown",
   "metadata": {},
   "source": [
    "### Single Tree Model"
   ]
  },
  {
   "cell_type": "code",
   "execution_count": 178,
   "metadata": {},
   "outputs": [
    {
     "data": {
      "text/plain": [
       "rpart.3.preds\n",
       "  0   1 \n",
       "266 152 "
      ]
     },
     "metadata": {},
     "output_type": "display_data"
    }
   ],
   "source": [
    "# Rpart scores 0.80383\n",
    "# Subset our test records and features and grab features\n",
    "\n",
    "features <- c(\"pclass\", \"new.title\", \"family.size\", \"ticket.party.size\", \"avg.fare\")\n",
    "test.submit.df <- data.combined[892:1309, features]\n",
    "\n",
    "# Make predictions\n",
    "rpart.3.preds <- predict(rpart.3.cv.1$finalModel, test.submit.df, type = \"class\")\n",
    "table(rpart.3.preds)"
   ]
  },
  {
   "cell_type": "markdown",
   "metadata": {},
   "source": [
    "### Random Forrest"
   ]
  },
  {
   "cell_type": "code",
   "execution_count": 184,
   "metadata": {},
   "outputs": [
    {
     "data": {
      "text/plain": [
       "\n",
       "Call:\n",
       " randomForest(x = rf.train.temp, y = rf.label, ntree = 1000) \n",
       "               Type of random forest: classification\n",
       "                     Number of trees: 1000\n",
       "No. of variables tried at each split: 2\n",
       "\n",
       "        OOB estimate of  error rate: 16.16%\n",
       "Confusion matrix:\n",
       "    0   1 class.error\n",
       "0 502  47   0.0856102\n",
       "1  97 245   0.2836257"
      ]
     },
     "metadata": {},
     "output_type": "display_data"
    },
    {
     "data": {
      "text/plain": [
       "rf.preds\n",
       "  0   1 \n",
       "265 153 "
      ]
     },
     "metadata": {},
     "output_type": "display_data"
    }
   ],
   "source": [
    "#\n",
    "# Random forest scores 0.80861\n",
    "#\n",
    "features <- c(\"pclass\", \"new.title\", \"ticket.party.size\", \"avg.fare\")\n",
    "rf.train.temp <- data.combined[1:891, features]\n",
    "\n",
    "set.seed(1234)\n",
    "rf.temp <- randomForest(x = rf.train.temp, y = rf.label, ntree = 1000)\n",
    "rf.temp\n",
    "\n",
    "test.submit.df <- data.combined[892:1309, features]\n",
    "\n",
    "# Make predictions\n",
    "rf.preds <- predict(rf.temp, test.submit.df)\n",
    "table(rf.preds)"
   ]
  },
  {
   "cell_type": "markdown",
   "metadata": {},
   "source": [
    "Random forrest predicts 153 survives while the single tree predicts 152."
   ]
  },
  {
   "cell_type": "code",
   "execution_count": 181,
   "metadata": {},
   "outputs": [
    {
     "data": {
      "text/plain": [
       "rf.preds\n",
       "  0   1 \n",
       "265 153 "
      ]
     },
     "metadata": {},
     "output_type": "display_data"
    },
    {
     "data": {
      "text/html": [
       "<table>\n",
       "<thead><tr><th></th><th scope=col>PassengerId</th><th scope=col>Survived</th></tr></thead>\n",
       "<tbody>\n",
       "\t<tr><th scope=row>892</th><td>892</td><td>0  </td></tr>\n",
       "\t<tr><th scope=row>893</th><td>893</td><td>1  </td></tr>\n",
       "\t<tr><th scope=row>894</th><td>894</td><td>0  </td></tr>\n",
       "\t<tr><th scope=row>895</th><td>895</td><td>0  </td></tr>\n",
       "\t<tr><th scope=row>896</th><td>896</td><td>1  </td></tr>\n",
       "\t<tr><th scope=row>897</th><td>897</td><td>0  </td></tr>\n",
       "\t<tr><th scope=row>898</th><td>898</td><td>1  </td></tr>\n",
       "\t<tr><th scope=row>899</th><td>899</td><td>0  </td></tr>\n",
       "\t<tr><th scope=row>900</th><td>900</td><td>1  </td></tr>\n",
       "\t<tr><th scope=row>901</th><td>901</td><td>0  </td></tr>\n",
       "</tbody>\n",
       "</table>\n"
      ],
      "text/latex": [
       "\\begin{tabular}{r|ll}\n",
       "  & PassengerId & Survived\\\\\n",
       "\\hline\n",
       "\t892 & 892 & 0  \\\\\n",
       "\t893 & 893 & 1  \\\\\n",
       "\t894 & 894 & 0  \\\\\n",
       "\t895 & 895 & 0  \\\\\n",
       "\t896 & 896 & 1  \\\\\n",
       "\t897 & 897 & 0  \\\\\n",
       "\t898 & 898 & 1  \\\\\n",
       "\t899 & 899 & 0  \\\\\n",
       "\t900 & 900 & 1  \\\\\n",
       "\t901 & 901 & 0  \\\\\n",
       "\\end{tabular}\n"
      ],
      "text/markdown": [
       "\n",
       "| <!--/--> | PassengerId | Survived | \n",
       "|---|---|---|---|---|---|---|---|---|---|\n",
       "| 892 | 892 | 0   | \n",
       "| 893 | 893 | 1   | \n",
       "| 894 | 894 | 0   | \n",
       "| 895 | 895 | 0   | \n",
       "| 896 | 896 | 1   | \n",
       "| 897 | 897 | 0   | \n",
       "| 898 | 898 | 1   | \n",
       "| 899 | 899 | 0   | \n",
       "| 900 | 900 | 1   | \n",
       "| 901 | 901 | 0   | \n",
       "\n",
       "\n"
      ],
      "text/plain": [
       "    PassengerId Survived\n",
       "892 892         0       \n",
       "893 893         1       \n",
       "894 894         0       \n",
       "895 895         0       \n",
       "896 896         1       \n",
       "897 897         0       \n",
       "898 898         1       \n",
       "899 899         0       \n",
       "900 900         1       \n",
       "901 901         0       "
      ]
     },
     "metadata": {},
     "output_type": "display_data"
    }
   ],
   "source": [
    "# Write out a CSV file for submission to Kaggle\n",
    "submit.df <- data.frame(PassengerId = rep(892:1309), Survived = rf.preds)\n",
    "head(submit.df, n=10)\n",
    "#write.csv(submit.df, file = \"RF_SUB_20160619_1.csv\", row.names = FALSE)"
   ]
  },
  {
   "cell_type": "markdown",
   "metadata": {},
   "source": [
    "### If we want to improve our model, a good place to start is focusing on where it gets things wrong!\n",
    "\n",
    "Take a look at adult makes. We get it wrong quite a bit. (451, 86) means we just have a difficult time splitting males.\n",
    "\n",
    "Mutual information is a concept of mathematical seeing how useful features are. If I am trying to predict A using B, how much more am I going to know about variable A if I know variable B."
   ]
  },
  {
   "cell_type": "code",
   "execution_count": 186,
   "metadata": {
    "collapsed": true
   },
   "outputs": [],
   "source": [
    "?mutinformation"
   ]
  },
  {
   "cell_type": "code",
   "execution_count": 182,
   "metadata": {},
   "outputs": [
    {
     "name": "stderr",
     "output_type": "stream",
     "text": [
      "Warning message:\n",
      "\"package 'infotheo' was built under R version 3.3.2\""
     ]
    },
    {
     "data": {
      "text/html": [
       "0.0581072526903235"
      ],
      "text/latex": [
       "0.0581072526903235"
      ],
      "text/markdown": [
       "0.0581072526903235"
      ],
      "text/plain": [
       "[1] 0.05810725"
      ]
     },
     "metadata": {},
     "output_type": "display_data"
    },
    {
     "data": {
      "text/html": [
       "0.150870489252182"
      ],
      "text/latex": [
       "0.150870489252182"
      ],
      "text/markdown": [
       "0.150870489252182"
      ],
      "text/plain": [
       "[1] 0.1508705"
      ]
     },
     "metadata": {},
     "output_type": "display_data"
    },
    {
     "data": {
      "text/html": [
       "0.02319708627964"
      ],
      "text/latex": [
       "0.02319708627964"
      ],
      "text/markdown": [
       "0.02319708627964"
      ],
      "text/plain": [
       "[1] 0.02319709"
      ]
     },
     "metadata": {},
     "output_type": "display_data"
    },
    {
     "data": {
      "text/html": [
       "0.0163655845236166"
      ],
      "text/latex": [
       "0.0163655845236166"
      ],
      "text/markdown": [
       "0.0163655845236166"
      ],
      "text/plain": [
       "[1] 0.01636558"
      ]
     },
     "metadata": {},
     "output_type": "display_data"
    },
    {
     "data": {
      "text/html": [
       "0.0661609568228441"
      ],
      "text/latex": [
       "0.0661609568228441"
      ],
      "text/markdown": [
       "0.0661609568228441"
      ],
      "text/plain": [
       "[1] 0.06616096"
      ]
     },
     "metadata": {},
     "output_type": "display_data"
    },
    {
     "data": {
      "text/html": [
       "0.0166681731248932"
      ],
      "text/latex": [
       "0.0166681731248932"
      ],
      "text/markdown": [
       "0.0166681731248932"
      ],
      "text/plain": [
       "[1] 0.01666817"
      ]
     },
     "metadata": {},
     "output_type": "display_data"
    },
    {
     "data": {
      "text/html": [
       "0.166109402426593"
      ],
      "text/latex": [
       "0.166109402426593"
      ],
      "text/markdown": [
       "0.166109402426593"
      ],
      "text/plain": [
       "[1] 0.1661094"
      ]
     },
     "metadata": {},
     "output_type": "display_data"
    },
    {
     "data": {
      "text/html": [
       "0.047781241446021"
      ],
      "text/latex": [
       "0.047781241446021"
      ],
      "text/markdown": [
       "0.047781241446021"
      ],
      "text/plain": [
       "[1] 0.04778124"
      ]
     },
     "metadata": {},
     "output_type": "display_data"
    },
    {
     "data": {
      "text/html": [
       "0.0686184993871102"
      ],
      "text/latex": [
       "0.0686184993871102"
      ],
      "text/markdown": [
       "0.0686184993871102"
      ],
      "text/plain": [
       "[1] 0.0686185"
      ]
     },
     "metadata": {},
     "output_type": "display_data"
    },
    {
     "data": {
      "text/html": [
       "0.00224836524104344"
      ],
      "text/latex": [
       "0.00224836524104344"
      ],
      "text/markdown": [
       "0.00224836524104344"
      ],
      "text/plain": [
       "[1] 0.002248365"
      ]
     },
     "metadata": {},
     "output_type": "display_data"
    },
    {
     "data": {
      "text/html": [
       "0.1710514215785"
      ],
      "text/latex": [
       "0.1710514215785"
      ],
      "text/markdown": [
       "0.1710514215785"
      ],
      "text/plain": [
       "[1] 0.1710514"
      ]
     },
     "metadata": {},
     "output_type": "display_data"
    },
    {
     "data": {
      "text/html": [
       "0.0586049415199099"
      ],
      "text/latex": [
       "0.0586049415199099"
      ],
      "text/markdown": [
       "0.0586049415199099"
      ],
      "text/plain": [
       "[1] 0.05860494"
      ]
     },
     "metadata": {},
     "output_type": "display_data"
    },
    {
     "data": {
      "text/html": [
       "0.0520648422373027"
      ],
      "text/latex": [
       "0.0520648422373027"
      ],
      "text/markdown": [
       "0.0520648422373027"
      ],
      "text/plain": [
       "[1] 0.05206484"
      ]
     },
     "metadata": {},
     "output_type": "display_data"
    }
   ],
   "source": [
    "#install.packages(\"infotheo\")\n",
    "library(infotheo)\n",
    "\n",
    "mutinformation(rf.label, data.combined$pclass[1:891])\n",
    "mutinformation(rf.label, data.combined$sex[1:891])\n",
    "mutinformation(rf.label, data.combined$sibsp[1:891])\n",
    "mutinformation(rf.label, data.combined$parch[1:891])\n",
    "mutinformation(rf.label, discretize(data.combined$fare[1:891]))\n",
    "mutinformation(rf.label, data.combined$embarked[1:891])\n",
    "mutinformation(rf.label, data.combined$title[1:891])\n",
    "mutinformation(rf.label, data.combined$family.size[1:891])\n",
    "mutinformation(rf.label, data.combined$ticket.first.char[1:891])\n",
    "mutinformation(rf.label, data.combined$cabin.multiple[1:891])\n",
    "mutinformation(rf.label, data.combined$new.title[1:891])\n",
    "mutinformation(rf.label, data.combined$ticket.party.size[1:891])\n",
    "mutinformation(rf.label, discretize(data.combined$avg.fare[1:891]))"
   ]
  },
  {
   "cell_type": "markdown",
   "metadata": {},
   "source": [
    "### Let's Look At Our Best\n",
    "OK, now let's leverage the tsne algorithm to create a 2-D representation of our data suitable for visualization starting with folks our model gets right very often - folks with titles other than 'Mr.\""
   ]
  },
  {
   "cell_type": "code",
   "execution_count": 195,
   "metadata": {},
   "outputs": [
    {
     "data": {},
     "metadata": {},
     "output_type": "display_data"
    },
    {
     "data": {
      "image/png": "[encoded data removed]",
      "text/plain": [
       "plot without title"
      ]
     },
     "metadata": {},
     "output_type": "display_data"
    }
   ],
   "source": [
    "#install.packages(\"Rtsne\")\n",
    "library(Rtsne)\n",
    "most.correct <- data.combined[data.combined$new.title != \"Mr.\",]\n",
    "indexes <- which(most.correct$survived != \"None\")\n",
    "\n",
    "# NOTE - Bug fix for original version. Rtsne needs a seed to ensure consistent output between runs.\n",
    "set.seed(984357)\n",
    "features <- c(\"pclass\", \"new.title\", \"ticket.party.size\", \"avg.fare\")\n",
    "tsne.1 <- Rtsne(most.correct[, features], check_duplicates = FALSE)\n",
    "\n",
    "options(repr.plot.width=6, repr.plot.height=4)\n",
    "\n",
    "ggplot(NULL, aes(x = tsne.1$Y[indexes, 2], y = tsne.1$Y[indexes, 1], color = most.correct$survived[indexes])) +\n",
    "  geom_point() + labs(color = \"Survived\") + ggtitle(\"tsne 2D Visualization of Features for new.title Other than 'Mr.'\")"
   ]
  },
  {
   "cell_type": "code",
   "execution_count": 196,
   "metadata": {},
   "outputs": [
    {
     "data": {
      "text/html": [
       "0.257978857643637"
      ],
      "text/latex": [
       "0.257978857643637"
      ],
      "text/markdown": [
       "0.257978857643637"
      ],
      "text/plain": [
       "[1] 0.2579789"
      ]
     },
     "metadata": {},
     "output_type": "display_data"
    }
   ],
   "source": [
    "# To get a baseline, let's use conditional mutual information on the tsne X and\n",
    "# Y features for females and boys in 1st and 2nd class. The intuition here is that\n",
    "# the combination of these features should be higher than any individual feature\n",
    "# we looked at above.\n",
    "condinformation(most.correct$survived[indexes], discretize(tsne.1$Y[indexes,]))"
   ]
  },
  {
   "cell_type": "code",
   "execution_count": 197,
   "metadata": {},
   "outputs": [
    {
     "data": {
      "text/html": [
       "0.250693207779102"
      ],
      "text/latex": [
       "0.250693207779102"
      ],
      "text/markdown": [
       "0.250693207779102"
      ],
      "text/plain": [
       "[1] 0.2506932"
      ]
     },
     "metadata": {},
     "output_type": "display_data"
    }
   ],
   "source": [
    "# As one more comparison, we can leverage conditional mutual information using\n",
    "# the top two features used in our tree plot - new.title and pclass\n",
    "condinformation(rf.label, data.combined[1:891, c(\"new.title\", \"pclass\")])"
   ]
  },
  {
   "cell_type": "code",
   "execution_count": 198,
   "metadata": {
    "scrolled": false
   },
   "outputs": [
    {
     "data": {},
     "metadata": {},
     "output_type": "display_data"
    },
    {
     "data": {
      "image/png": "[encoded data removed]",
      "text/plain": [
       "plot without title"
      ]
     },
     "metadata": {},
     "output_type": "display_data"
    }
   ],
   "source": [
    "# OK, now let's take a look at adult males since our model has the biggest \n",
    "# potential upside for improving (i.e., the tree predicts incorrectly for 86\n",
    "# adult males). Let's visualize with tsne.\n",
    "misters <- data.combined[data.combined$new.title == \"Mr.\",]\n",
    "indexes <- which(misters$survived != \"None\")\n",
    "\n",
    "tsne.2 <- Rtsne(misters[, features], check_duplicates = FALSE)\n",
    "ggplot(NULL, aes(x = tsne.2$Y[indexes, 1], y = tsne.2$Y[indexes, 2],color = misters$survived[indexes])) +\n",
    "  geom_point() +labs(color = \"Survived\") + ggtitle(\"tsne 2D Visualization of Features for new.title of 'Mr.'\")"
   ]
  },
  {
   "cell_type": "code",
   "execution_count": 199,
   "metadata": {},
   "outputs": [
    {
     "data": {
      "text/html": [
       "0.0755639354045723"
      ],
      "text/latex": [
       "0.0755639354045723"
      ],
      "text/markdown": [
       "0.0755639354045723"
      ],
      "text/plain": [
       "[1] 0.07556394"
      ]
     },
     "metadata": {},
     "output_type": "display_data"
    }
   ],
   "source": [
    "# Now conditional mutual information for tsne features for adult males\n",
    "condinformation(misters$survived[indexes], discretize(tsne.2$Y[indexes,]))"
   ]
  },
  {
   "cell_type": "code",
   "execution_count": 200,
   "metadata": {
    "scrolled": true
   },
   "outputs": [
    {
     "data": {},
     "metadata": {},
     "output_type": "display_data"
    },
    {
     "data": {
      "image/png": "[encoded data removed]",
      "text/plain": [
       "plot without title"
      ]
     },
     "metadata": {},
     "output_type": "display_data"
    }
   ],
   "source": [
    "#\n",
    "# Idea - How about creating tsne featues for all of the training data and\n",
    "# using them in our model?\n",
    "#\n",
    "tsne.3 <- Rtsne(data.combined[, features], check_duplicates = FALSE)\n",
    "ggplot(NULL, aes(x = tsne.3$Y[1:891, 1], y = tsne.3$Y[1:891, 2], \n",
    "                 color = data.combined$survived[1:891])) +\n",
    "  geom_point() +\n",
    "  labs(color = \"Survived\") +\n",
    "  ggtitle(\"tsne 2D Visualization of Features for all Training Data\")"
   ]
  },
  {
   "cell_type": "code",
   "execution_count": 201,
   "metadata": {},
   "outputs": [
    {
     "data": {
      "text/html": [
       "0.213517351171681"
      ],
      "text/latex": [
       "0.213517351171681"
      ],
      "text/markdown": [
       "0.213517351171681"
      ],
      "text/plain": [
       "[1] 0.2135174"
      ]
     },
     "metadata": {},
     "output_type": "display_data"
    }
   ],
   "source": [
    "# Now conditional mutual information for tsne features for all training\n",
    "condinformation(data.combined$survived[1:891], discretize(tsne.3$Y[1:891,]))"
   ]
  },
  {
   "cell_type": "code",
   "execution_count": 202,
   "metadata": {
    "collapsed": true
   },
   "outputs": [],
   "source": [
    "# Add the tsne features to our data frame for use in model building\n",
    "data.combined$tsne.x <- tsne.3$Y[,1]\n",
    "data.combined$tsne.y <- tsne.3$Y[,2]"
   ]
  },
  {
   "cell_type": "code",
   "execution_count": 207,
   "metadata": {},
   "outputs": [
    {
     "data": {},
     "metadata": {},
     "output_type": "display_data"
    },
    {
     "data": {
      "image/png": "[encoded data removed]",
      "text/plain": [
       "plot without title"
      ]
     },
     "metadata": {},
     "output_type": "display_data"
    }
   ],
   "source": [
    "features <- c('tsne.x','tsne.y')\n",
    "\n",
    "tsne.4 <- Rtsne(data.combined[, features], check_duplicates = FALSE)\n",
    "ggplot(NULL, aes(x = tsne.4$Y[1:891, 1], y = tsne.4$Y[1:891, 2], \n",
    "                 color = data.combined$survived[1:891])) +\n",
    "  geom_point() +\n",
    "  labs(color = \"Survived\") +\n",
    "  ggtitle(\"tsne 2D Visualization of Features for all Training Data\")"
   ]
  }
 ],
 "metadata": {
  "kernelspec": {
   "display_name": "R",
   "language": "R",
   "name": "ir"
  },
  "language_info": {
   "codemirror_mode": "r",
   "file_extension": ".r",
   "mimetype": "text/x-r-source",
   "name": "R",
   "pygments_lexer": "r",
   "version": "3.4.1"
  }
 },
 "nbformat": 4,
 "nbformat_minor": 1
}
