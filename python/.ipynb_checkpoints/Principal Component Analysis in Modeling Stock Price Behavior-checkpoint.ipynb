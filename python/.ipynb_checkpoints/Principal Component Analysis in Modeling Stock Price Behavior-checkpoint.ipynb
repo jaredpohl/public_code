{
 "cells": [
  {
   "cell_type": "code",
   "execution_count": 6,
   "metadata": {
    "collapsed": false
   },
   "outputs": [
    {
     "name": "stderr",
     "output_type": "stream",
     "text": [
      "C:\\Users\\ywu\\Anaconda3\\lib\\site-packages\\pandas\\io\\data.py:35: FutureWarning: \n",
      "The pandas.io.data module is moved to a separate package (pandas-datareader) and will be removed from pandas in a future version.\n",
      "After installing the pandas-datareader package (https://github.com/pydata/pandas-datareader), you can change the import ``from pandas.io import data, wb`` to ``from pandas_datareader import data, wb``.\n",
      "  FutureWarning)\n"
     ]
    }
   ],
   "source": [
    "import numpy as np\n",
    "import pandas as pd\n",
    "import pandas.io.data as web\n",
    "from sklearn.decomposition import KernelPCA\n",
    "from yahoo_finance import Share\n",
    "from pandas_datareader import data as wb\n",
    "import pandas_datareader as pdr\n",
    "import fix_yahoo_finance # must pip install first \n",
    "import matplotlib as mpl\n",
    "%matplotlib inline\n",
    "import matplotlib.image as image\n",
    "import datetime\n",
    "from scipy.stats import gmean, hmean\n",
    "import statsmodels.api as sm\n",
    "from statsmodels import regression\n",
    "pd.set_option('display.max_columns', 500)\n",
    "pd.set_option('display.width', 500)\n"
   ]
  },
  {
   "cell_type": "code",
   "execution_count": 5,
   "metadata": {
    "collapsed": true
   },
   "outputs": [],
   "source": [
    "symbols = ['ADS.DE', 'ALV.DE', 'BAS.DE', 'BAYN.DE', 'BEI.DE','BMW.DE', 'CBK.DE', 'CON.DE', 'DAI.DE', 'DB1.DE','DBK.DE',\n",
    "           'DPW.DE', 'DTE.DE', 'EOAN.DE', 'FME.DE','FRE.DE', 'HEI.DE', 'HEN3.DE', 'IFX.DE', 'LHA.DE','LIN.DE', 'LXS.DE', \n",
    "           'MRK.DE', 'MUV2.DE', 'RWE.DE','SAP.DE', 'SDF.DE', 'SIE.DE', 'TKA.DE', 'VOW3.DE','^GDAXI']"
   ]
  },
  {
   "cell_type": "code",
   "execution_count": 4,
   "metadata": {
    "collapsed": false
   },
   "outputs": [],
   "source": [
    "## Helper function to get prices from Yahoo\n",
    "def get_historical_closes(ticker, start_date, end_date):\n",
    "    # get the data for the tickers.  This will be a panel\n",
    "    p = wb.get_data_yahoo(ticker, start_date, end_date)    \n",
    "    # convert the panel to a DataFrame and selection only Adj Close\n",
    "    # while making all index levels columns\n",
    "    d = p.to_frame()['Adj Close'].reset_index()\n",
    "    # rename the columns\n",
    "    d.rename(columns={'minor': 'Ticker', 'Adj Close': 'Close'}, inplace=True)\n",
    "    # pivot each ticker to a column\n",
    "    pivoted = d.pivot(index='Date', columns='Ticker')\n",
    "    # and drop the one level on the columns\n",
    "    pivoted.columns = pivoted.columns.droplevel(0)\n",
    "    return pivoted"
   ]
  },
  {
   "cell_type": "code",
   "execution_count": 8,
   "metadata": {
    "collapsed": true
   },
   "outputs": [],
   "source": [
    "## normalization function\n",
    "scale_function = lambda x: (x - x.mean()) / x.std()"
   ]
  },
  {
   "cell_type": "code",
   "execution_count": 7,
   "metadata": {
    "collapsed": false
   },
   "outputs": [
    {
     "name": "stdout",
     "output_type": "stream",
     "text": [
      "[**********************97%********************** ]  30 of 31 downloaded\n",
      "The following tickers failed to download:\n",
      " CON.DE\n"
     ]
    },
    {
     "data": {
      "text/html": [
       "<div>\n",
       "<table border=\"1\" class=\"dataframe\">\n",
       "  <thead>\n",
       "    <tr style=\"text-align: right;\">\n",
       "      <th>Ticker</th>\n",
       "      <th>ADS.DE</th>\n",
       "      <th>ALV.DE</th>\n",
       "      <th>BAS.DE</th>\n",
       "      <th>BAYN.DE</th>\n",
       "      <th>BEI.DE</th>\n",
       "      <th>BMW.DE</th>\n",
       "      <th>CBK.DE</th>\n",
       "      <th>DAI.DE</th>\n",
       "      <th>DB1.DE</th>\n",
       "      <th>DBK.DE</th>\n",
       "      <th>DPW.DE</th>\n",
       "      <th>DTE.DE</th>\n",
       "      <th>EOAN.DE</th>\n",
       "      <th>FME.DE</th>\n",
       "      <th>FRE.DE</th>\n",
       "      <th>HEI.DE</th>\n",
       "      <th>HEN3.DE</th>\n",
       "      <th>IFX.DE</th>\n",
       "      <th>LHA.DE</th>\n",
       "      <th>LIN.DE</th>\n",
       "      <th>LXS.DE</th>\n",
       "      <th>MRK.DE</th>\n",
       "      <th>MUV2.DE</th>\n",
       "      <th>RWE.DE</th>\n",
       "      <th>SAP.DE</th>\n",
       "      <th>SDF.DE</th>\n",
       "      <th>SIE.DE</th>\n",
       "      <th>TKA.DE</th>\n",
       "      <th>VOW3.DE</th>\n",
       "      <th>^GDAXI</th>\n",
       "    </tr>\n",
       "    <tr>\n",
       "      <th>Date</th>\n",
       "      <th></th>\n",
       "      <th></th>\n",
       "      <th></th>\n",
       "      <th></th>\n",
       "      <th></th>\n",
       "      <th></th>\n",
       "      <th></th>\n",
       "      <th></th>\n",
       "      <th></th>\n",
       "      <th></th>\n",
       "      <th></th>\n",
       "      <th></th>\n",
       "      <th></th>\n",
       "      <th></th>\n",
       "      <th></th>\n",
       "      <th></th>\n",
       "      <th></th>\n",
       "      <th></th>\n",
       "      <th></th>\n",
       "      <th></th>\n",
       "      <th></th>\n",
       "      <th></th>\n",
       "      <th></th>\n",
       "      <th></th>\n",
       "      <th></th>\n",
       "      <th></th>\n",
       "      <th></th>\n",
       "      <th></th>\n",
       "      <th></th>\n",
       "      <th></th>\n",
       "    </tr>\n",
       "  </thead>\n",
       "  <tbody>\n",
       "    <tr>\n",
       "      <th>2015-01-02</th>\n",
       "      <td>53.875507</td>\n",
       "      <td>112.704170</td>\n",
       "      <td>65.247902</td>\n",
       "      <td>103.272835</td>\n",
       "      <td>65.996582</td>\n",
       "      <td>78.777977</td>\n",
       "      <td>10.938932</td>\n",
       "      <td>60.556007</td>\n",
       "      <td>54.470268</td>\n",
       "      <td>21.654064</td>\n",
       "      <td>25.447357</td>\n",
       "      <td>11.554026</td>\n",
       "      <td>11.495591</td>\n",
       "      <td>58.859676</td>\n",
       "      <td>41.521225</td>\n",
       "      <td>54.951122</td>\n",
       "      <td>83.610748</td>\n",
       "      <td>8.471159</td>\n",
       "      <td>13.273395</td>\n",
       "      <td>143.510864</td>\n",
       "      <td>36.604881</td>\n",
       "      <td>74.397034</td>\n",
       "      <td>143.817825</td>\n",
       "      <td>23.613316</td>\n",
       "      <td>55.629818</td>\n",
       "      <td>20.598223</td>\n",
       "      <td>84.603180</td>\n",
       "      <td>20.591486</td>\n",
       "      <td>171.938263</td>\n",
       "      <td>9764.730469</td>\n",
       "    </tr>\n",
       "    <tr>\n",
       "      <th>2015-01-05</th>\n",
       "      <td>52.280823</td>\n",
       "      <td>109.942223</td>\n",
       "      <td>62.457848</td>\n",
       "      <td>99.799934</td>\n",
       "      <td>64.934181</td>\n",
       "      <td>76.155327</td>\n",
       "      <td>10.582759</td>\n",
       "      <td>58.283508</td>\n",
       "      <td>54.359947</td>\n",
       "      <td>20.770908</td>\n",
       "      <td>24.553974</td>\n",
       "      <td>11.199123</td>\n",
       "      <td>10.901318</td>\n",
       "      <td>59.324585</td>\n",
       "      <td>41.399204</td>\n",
       "      <td>53.698166</td>\n",
       "      <td>83.345253</td>\n",
       "      <td>8.291997</td>\n",
       "      <td>13.230837</td>\n",
       "      <td>140.423630</td>\n",
       "      <td>34.201237</td>\n",
       "      <td>74.607384</td>\n",
       "      <td>140.764374</td>\n",
       "      <td>22.542072</td>\n",
       "      <td>53.796497</td>\n",
       "      <td>20.348410</td>\n",
       "      <td>82.049568</td>\n",
       "      <td>20.033634</td>\n",
       "      <td>166.097061</td>\n",
       "      <td>9473.160156</td>\n",
       "    </tr>\n",
       "    <tr>\n",
       "      <th>2015-01-06</th>\n",
       "      <td>52.147137</td>\n",
       "      <td>110.065887</td>\n",
       "      <td>62.439125</td>\n",
       "      <td>100.942345</td>\n",
       "      <td>65.150604</td>\n",
       "      <td>76.826653</td>\n",
       "      <td>10.490055</td>\n",
       "      <td>58.671062</td>\n",
       "      <td>54.102531</td>\n",
       "      <td>20.505085</td>\n",
       "      <td>24.695034</td>\n",
       "      <td>11.067678</td>\n",
       "      <td>10.872648</td>\n",
       "      <td>59.237415</td>\n",
       "      <td>41.818954</td>\n",
       "      <td>53.651062</td>\n",
       "      <td>84.435669</td>\n",
       "      <td>8.081385</td>\n",
       "      <td>13.268666</td>\n",
       "      <td>140.610718</td>\n",
       "      <td>33.998520</td>\n",
       "      <td>74.999413</td>\n",
       "      <td>140.197281</td>\n",
       "      <td>22.348974</td>\n",
       "      <td>52.583836</td>\n",
       "      <td>20.775366</td>\n",
       "      <td>81.977379</td>\n",
       "      <td>20.361494</td>\n",
       "      <td>167.133408</td>\n",
       "      <td>9469.660156</td>\n",
       "    </tr>\n",
       "  </tbody>\n",
       "</table>\n",
       "</div>"
      ],
      "text/plain": [
       "Ticker         ADS.DE      ALV.DE     BAS.DE     BAYN.DE     BEI.DE     BMW.DE     CBK.DE     DAI.DE     DB1.DE     DBK.DE     DPW.DE     DTE.DE    EOAN.DE     FME.DE     FRE.DE     HEI.DE    HEN3.DE    IFX.DE     LHA.DE      LIN.DE     LXS.DE     MRK.DE     MUV2.DE     RWE.DE     SAP.DE     SDF.DE     SIE.DE     TKA.DE     VOW3.DE       ^GDAXI\n",
       "Date                                                                                                                                                                                                                                                                                                                                                      \n",
       "2015-01-02  53.875507  112.704170  65.247902  103.272835  65.996582  78.777977  10.938932  60.556007  54.470268  21.654064  25.447357  11.554026  11.495591  58.859676  41.521225  54.951122  83.610748  8.471159  13.273395  143.510864  36.604881  74.397034  143.817825  23.613316  55.629818  20.598223  84.603180  20.591486  171.938263  9764.730469\n",
       "2015-01-05  52.280823  109.942223  62.457848   99.799934  64.934181  76.155327  10.582759  58.283508  54.359947  20.770908  24.553974  11.199123  10.901318  59.324585  41.399204  53.698166  83.345253  8.291997  13.230837  140.423630  34.201237  74.607384  140.764374  22.542072  53.796497  20.348410  82.049568  20.033634  166.097061  9473.160156\n",
       "2015-01-06  52.147137  110.065887  62.439125  100.942345  65.150604  76.826653  10.490055  58.671062  54.102531  20.505085  24.695034  11.067678  10.872648  59.237415  41.818954  53.651062  84.435669  8.081385  13.268666  140.610718  33.998520  74.999413  140.197281  22.348974  52.583836  20.775366  81.977379  20.361494  167.133408  9469.660156"
      ]
     },
     "execution_count": 7,
     "metadata": {},
     "output_type": "execute_result"
    }
   ],
   "source": [
    "## Get data\n",
    "px_data=(get_historical_closes(symbols,'2015-01-01','2016-01-01'))#.pct_change().dropna()\n",
    "px_data.head(3)"
   ]
  },
  {
   "cell_type": "code",
   "execution_count": 55,
   "metadata": {
    "collapsed": false
   },
   "outputs": [],
   "source": [
    "bm=pd.DataFrame(px_data.pop('^GDAXI'))"
   ]
  },
  {
   "cell_type": "code",
   "execution_count": 64,
   "metadata": {
    "collapsed": false
   },
   "outputs": [],
   "source": [
    "pca = KernelPCA(n_components=1).fit(px_data.apply(scale_function))\n",
    "bm['PCA_1'] = pca.transform(-px_data)"
   ]
  },
  {
   "cell_type": "code",
   "execution_count": 65,
   "metadata": {
    "collapsed": false
   },
   "outputs": [
    {
     "data": {
      "text/plain": [
       "<matplotlib.axes._subplots.AxesSubplot at 0xe3235c6828>"
      ]
     },
     "execution_count": 65,
     "metadata": {},
     "output_type": "execute_result"
    },
    {
     "data": {
      "image/png": "[encoded data removed]",
      "text/plain": [
       "<matplotlib.figure.Figure at 0xe3235ab780>"
      ]
     },
     "metadata": {},
     "output_type": "display_data"
    }
   ],
   "source": [
    "import matplotlib.pyplot as plt\n",
    "%matplotlib inline\n",
    "bm.apply(scale_function).plot(figsize=(8, 4))"
   ]
  },
  {
   "cell_type": "code",
   "execution_count": 62,
   "metadata": {
    "collapsed": false
   },
   "outputs": [],
   "source": []
  },
  {
   "cell_type": "code",
   "execution_count": 63,
   "metadata": {
    "collapsed": true
   },
   "outputs": [],
   "source": [
    "pca = KernelPCA().fit(px_data.apply(scale_function))"
   ]
  },
  {
   "cell_type": "code",
   "execution_count": 35,
   "metadata": {
    "collapsed": false
   },
   "outputs": [
    {
     "data": {
      "text/plain": [
       "array([ 4661.9436023 ,   400.65160827,   281.07548294,   209.27029046,\n",
       "         205.75812287,   196.06099624,   155.94730722,   140.69185633,\n",
       "         127.08839534,   113.12951888])"
      ]
     },
     "execution_count": 35,
     "metadata": {},
     "output_type": "execute_result"
    }
   ],
   "source": [
    "pca.lambdas_[:10]"
   ]
  },
  {
   "cell_type": "code",
   "execution_count": 37,
   "metadata": {
    "collapsed": true
   },
   "outputs": [],
   "source": [
    "get_we = lambda x: x / x.sum()"
   ]
  },
  {
   "cell_type": "code",
   "execution_count": 41,
   "metadata": {
    "collapsed": false
   },
   "outputs": [
    {
     "data": {
      "text/plain": [
       "(115,)"
      ]
     },
     "execution_count": 41,
     "metadata": {},
     "output_type": "execute_result"
    }
   ],
   "source": [
    "pca.lambdas_.shape"
   ]
  },
  {
   "cell_type": "code",
   "execution_count": null,
   "metadata": {
    "collapsed": true
   },
   "outputs": [],
   "source": [
    "pca = KernelPCA(n_components=1).fit(data.apply(scale_function))\n",
    "dax[‘PCA_1’] = pca.transform(-data)"
   ]
  }
 ],
 "metadata": {
  "kernelspec": {
   "display_name": "Python 3",
   "language": "python",
   "name": "python3"
  },
  "language_info": {
   "codemirror_mode": {
    "name": "ipython",
    "version": 3
   },
   "file_extension": ".py",
   "mimetype": "text/x-python",
   "name": "python",
   "nbconvert_exporter": "python",
   "pygments_lexer": "ipython3",
   "version": "3.5.1"
  }
 },
 "nbformat": 4,
 "nbformat_minor": 0
}
