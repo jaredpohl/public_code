{
 "cells": [
  {
   "cell_type": "code",
   "execution_count": 4,
   "metadata": {
    "collapsed": false
   },
   "outputs": [],
   "source": [
    "import pandas as pd\n",
    "import numpy as np\n",
    "from pandas_datareader import data as wb\n",
    "from datetime import datetime, timedelta\n",
    "from statsmodels import regression\n",
    "import statsmodels.api as sm\n",
    "import matplotlib.pyplot as plt\n",
    "import matplotlib.pylab as pylab\n",
    "import seaborn as sns\n",
    "from scipy import stats\n",
    "import finsymbols\n",
    "%matplotlib inline\n",
    "params = {'legend.fontsize': 'x-large','figure.figsize': (10, 5),'axes.labelsize': 'x-large','axes.titlesize':'x-large',\n",
    "         'xtick.labelsize':'x-large','ytick.labelsize':'x-large'}#,'axes.facecolor': 'white'}\n",
    "pylab.rcParams.update(params)"
   ]
  },
  {
   "cell_type": "code",
   "execution_count": 5,
   "metadata": {
    "collapsed": true
   },
   "outputs": [],
   "source": [
    "## Helper function to get prices from Yahoo\n",
    "def get_historical_closes(ticker, start_date, end_date):\n",
    "    # get the data for the tickers.  This will be a panel\n",
    "    p = wb.DataReader(ticker, \"yahoo\", start_date, end_date)    \n",
    "    # convert the panel to a DataFrame and selection only Adj Close\n",
    "    # while making all index levels columns\n",
    "    d = p.to_frame()['Adj Close'].reset_index()\n",
    "    # rename the columns\n",
    "    d.rename(columns={'minor': 'Ticker', 'Adj Close': 'Close'}, inplace=True)\n",
    "    # pivot each ticker to a column\n",
    "    pivoted = d.pivot(index='Date', columns='Ticker')\n",
    "    # and drop the one level on the columns\n",
    "    pivoted.columns = pivoted.columns.droplevel(0)\n",
    "    return pivoted"
   ]
  },
  {
   "cell_type": "markdown",
   "metadata": {},
   "source": [
    "### Collect Data"
   ]
  },
  {
   "cell_type": "code",
   "execution_count": 7,
   "metadata": {
    "collapsed": false
   },
   "outputs": [],
   "source": [
    "#define time period\n",
    "start_date = '2015-10-31'\n",
    "end_date = '2016-10-31'\n",
    "#tickers = ['MSFT', 'AAPL', 'YHOO', 'FB', 'TSLA']\n",
    "tickers = ['IBM','MSFT', 'AAPL', 'YHOO', 'FB', 'TSLA','A','AMG','AFL','AET','AES','AAP','ADBE','AYI','ATVI','ACN','ABBV','ABT','MMM','CVX','WFC']\n",
    "\n",
    "#get data for stocks and benchmark\n",
    "port = get_historical_closes(tickers, start_date=start_date, end_date=end_date).pct_change()[1:]\n",
    "#bm = ret[['SPY']]\n",
    "bm = port.mean(axis=1)\n",
    "n = len(tickers)\n",
    "\n",
    "# Create benchmark weights and identity matrix\n",
    "bm_w =np.empty(n); bm_w.fill(1/n)\n",
    "ones = np.ones(n)"
   ]
  },
  {
   "cell_type": "markdown",
   "metadata": {},
   "source": [
    "### Calculate Beta"
   ]
  },
  {
   "cell_type": "code",
   "execution_count": 8,
   "metadata": {
    "collapsed": false
   },
   "outputs": [
    {
     "data": {
      "text/plain": [
       "array([ 1.07436801,  0.83538668,  0.85456093,  0.85496859,  0.95705326,\n",
       "        0.93548698,  1.11418932,  1.01870641,  0.93331059,  0.72157354,\n",
       "        1.75092618,  1.11862188,  1.23980768,  0.96892442,  0.89925914,\n",
       "        0.74103009,  0.59266538,  0.99721288,  1.28024953,  0.92618272,\n",
       "        1.18551578])"
      ]
     },
     "execution_count": 8,
     "metadata": {},
     "output_type": "execute_result"
    },
    {
     "data": {
      "image/png": "[encoded data removed]",
      "text/plain": [
       "<matplotlib.figure.Figure at 0xb079362eb8>"
      ]
     },
     "metadata": {},
     "output_type": "display_data"
    }
   ],
   "source": [
    "X = sm.add_constant(bm)             # add constant for intercept\n",
    "y = port\n",
    "model=sm.OLS(y, X)                  # regress using Benchmark as dependent\n",
    "results = model.fit()\n",
    "\n",
    "\n",
    "beta=results.params.iloc[1].values  # get all regresion coefficients\n",
    "cov=(port.cov().values*252)\n",
    "inv=np.linalg.inv(cov)\n",
    "##\n",
    "plt.hist(pd.Series(beta), bins=20, normed=True);\n",
    "plt.title('Beta Distribution')\n",
    "beta"
   ]
  },
  {
   "cell_type": "markdown",
   "metadata": {},
   "source": [
    "### Generate Benchmark Neutral Alpha"
   ]
  },
  {
   "cell_type": "code",
   "execution_count": 9,
   "metadata": {
    "collapsed": false
   },
   "outputs": [],
   "source": [
    "# Create alpha from random, sorry, this is the hardest part of the process\n",
    "# \n",
    "alpha=np.random.normal(0,0.05,n)\n",
    "# create benchmark weight array\n",
    "bm_a=alpha.dot(bm_w)\n",
    "\n",
    "neu_alpha=[]\n",
    "for i in range(0,n):\n",
    "    #neu_alpha.append(beta[i])\n",
    "    neu_alpha.append(alpha[i]-beta[i]*bm_a)\n",
    "neu_alpha=np.asarray(neu_alpha)"
   ]
  },
  {
   "cell_type": "code",
   "execution_count": 10,
   "metadata": {
    "collapsed": false
   },
   "outputs": [
    {
     "data": {
      "text/plain": [
       "array([-0.03179847,  0.00596446, -0.02179605, -0.11345231, -0.01388394,\n",
       "        0.08161736, -0.03076256, -0.01581203,  0.0071493 ,  0.02765382,\n",
       "       -0.00714252,  0.0942388 ,  0.05996972, -0.0194608 , -0.01606961,\n",
       "        0.02823062,  0.01043695,  0.0389923 , -0.05655553,  0.0293672 ,\n",
       "       -0.05688673])"
      ]
     },
     "execution_count": 10,
     "metadata": {},
     "output_type": "execute_result"
    }
   ],
   "source": [
    "neu_alpha"
   ]
  },
  {
   "cell_type": "markdown",
   "metadata": {
    "collapsed": true
   },
   "source": [
    "### Generate Benchmark Data"
   ]
  },
  {
   "cell_type": "code",
   "execution_count": 11,
   "metadata": {
    "collapsed": false
   },
   "outputs": [
    {
     "data": {
      "text/plain": [
       "0.17019014192814733"
      ]
     },
     "execution_count": 11,
     "metadata": {},
     "output_type": "execute_result"
    }
   ],
   "source": [
    "#create default benchmark equal weight:\n",
    "bm_w =np.empty(n); bm_w.fill(1/n)\n",
    "\n",
    "#create ones array\n",
    "ones = np.ones(n)\n",
    "\n",
    "#calculate benchmark Standard deviation\n",
    "bm_stdev=(bm_w.T.dot(cov).dot(bm_w))**.5\n",
    "bm_stdev"
   ]
  },
  {
   "cell_type": "markdown",
   "metadata": {},
   "source": [
    "### Generate unconstrained x from alpha "
   ]
  },
  {
   "cell_type": "code",
   "execution_count": 12,
   "metadata": {
    "collapsed": false
   },
   "outputs": [
    {
     "name": "stdout",
     "output_type": "stream",
     "text": [
      "Active Portfolio Return: 1.09614142318\n",
      "Active Portfolio Risk: 1.03943379818\n",
      "Information Ratio: 1.05455626429\n",
      "x alpha weights: [-0.91285873 -0.1917264  -0.57116034 -1.68911469 -0.83562946  3.2771253\n",
      " -2.20144229 -0.1837884   0.56981471  1.32959447 -0.66200745  1.76645721\n",
      "  1.32192596 -0.52381082 -1.15660701  0.6150033   0.02790708  0.97705938\n",
      " -0.27016974  1.63677945 -1.32335154]\n"
     ]
    }
   ],
   "source": [
    "# Generate unconstrained x vector\n",
    "x_a=inv.dot(neu_alpha)/(abs(ones.dot(inv).dot(neu_alpha)))\n",
    "x_a\n",
    "\n",
    "# Gener\n",
    "ret_a=x_a.dot(alpha)\n",
    "risk_a=(x_a.dot(cov).dot(x_a))**.5\n",
    "ir=ret_a/risk_a\n",
    "print('Active Portfolio Return:', ret_a)\n",
    "print('Active Portfolio Risk:', risk_a)\n",
    "print('Information Ratio:',ir)\n",
    "print('x alpha weights:',x_a)"
   ]
  },
  {
   "cell_type": "markdown",
   "metadata": {},
   "source": [
    "### Generate X_e from VCV"
   ]
  },
  {
   "cell_type": "code",
   "execution_count": 13,
   "metadata": {
    "collapsed": false
   },
   "outputs": [
    {
     "name": "stdout",
     "output_type": "stream",
     "text": [
      "Beta of x_e portfolio: 0.52772338978\n",
      "Alpha of x_e portfolio: 0.0155077241053\n",
      "Exposure vector of x_e: [ 0.03554881  0.08177416  0.09307598  0.04059654  0.04561951  0.05376135\n",
      " -0.06401914  0.01579924  0.046953    0.29419451 -0.24121701  0.00981092\n",
      " -0.02327452 -0.01046672  0.02902797  0.12531166  0.31484661  0.01363629\n",
      "  0.03987579  0.09727605  0.00186902]\n"
     ]
    }
   ],
   "source": [
    "# Generate x_e\n",
    "x_e=inv.dot(ones)/ones.T.dot(inv).dot(ones)\n",
    "\n",
    "#generate alpha_e and beta_e\n",
    "beta_e=beta.dot(x_e)\n",
    "alpha_e=neu_alpha.dot(x_e)\n",
    "\n",
    "\n",
    "print('Beta of x_e portfolio:', beta_e)\n",
    "print('Alpha of x_e portfolio:', alpha_e)\n",
    "print('Exposure vector of x_e:',x_e)"
   ]
  },
  {
   "cell_type": "code",
   "execution_count": 14,
   "metadata": {
    "collapsed": true
   },
   "outputs": [],
   "source": [
    "r_excess=0.06"
   ]
  },
  {
   "cell_type": "markdown",
   "metadata": {},
   "source": [
    "### Generate Optimal Active Risk"
   ]
  },
  {
   "cell_type": "code",
   "execution_count": 19,
   "metadata": {
    "collapsed": false
   },
   "outputs": [
    {
     "name": "stdout",
     "output_type": "stream",
     "text": [
      "Active Weights: [-0.05275551 -0.01758661 -0.04034759 -0.09716104 -0.04960088  0.18150011\n",
      " -0.11357105 -0.00925597  0.02954594  0.04287813 -0.00553242  0.10150762\n",
      "  0.08037675 -0.02530443 -0.06573058  0.02273351 -0.03304077  0.05650657\n",
      " -0.01700696  0.08373982 -0.07189465]\n",
      "Optimal Weights: [-0.00513646  0.03003244  0.00727146 -0.049542   -0.00198183  0.22911916\n",
      " -0.065952    0.03836308  0.07716499  0.09049718  0.04208663  0.14912667\n",
      "  0.1279958   0.02231462 -0.01811153  0.07035256  0.01457828  0.10412561\n",
      "  0.03061209  0.13135886 -0.0242756 ]\n",
      "Total Portfolio Weight 1.0\n",
      "Excess Return 0.06\n"
     ]
    },
    {
     "data": {
      "text/plain": [
       "[<matplotlib.lines.Line2D at 0xb07943eb38>]"
      ]
     },
     "execution_count": 19,
     "metadata": {},
     "output_type": "execute_result"
    },
    {
     "data": {
      "image/png": "[encoded data removed]",
      "text/plain": [
       "<matplotlib.figure.Figure at 0xb0793e37b8>"
      ]
     },
     "metadata": {},
     "output_type": "display_data"
    }
   ],
   "source": [
    "denom=(1-beta_e)*ret_a-alpha_e\n",
    "\n",
    "#active portfolio\n",
    "w_a=[]\n",
    "for i in range(0,n):\n",
    "    w_a.append(r_excess*((1-beta_e)*x_a[i]-x_e[i]+beta_e*bm_w[i])/denom)\n",
    "w_a = np.array(w_a)\n",
    "\n",
    "# calculate optimal portfolio\n",
    "w_optimal = w_a+bm_w\n",
    "\n",
    "print('Active Weights:', w_a)\n",
    "print('Optimal Weights:', w_optimal)\n",
    "print('Total Portfolio Weight',w_optimal.sum())\n",
    "print('Excess Return',w_optimal.dot(neu_alpha).sum())\n",
    "\n",
    "plt.plot(w_a, alpha, 'o')"
   ]
  },
  {
   "cell_type": "code",
   "execution_count": 16,
   "metadata": {
    "collapsed": false
   },
   "outputs": [
    {
     "data": {
      "text/html": [
       "<div>\n",
       "<table border=\"1\" class=\"dataframe\">\n",
       "  <thead>\n",
       "    <tr style=\"text-align: right;\">\n",
       "      <th></th>\n",
       "      <th>id</th>\n",
       "      <th>neu_alpha</th>\n",
       "      <th>w_a</th>\n",
       "      <th>w_optimal</th>\n",
       "    </tr>\n",
       "  </thead>\n",
       "  <tbody>\n",
       "    <tr>\n",
       "      <th>6</th>\n",
       "      <td>ADBE</td>\n",
       "      <td>-0.030763</td>\n",
       "      <td>-0.113571</td>\n",
       "      <td>-0.065952</td>\n",
       "    </tr>\n",
       "    <tr>\n",
       "      <th>3</th>\n",
       "      <td>ABBV</td>\n",
       "      <td>-0.113452</td>\n",
       "      <td>-0.097161</td>\n",
       "      <td>-0.049542</td>\n",
       "    </tr>\n",
       "    <tr>\n",
       "      <th>20</th>\n",
       "      <td>YHOO</td>\n",
       "      <td>-0.056887</td>\n",
       "      <td>-0.071895</td>\n",
       "      <td>-0.024276</td>\n",
       "    </tr>\n",
       "    <tr>\n",
       "      <th>14</th>\n",
       "      <td>FB</td>\n",
       "      <td>-0.016070</td>\n",
       "      <td>-0.065731</td>\n",
       "      <td>-0.018112</td>\n",
       "    </tr>\n",
       "    <tr>\n",
       "      <th>0</th>\n",
       "      <td>A</td>\n",
       "      <td>-0.031798</td>\n",
       "      <td>-0.052756</td>\n",
       "      <td>-0.005136</td>\n",
       "    </tr>\n",
       "    <tr>\n",
       "      <th>4</th>\n",
       "      <td>ABT</td>\n",
       "      <td>-0.013884</td>\n",
       "      <td>-0.049601</td>\n",
       "      <td>-0.001982</td>\n",
       "    </tr>\n",
       "    <tr>\n",
       "      <th>2</th>\n",
       "      <td>AAPL</td>\n",
       "      <td>-0.021796</td>\n",
       "      <td>-0.040348</td>\n",
       "      <td>0.007271</td>\n",
       "    </tr>\n",
       "    <tr>\n",
       "      <th>16</th>\n",
       "      <td>MMM</td>\n",
       "      <td>0.010437</td>\n",
       "      <td>-0.033041</td>\n",
       "      <td>0.014578</td>\n",
       "    </tr>\n",
       "    <tr>\n",
       "      <th>13</th>\n",
       "      <td>CVX</td>\n",
       "      <td>-0.019461</td>\n",
       "      <td>-0.025304</td>\n",
       "      <td>0.022315</td>\n",
       "    </tr>\n",
       "    <tr>\n",
       "      <th>1</th>\n",
       "      <td>AAP</td>\n",
       "      <td>0.005964</td>\n",
       "      <td>-0.017587</td>\n",
       "      <td>0.030032</td>\n",
       "    </tr>\n",
       "    <tr>\n",
       "      <th>18</th>\n",
       "      <td>TSLA</td>\n",
       "      <td>-0.056556</td>\n",
       "      <td>-0.017007</td>\n",
       "      <td>0.030612</td>\n",
       "    </tr>\n",
       "    <tr>\n",
       "      <th>7</th>\n",
       "      <td>AES</td>\n",
       "      <td>-0.015812</td>\n",
       "      <td>-0.009256</td>\n",
       "      <td>0.038363</td>\n",
       "    </tr>\n",
       "    <tr>\n",
       "      <th>10</th>\n",
       "      <td>AMG</td>\n",
       "      <td>-0.007143</td>\n",
       "      <td>-0.005532</td>\n",
       "      <td>0.042087</td>\n",
       "    </tr>\n",
       "    <tr>\n",
       "      <th>15</th>\n",
       "      <td>IBM</td>\n",
       "      <td>0.028231</td>\n",
       "      <td>0.022734</td>\n",
       "      <td>0.070353</td>\n",
       "    </tr>\n",
       "    <tr>\n",
       "      <th>8</th>\n",
       "      <td>AET</td>\n",
       "      <td>0.007149</td>\n",
       "      <td>0.029546</td>\n",
       "      <td>0.077165</td>\n",
       "    </tr>\n",
       "    <tr>\n",
       "      <th>9</th>\n",
       "      <td>AFL</td>\n",
       "      <td>0.027654</td>\n",
       "      <td>0.042878</td>\n",
       "      <td>0.090497</td>\n",
       "    </tr>\n",
       "    <tr>\n",
       "      <th>17</th>\n",
       "      <td>MSFT</td>\n",
       "      <td>0.038992</td>\n",
       "      <td>0.056507</td>\n",
       "      <td>0.104126</td>\n",
       "    </tr>\n",
       "    <tr>\n",
       "      <th>12</th>\n",
       "      <td>AYI</td>\n",
       "      <td>0.059970</td>\n",
       "      <td>0.080377</td>\n",
       "      <td>0.127996</td>\n",
       "    </tr>\n",
       "    <tr>\n",
       "      <th>19</th>\n",
       "      <td>WFC</td>\n",
       "      <td>0.029367</td>\n",
       "      <td>0.083740</td>\n",
       "      <td>0.131359</td>\n",
       "    </tr>\n",
       "    <tr>\n",
       "      <th>11</th>\n",
       "      <td>ATVI</td>\n",
       "      <td>0.094239</td>\n",
       "      <td>0.101508</td>\n",
       "      <td>0.149127</td>\n",
       "    </tr>\n",
       "    <tr>\n",
       "      <th>5</th>\n",
       "      <td>ACN</td>\n",
       "      <td>0.081617</td>\n",
       "      <td>0.181500</td>\n",
       "      <td>0.229119</td>\n",
       "    </tr>\n",
       "  </tbody>\n",
       "</table>\n",
       "</div>"
      ],
      "text/plain": [
       "      id  neu_alpha       w_a  w_optimal\n",
       "6   ADBE  -0.030763 -0.113571  -0.065952\n",
       "3   ABBV  -0.113452 -0.097161  -0.049542\n",
       "20  YHOO  -0.056887 -0.071895  -0.024276\n",
       "14    FB  -0.016070 -0.065731  -0.018112\n",
       "0      A  -0.031798 -0.052756  -0.005136\n",
       "4    ABT  -0.013884 -0.049601  -0.001982\n",
       "2   AAPL  -0.021796 -0.040348   0.007271\n",
       "16   MMM   0.010437 -0.033041   0.014578\n",
       "13   CVX  -0.019461 -0.025304   0.022315\n",
       "1    AAP   0.005964 -0.017587   0.030032\n",
       "18  TSLA  -0.056556 -0.017007   0.030612\n",
       "7    AES  -0.015812 -0.009256   0.038363\n",
       "10   AMG  -0.007143 -0.005532   0.042087\n",
       "15   IBM   0.028231  0.022734   0.070353\n",
       "8    AET   0.007149  0.029546   0.077165\n",
       "9    AFL   0.027654  0.042878   0.090497\n",
       "17  MSFT   0.038992  0.056507   0.104126\n",
       "12   AYI   0.059970  0.080377   0.127996\n",
       "19   WFC   0.029367  0.083740   0.131359\n",
       "11  ATVI   0.094239  0.101508   0.149127\n",
       "5    ACN   0.081617  0.181500   0.229119"
      ]
     },
     "execution_count": 16,
     "metadata": {},
     "output_type": "execute_result"
    },
    {
     "data": {
      "image/png": "[encoded data removed]",
      "text/plain": [
       "<matplotlib.figure.Figure at 0xb07a78fdd8>"
      ]
     },
     "metadata": {},
     "output_type": "display_data"
    }
   ],
   "source": [
    "df_final=pd.DataFrame({'id': port.columns,\n",
    "                       'neu_alpha': neu_alpha,\n",
    "                       'w_a': w_a,\n",
    "                       'w_optimal': w_optimal\n",
    "                      })\n",
    "df_final=df_final.sort_values(by='w_a')\n",
    "ax = sns.barplot(x='id',y='w_a', data=df_final)\n",
    "df_final"
   ]
  }
 ],
 "metadata": {
  "kernelspec": {
   "display_name": "Python 3",
   "language": "python",
   "name": "python3"
  },
  "language_info": {
   "codemirror_mode": {
    "name": "ipython",
    "version": 3
   },
   "file_extension": ".py",
   "mimetype": "text/x-python",
   "name": "python",
   "nbconvert_exporter": "python",
   "pygments_lexer": "ipython3",
   "version": "3.5.1"
  }
 },
 "nbformat": 4,
 "nbformat_minor": 0
}
